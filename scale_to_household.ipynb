{
 "cells": [
  {
   "cell_type": "code",
   "execution_count": 7,
   "metadata": {},
   "outputs": [],
   "source": [
    "import pandas as pd\n",
    "import numpy as np\n",
    "import matplotlib.pyplot as plt\n",
    "import datetime as dt\n",
    "\n",
    "from typing import Optional"
   ]
  },
  {
   "cell_type": "code",
   "execution_count": 4,
   "metadata": {},
   "outputs": [],
   "source": [
    "df1 = pd.read_pickle('data/final_dataframe.pkl')\n",
    "df2 = pd.read_pickle('data/solar_predictions.pkl')"
   ]
  },
  {
   "cell_type": "code",
   "execution_count": 5,
   "metadata": {},
   "outputs": [],
   "source": [
    "def scale_solar(df:pd.DataFrame,solar_col_name:str,solar_capacity:float) -> None:\n",
    "    # normalize the solar data so the max output is 1\n",
    "    df[solar_col_name] /= 10770 #df[solar_col_name].max()\n",
    "    # multiply by installed capacity so it peaks at around the installed capacity\n",
    "    df[solar_col_name] *= solar_capacity"
   ]
  },
  {
   "cell_type": "code",
   "execution_count": 1,
   "metadata": {},
   "outputs": [],
   "source": [
    "SCALING_FACTOR_CONSUMPTION = 20 * 2900 / 5e+08"
   ]
  },
  {
   "cell_type": "code",
   "execution_count": null,
   "metadata": {},
   "outputs": [],
   "source": [
    "def scale_consumption(df:pd.DataFrame,consumption_col_name:str,scaling_factor_consumption:float) -> None:\n",
    "    df[consumption_col_name] = df[consumption_col_name] * scaling_factor_consumption"
   ]
  }
 ],
 "metadata": {
  "kernelspec": {
   "display_name": ".venv",
   "language": "python",
   "name": "python3"
  },
  "language_info": {
   "codemirror_mode": {
    "name": "ipython",
    "version": 3
   },
   "file_extension": ".py",
   "mimetype": "text/x-python",
   "name": "python",
   "nbconvert_exporter": "python",
   "pygments_lexer": "ipython3",
   "version": "3.11.3"
  },
  "orig_nbformat": 4
 },
 "nbformat": 4,
 "nbformat_minor": 2
}
