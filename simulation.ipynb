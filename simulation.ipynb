{
 "cells": [
  {
   "cell_type": "code",
   "execution_count": 2,
   "metadata": {},
   "outputs": [],
   "source": [
    "import numpy as np\n",
    "import pandas as pd"
   ]
  },
  {
   "cell_type": "code",
   "execution_count": 125,
   "metadata": {},
   "outputs": [],
   "source": [
    "df = pd.read_pickle('data/final_dataframe.pkl')\n",
    "df_solar_pred = pd.read_pickle('data/solar_predictions.pkl')"
   ]
  },
  {
   "cell_type": "code",
   "execution_count": 178,
   "metadata": {},
   "outputs": [],
   "source": [
    "df_load = df[['Date','Total (grid load) [MWh] Original resolutions']].copy()"
   ]
  },
  {
   "cell_type": "code",
   "execution_count": 182,
   "metadata": {},
   "outputs": [
    {
     "data": {
      "text/plain": [
       "Date                                            2022-06-07 23:45:00\n",
       "Total (grid load) [MWh] Original resolutions                11732.5\n",
       "Name: 2022-06-07 23:45:00, dtype: object"
      ]
     },
     "execution_count": 182,
     "metadata": {},
     "output_type": "execute_result"
    }
   ],
   "source": [
    "df_load.set_index(df_load['Date']).loc['2022-06-07 23:45:00':]"
   ]
  },
  {
   "cell_type": "code",
   "execution_count": 13,
   "metadata": {},
   "outputs": [
    {
     "data": {
      "text/plain": [
       "(96,)"
      ]
     },
     "execution_count": 13,
     "metadata": {},
     "output_type": "execute_result"
    }
   ],
   "source": [
    "df_solar_pred.iloc[0:96,1].values"
   ]
  },
  {
   "cell_type": "code",
   "execution_count": 38,
   "metadata": {},
   "outputs": [],
   "source": [
    "arr = np.array([[2,3,4]])"
   ]
  },
  {
   "cell_type": "code",
   "execution_count": 41,
   "metadata": {},
   "outputs": [],
   "source": [
    "arr = np.append(arr,np.array([[1,2,3]]),axis=0)"
   ]
  },
  {
   "cell_type": "code",
   "execution_count": 42,
   "metadata": {},
   "outputs": [
    {
     "data": {
      "text/plain": [
       "array([[2, 3, 4],\n",
       "       [1, 2, 3],\n",
       "       [1, 2, 3]])"
      ]
     },
     "execution_count": 42,
     "metadata": {},
     "output_type": "execute_result"
    }
   ],
   "source": [
    "arr"
   ]
  },
  {
   "cell_type": "code",
   "execution_count": 123,
   "metadata": {},
   "outputs": [],
   "source": [
    "df_solar_pred['time'] = df_solar_pred.Date"
   ]
  },
  {
   "cell_type": "code",
   "execution_count": 129,
   "metadata": {},
   "outputs": [],
   "source": [
    "df_new = df_solar_pred.iloc[0:10,:].copy()"
   ]
  },
  {
   "cell_type": "code",
   "execution_count": 130,
   "metadata": {},
   "outputs": [],
   "source": [
    "df_new['time'] = df_new.Date"
   ]
  },
  {
   "cell_type": "code",
   "execution_count": 136,
   "metadata": {},
   "outputs": [
    {
     "data": {
      "text/html": [
       "<div>\n",
       "<style scoped>\n",
       "    .dataframe tbody tr th:only-of-type {\n",
       "        vertical-align: middle;\n",
       "    }\n",
       "\n",
       "    .dataframe tbody tr th {\n",
       "        vertical-align: top;\n",
       "    }\n",
       "\n",
       "    .dataframe thead th {\n",
       "        text-align: right;\n",
       "    }\n",
       "</style>\n",
       "<table border=\"1\" class=\"dataframe\">\n",
       "  <thead>\n",
       "    <tr style=\"text-align: right;\">\n",
       "      <th></th>\n",
       "      <th>Date</th>\n",
       "      <th>output</th>\n",
       "      <th>time</th>\n",
       "    </tr>\n",
       "  </thead>\n",
       "  <tbody>\n",
       "    <tr>\n",
       "      <th>0</th>\n",
       "      <td>2022-06-07 23:45:00</td>\n",
       "      <td>[-97.35642, -61.52329, -22.698582, -57.128147,...</td>\n",
       "      <td>1</td>\n",
       "    </tr>\n",
       "    <tr>\n",
       "      <th>1</th>\n",
       "      <td>2022-06-08 00:00:00</td>\n",
       "      <td>[-88.75584, -53.629368, -29.295261, -53.03745,...</td>\n",
       "      <td>1</td>\n",
       "    </tr>\n",
       "    <tr>\n",
       "      <th>2</th>\n",
       "      <td>2022-06-08 00:15:00</td>\n",
       "      <td>[-97.62449, -67.186745, -56.567722, -67.912575...</td>\n",
       "      <td>1</td>\n",
       "    </tr>\n",
       "    <tr>\n",
       "      <th>3</th>\n",
       "      <td>2022-06-08 00:30:00</td>\n",
       "      <td>[-123.489845, -100.397194, -99.04954, -98.3857...</td>\n",
       "      <td>1</td>\n",
       "    </tr>\n",
       "    <tr>\n",
       "      <th>4</th>\n",
       "      <td>2022-06-08 00:45:00</td>\n",
       "      <td>[-153.38632, -138.58078, -142.07236, -130.3119...</td>\n",
       "      <td>1</td>\n",
       "    </tr>\n",
       "    <tr>\n",
       "      <th>5</th>\n",
       "      <td>2022-06-08 01:00:00</td>\n",
       "      <td>[-172.66953, -165.39609, -170.77866, -149.5700...</td>\n",
       "      <td>1</td>\n",
       "    </tr>\n",
       "    <tr>\n",
       "      <th>6</th>\n",
       "      <td>2022-06-08 01:15:00</td>\n",
       "      <td>[-176.24765, -175.06406, -180.67783, -151.5079...</td>\n",
       "      <td>1</td>\n",
       "    </tr>\n",
       "    <tr>\n",
       "      <th>7</th>\n",
       "      <td>2022-06-08 01:30:00</td>\n",
       "      <td>[-166.76474, -169.70395, -174.1677, -139.12875...</td>\n",
       "      <td>1</td>\n",
       "    </tr>\n",
       "    <tr>\n",
       "      <th>8</th>\n",
       "      <td>2022-06-08 01:45:00</td>\n",
       "      <td>[-148.64633, -153.61435, -155.68674, -117.5275...</td>\n",
       "      <td>1</td>\n",
       "    </tr>\n",
       "    <tr>\n",
       "      <th>9</th>\n",
       "      <td>2022-06-08 02:00:00</td>\n",
       "      <td>[-127.33689, -132.21762, -131.09116, -93.17295...</td>\n",
       "      <td>1</td>\n",
       "    </tr>\n",
       "  </tbody>\n",
       "</table>\n",
       "</div>"
      ],
      "text/plain": [
       "                 Date                                             output time\n",
       "0 2022-06-07 23:45:00  [-97.35642, -61.52329, -22.698582, -57.128147,...    1\n",
       "1 2022-06-08 00:00:00  [-88.75584, -53.629368, -29.295261, -53.03745,...    1\n",
       "2 2022-06-08 00:15:00  [-97.62449, -67.186745, -56.567722, -67.912575...    1\n",
       "3 2022-06-08 00:30:00  [-123.489845, -100.397194, -99.04954, -98.3857...    1\n",
       "4 2022-06-08 00:45:00  [-153.38632, -138.58078, -142.07236, -130.3119...    1\n",
       "5 2022-06-08 01:00:00  [-172.66953, -165.39609, -170.77866, -149.5700...    1\n",
       "6 2022-06-08 01:15:00  [-176.24765, -175.06406, -180.67783, -151.5079...    1\n",
       "7 2022-06-08 01:30:00  [-166.76474, -169.70395, -174.1677, -139.12875...    1\n",
       "8 2022-06-08 01:45:00  [-148.64633, -153.61435, -155.68674, -117.5275...    1\n",
       "9 2022-06-08 02:00:00  [-127.33689, -132.21762, -131.09116, -93.17295...    1"
      ]
     },
     "execution_count": 136,
     "metadata": {},
     "output_type": "execute_result"
    }
   ],
   "source": [
    "df_new"
   ]
  },
  {
   "cell_type": "code",
   "execution_count": 137,
   "metadata": {},
   "outputs": [
    {
     "data": {
      "text/plain": [
       "array(['2022-06-08T02:00:00.000000000', '2022-06-08T02:15:00.000000000',\n",
       "       '2022-06-08T02:30:00.000000000', '2022-06-08T02:45:00.000000000',\n",
       "       '2022-06-08T03:00:00.000000000', '2022-06-08T03:15:00.000000000',\n",
       "       '2022-06-08T03:30:00.000000000', '2022-06-08T03:45:00.000000000',\n",
       "       '2022-06-08T04:00:00.000000000', '2022-06-08T04:15:00.000000000',\n",
       "       '2022-06-08T04:30:00.000000000', '2022-06-08T04:45:00.000000000',\n",
       "       '2022-06-08T05:00:00.000000000', '2022-06-08T05:15:00.000000000',\n",
       "       '2022-06-08T05:30:00.000000000', '2022-06-08T05:45:00.000000000',\n",
       "       '2022-06-08T06:00:00.000000000', '2022-06-08T06:15:00.000000000',\n",
       "       '2022-06-08T06:30:00.000000000', '2022-06-08T06:45:00.000000000',\n",
       "       '2022-06-08T07:00:00.000000000', '2022-06-08T07:15:00.000000000',\n",
       "       '2022-06-08T07:30:00.000000000', '2022-06-08T07:45:00.000000000',\n",
       "       '2022-06-08T08:00:00.000000000', '2022-06-08T08:15:00.000000000',\n",
       "       '2022-06-08T08:30:00.000000000', '2022-06-08T08:45:00.000000000',\n",
       "       '2022-06-08T09:00:00.000000000', '2022-06-08T09:15:00.000000000',\n",
       "       '2022-06-08T09:30:00.000000000', '2022-06-08T09:45:00.000000000',\n",
       "       '2022-06-08T10:00:00.000000000', '2022-06-08T10:15:00.000000000',\n",
       "       '2022-06-08T10:30:00.000000000', '2022-06-08T10:45:00.000000000',\n",
       "       '2022-06-08T11:00:00.000000000', '2022-06-08T11:15:00.000000000',\n",
       "       '2022-06-08T11:30:00.000000000', '2022-06-08T11:45:00.000000000',\n",
       "       '2022-06-08T12:00:00.000000000', '2022-06-08T12:15:00.000000000',\n",
       "       '2022-06-08T12:30:00.000000000', '2022-06-08T12:45:00.000000000',\n",
       "       '2022-06-08T13:00:00.000000000', '2022-06-08T13:15:00.000000000',\n",
       "       '2022-06-08T13:30:00.000000000', '2022-06-08T13:45:00.000000000',\n",
       "       '2022-06-08T14:00:00.000000000', '2022-06-08T14:15:00.000000000',\n",
       "       '2022-06-08T14:30:00.000000000', '2022-06-08T14:45:00.000000000',\n",
       "       '2022-06-08T15:00:00.000000000', '2022-06-08T15:15:00.000000000',\n",
       "       '2022-06-08T15:30:00.000000000', '2022-06-08T15:45:00.000000000',\n",
       "       '2022-06-08T16:00:00.000000000', '2022-06-08T16:15:00.000000000',\n",
       "       '2022-06-08T16:30:00.000000000', '2022-06-08T16:45:00.000000000',\n",
       "       '2022-06-08T17:00:00.000000000', '2022-06-08T17:15:00.000000000',\n",
       "       '2022-06-08T17:30:00.000000000', '2022-06-08T17:45:00.000000000',\n",
       "       '2022-06-08T18:00:00.000000000', '2022-06-08T18:15:00.000000000',\n",
       "       '2022-06-08T18:30:00.000000000', '2022-06-08T18:45:00.000000000',\n",
       "       '2022-06-08T19:00:00.000000000', '2022-06-08T19:15:00.000000000',\n",
       "       '2022-06-08T19:30:00.000000000', '2022-06-08T19:45:00.000000000',\n",
       "       '2022-06-08T20:00:00.000000000', '2022-06-08T20:15:00.000000000',\n",
       "       '2022-06-08T20:30:00.000000000', '2022-06-08T20:45:00.000000000',\n",
       "       '2022-06-08T21:00:00.000000000', '2022-06-08T21:15:00.000000000',\n",
       "       '2022-06-08T21:30:00.000000000', '2022-06-08T21:45:00.000000000',\n",
       "       '2022-06-08T22:00:00.000000000', '2022-06-08T22:15:00.000000000',\n",
       "       '2022-06-08T22:30:00.000000000', '2022-06-08T22:45:00.000000000',\n",
       "       '2022-06-08T23:00:00.000000000', '2022-06-08T23:15:00.000000000',\n",
       "       '2022-06-08T23:30:00.000000000', '2022-06-08T23:45:00.000000000',\n",
       "       '2022-06-09T00:00:00.000000000', '2022-06-09T00:15:00.000000000',\n",
       "       '2022-06-09T00:30:00.000000000', '2022-06-09T00:45:00.000000000',\n",
       "       '2022-06-09T01:00:00.000000000', '2022-06-09T01:15:00.000000000',\n",
       "       '2022-06-09T01:30:00.000000000', '2022-06-09T01:45:00.000000000'],\n",
       "      dtype='datetime64[ns]')"
      ]
     },
     "execution_count": 137,
     "metadata": {},
     "output_type": "execute_result"
    }
   ],
   "source": [
    "df_solar_pred.iloc[t:t+96,0].values"
   ]
  },
  {
   "cell_type": "code",
   "execution_count": 139,
   "metadata": {},
   "outputs": [
    {
     "ename": "ValueError",
     "evalue": "Must have equal len keys and value when setting with an ndarray",
     "output_type": "error",
     "traceback": [
      "\u001b[0;31m---------------------------------------------------------------------------\u001b[0m",
      "\u001b[0;31mValueError\u001b[0m                                Traceback (most recent call last)",
      "Cell \u001b[0;32mIn[139], line 2\u001b[0m\n\u001b[1;32m      1\u001b[0m \u001b[39mfor\u001b[39;00m t \u001b[39min\u001b[39;00m \u001b[39mrange\u001b[39m(df_new\u001b[39m.\u001b[39mshape[\u001b[39m0\u001b[39m]):\n\u001b[0;32m----> 2\u001b[0m     df_new\u001b[39m.\u001b[39;49miloc[t,\u001b[39m2\u001b[39;49m] \u001b[39m=\u001b[39m [df_solar_pred\u001b[39m.\u001b[39miloc[t:t\u001b[39m+\u001b[39m\u001b[39m96\u001b[39m,\u001b[39m0\u001b[39m]\u001b[39m.\u001b[39mvalues]\n",
      "File \u001b[0;32m~/Desktop/neuefische/EES_Optimisation/.venv/lib/python3.11/site-packages/pandas/core/indexing.py:849\u001b[0m, in \u001b[0;36m_LocationIndexer.__setitem__\u001b[0;34m(self, key, value)\u001b[0m\n\u001b[1;32m    846\u001b[0m \u001b[39mself\u001b[39m\u001b[39m.\u001b[39m_has_valid_setitem_indexer(key)\n\u001b[1;32m    848\u001b[0m iloc \u001b[39m=\u001b[39m \u001b[39mself\u001b[39m \u001b[39mif\u001b[39;00m \u001b[39mself\u001b[39m\u001b[39m.\u001b[39mname \u001b[39m==\u001b[39m \u001b[39m\"\u001b[39m\u001b[39miloc\u001b[39m\u001b[39m\"\u001b[39m \u001b[39melse\u001b[39;00m \u001b[39mself\u001b[39m\u001b[39m.\u001b[39mobj\u001b[39m.\u001b[39miloc\n\u001b[0;32m--> 849\u001b[0m iloc\u001b[39m.\u001b[39;49m_setitem_with_indexer(indexer, value, \u001b[39mself\u001b[39;49m\u001b[39m.\u001b[39;49mname)\n",
      "File \u001b[0;32m~/Desktop/neuefische/EES_Optimisation/.venv/lib/python3.11/site-packages/pandas/core/indexing.py:1828\u001b[0m, in \u001b[0;36m_iLocIndexer._setitem_with_indexer\u001b[0;34m(self, indexer, value, name)\u001b[0m\n\u001b[1;32m   1825\u001b[0m \u001b[39m# align and set the values\u001b[39;00m\n\u001b[1;32m   1826\u001b[0m \u001b[39mif\u001b[39;00m take_split_path:\n\u001b[1;32m   1827\u001b[0m     \u001b[39m# We have to operate column-wise\u001b[39;00m\n\u001b[0;32m-> 1828\u001b[0m     \u001b[39mself\u001b[39;49m\u001b[39m.\u001b[39;49m_setitem_with_indexer_split_path(indexer, value, name)\n\u001b[1;32m   1829\u001b[0m \u001b[39melse\u001b[39;00m:\n\u001b[1;32m   1830\u001b[0m     \u001b[39mself\u001b[39m\u001b[39m.\u001b[39m_setitem_single_block(indexer, value, name)\n",
      "File \u001b[0;32m~/Desktop/neuefische/EES_Optimisation/.venv/lib/python3.11/site-packages/pandas/core/indexing.py:1868\u001b[0m, in \u001b[0;36m_iLocIndexer._setitem_with_indexer_split_path\u001b[0;34m(self, indexer, value, name)\u001b[0m\n\u001b[1;32m   1863\u001b[0m     \u001b[39mself\u001b[39m\u001b[39m.\u001b[39m_setitem_with_indexer_frame_value(indexer, value, name)\n\u001b[1;32m   1865\u001b[0m \u001b[39melif\u001b[39;00m np\u001b[39m.\u001b[39mndim(value) \u001b[39m==\u001b[39m \u001b[39m2\u001b[39m:\n\u001b[1;32m   1866\u001b[0m     \u001b[39m# TODO: avoid np.ndim call in case it isn't an ndarray, since\u001b[39;00m\n\u001b[1;32m   1867\u001b[0m     \u001b[39m#  that will construct an ndarray, which will be wasteful\u001b[39;00m\n\u001b[0;32m-> 1868\u001b[0m     \u001b[39mself\u001b[39;49m\u001b[39m.\u001b[39;49m_setitem_with_indexer_2d_value(indexer, value)\n\u001b[1;32m   1870\u001b[0m \u001b[39melif\u001b[39;00m \u001b[39mlen\u001b[39m(ilocs) \u001b[39m==\u001b[39m \u001b[39m1\u001b[39m \u001b[39mand\u001b[39;00m lplane_indexer \u001b[39m==\u001b[39m \u001b[39mlen\u001b[39m(value) \u001b[39mand\u001b[39;00m \u001b[39mnot\u001b[39;00m is_scalar(pi):\n\u001b[1;32m   1871\u001b[0m     \u001b[39m# We are setting multiple rows in a single column.\u001b[39;00m\n\u001b[1;32m   1872\u001b[0m     \u001b[39mself\u001b[39m\u001b[39m.\u001b[39m_setitem_single_column(ilocs[\u001b[39m0\u001b[39m], value, pi)\n",
      "File \u001b[0;32m~/Desktop/neuefische/EES_Optimisation/.venv/lib/python3.11/site-packages/pandas/core/indexing.py:1934\u001b[0m, in \u001b[0;36m_iLocIndexer._setitem_with_indexer_2d_value\u001b[0;34m(self, indexer, value)\u001b[0m\n\u001b[1;32m   1932\u001b[0m     value \u001b[39m=\u001b[39m np\u001b[39m.\u001b[39marray(value, dtype\u001b[39m=\u001b[39m\u001b[39mobject\u001b[39m)\n\u001b[1;32m   1933\u001b[0m \u001b[39mif\u001b[39;00m \u001b[39mlen\u001b[39m(ilocs) \u001b[39m!=\u001b[39m value\u001b[39m.\u001b[39mshape[\u001b[39m1\u001b[39m]:\n\u001b[0;32m-> 1934\u001b[0m     \u001b[39mraise\u001b[39;00m \u001b[39mValueError\u001b[39;00m(\n\u001b[1;32m   1935\u001b[0m         \u001b[39m\"\u001b[39m\u001b[39mMust have equal len keys and value when setting with an ndarray\u001b[39m\u001b[39m\"\u001b[39m\n\u001b[1;32m   1936\u001b[0m     )\n\u001b[1;32m   1938\u001b[0m \u001b[39mfor\u001b[39;00m i, loc \u001b[39min\u001b[39;00m \u001b[39menumerate\u001b[39m(ilocs):\n\u001b[1;32m   1939\u001b[0m     value_col \u001b[39m=\u001b[39m value[:, i]\n",
      "\u001b[0;31mValueError\u001b[0m: Must have equal len keys and value when setting with an ndarray"
     ]
    }
   ],
   "source": [
    "for t in range(df_new.shape[0]):\n",
    "    df_new.iloc[t,2] = [df_solar_pred.iloc[t:t+96,0].values]"
   ]
  },
  {
   "cell_type": "code",
   "execution_count": 183,
   "metadata": {},
   "outputs": [],
   "source": [
    "for t in range(10):\n",
    "    if t == 0:\n",
    "        result = [[df_solar_pred.iloc[t:t+96,0].values]]\n",
    "    else:\n",
    "        result = np.append(result,[[df_solar_pred.iloc[t:t+96,0].values]],axis=0)\n"
   ]
  },
  {
   "cell_type": "code",
   "execution_count": 184,
   "metadata": {},
   "outputs": [
    {
     "data": {
      "text/plain": [
       "(10, 1, 96)"
      ]
     },
     "execution_count": 184,
     "metadata": {},
     "output_type": "execute_result"
    }
   ],
   "source": [
    "result.shape"
   ]
  },
  {
   "cell_type": "code",
   "execution_count": 187,
   "metadata": {},
   "outputs": [
    {
     "data": {
      "text/plain": [
       "array([['2022-06-08T00:00:00.000000000', '2022-06-08T00:15:00.000000000',\n",
       "        '2022-06-08T00:30:00.000000000', '2022-06-08T00:45:00.000000000',\n",
       "        '2022-06-08T01:00:00.000000000', '2022-06-08T01:15:00.000000000',\n",
       "        '2022-06-08T01:30:00.000000000', '2022-06-08T01:45:00.000000000',\n",
       "        '2022-06-08T02:00:00.000000000', '2022-06-08T02:15:00.000000000',\n",
       "        '2022-06-08T02:30:00.000000000', '2022-06-08T02:45:00.000000000',\n",
       "        '2022-06-08T03:00:00.000000000', '2022-06-08T03:15:00.000000000',\n",
       "        '2022-06-08T03:30:00.000000000', '2022-06-08T03:45:00.000000000',\n",
       "        '2022-06-08T04:00:00.000000000', '2022-06-08T04:15:00.000000000',\n",
       "        '2022-06-08T04:30:00.000000000', '2022-06-08T04:45:00.000000000',\n",
       "        '2022-06-08T05:00:00.000000000', '2022-06-08T05:15:00.000000000',\n",
       "        '2022-06-08T05:30:00.000000000', '2022-06-08T05:45:00.000000000',\n",
       "        '2022-06-08T06:00:00.000000000', '2022-06-08T06:15:00.000000000',\n",
       "        '2022-06-08T06:30:00.000000000', '2022-06-08T06:45:00.000000000',\n",
       "        '2022-06-08T07:00:00.000000000', '2022-06-08T07:15:00.000000000',\n",
       "        '2022-06-08T07:30:00.000000000', '2022-06-08T07:45:00.000000000',\n",
       "        '2022-06-08T08:00:00.000000000', '2022-06-08T08:15:00.000000000',\n",
       "        '2022-06-08T08:30:00.000000000', '2022-06-08T08:45:00.000000000',\n",
       "        '2022-06-08T09:00:00.000000000', '2022-06-08T09:15:00.000000000',\n",
       "        '2022-06-08T09:30:00.000000000', '2022-06-08T09:45:00.000000000',\n",
       "        '2022-06-08T10:00:00.000000000', '2022-06-08T10:15:00.000000000',\n",
       "        '2022-06-08T10:30:00.000000000', '2022-06-08T10:45:00.000000000',\n",
       "        '2022-06-08T11:00:00.000000000', '2022-06-08T11:15:00.000000000',\n",
       "        '2022-06-08T11:30:00.000000000', '2022-06-08T11:45:00.000000000',\n",
       "        '2022-06-08T12:00:00.000000000', '2022-06-08T12:15:00.000000000',\n",
       "        '2022-06-08T12:30:00.000000000', '2022-06-08T12:45:00.000000000',\n",
       "        '2022-06-08T13:00:00.000000000', '2022-06-08T13:15:00.000000000',\n",
       "        '2022-06-08T13:30:00.000000000', '2022-06-08T13:45:00.000000000',\n",
       "        '2022-06-08T14:00:00.000000000', '2022-06-08T14:15:00.000000000',\n",
       "        '2022-06-08T14:30:00.000000000', '2022-06-08T14:45:00.000000000',\n",
       "        '2022-06-08T15:00:00.000000000', '2022-06-08T15:15:00.000000000',\n",
       "        '2022-06-08T15:30:00.000000000', '2022-06-08T15:45:00.000000000',\n",
       "        '2022-06-08T16:00:00.000000000', '2022-06-08T16:15:00.000000000',\n",
       "        '2022-06-08T16:30:00.000000000', '2022-06-08T16:45:00.000000000',\n",
       "        '2022-06-08T17:00:00.000000000', '2022-06-08T17:15:00.000000000',\n",
       "        '2022-06-08T17:30:00.000000000', '2022-06-08T17:45:00.000000000',\n",
       "        '2022-06-08T18:00:00.000000000', '2022-06-08T18:15:00.000000000',\n",
       "        '2022-06-08T18:30:00.000000000', '2022-06-08T18:45:00.000000000',\n",
       "        '2022-06-08T19:00:00.000000000', '2022-06-08T19:15:00.000000000',\n",
       "        '2022-06-08T19:30:00.000000000', '2022-06-08T19:45:00.000000000',\n",
       "        '2022-06-08T20:00:00.000000000', '2022-06-08T20:15:00.000000000',\n",
       "        '2022-06-08T20:30:00.000000000', '2022-06-08T20:45:00.000000000',\n",
       "        '2022-06-08T21:00:00.000000000', '2022-06-08T21:15:00.000000000',\n",
       "        '2022-06-08T21:30:00.000000000', '2022-06-08T21:45:00.000000000',\n",
       "        '2022-06-08T22:00:00.000000000', '2022-06-08T22:15:00.000000000',\n",
       "        '2022-06-08T22:30:00.000000000', '2022-06-08T22:45:00.000000000',\n",
       "        '2022-06-08T23:00:00.000000000', '2022-06-08T23:15:00.000000000',\n",
       "        '2022-06-08T23:30:00.000000000', '2022-06-08T23:45:00.000000000']],\n",
       "      dtype='datetime64[ns]')"
      ]
     },
     "execution_count": 187,
     "metadata": {},
     "output_type": "execute_result"
    }
   ],
   "source": [
    "result[1]"
   ]
  },
  {
   "cell_type": "code",
   "execution_count": 188,
   "metadata": {},
   "outputs": [],
   "source": [
    "for t in range(10):\n",
    "    if t == 0:\n",
    "        result2 = [[df_solar_pred.iloc[t,1]]]\n",
    "    else:\n",
    "        result2 = np.append(result2,[[df_solar_pred.iloc[t,1]]],axis=0)\n"
   ]
  },
  {
   "cell_type": "code",
   "execution_count": 189,
   "metadata": {},
   "outputs": [
    {
     "data": {
      "text/plain": [
       "array([[-9.73564224e+01, -6.15232887e+01, -2.26985817e+01,\n",
       "        -5.71281471e+01, -3.45400124e+01, -5.16708851e+00,\n",
       "        -5.71408558e+00, -8.43552113e+00,  2.15317039e+01,\n",
       "         7.38009167e+00,  5.04554710e+01, -2.63864613e+00,\n",
       "         2.07827282e+00, -1.08807116e+01,  3.59718895e+01,\n",
       "         1.07482557e+01,  6.53291855e+01,  9.83409042e+01,\n",
       "         1.15823021e+02,  1.61994843e+02,  1.72549774e+02,\n",
       "         2.52167633e+02,  3.11160126e+02,  3.77890656e+02,\n",
       "         4.97359528e+02,  5.38814514e+02,  7.20970642e+02,\n",
       "         8.65212158e+02,  9.54431213e+02,  1.12026013e+03,\n",
       "         1.26895959e+03,  1.47188574e+03,  1.69101306e+03,\n",
       "         1.85419165e+03,  2.08908813e+03,  2.28470801e+03,\n",
       "         2.49905713e+03,  2.67516992e+03,  2.87932227e+03,\n",
       "         3.16325098e+03,  3.29921411e+03,  3.51615601e+03,\n",
       "         3.69814526e+03,  3.85942432e+03,  4.08274927e+03,\n",
       "         4.28117041e+03,  4.39941406e+03,  4.49132764e+03,\n",
       "         4.56079443e+03,  4.66417188e+03,  4.73892529e+03,\n",
       "         4.76443994e+03,  4.75886572e+03,  4.79272314e+03,\n",
       "         4.75338428e+03,  4.73144385e+03,  4.59766455e+03,\n",
       "         4.52610303e+03,  4.46181641e+03,  4.30338867e+03,\n",
       "         4.17756201e+03,  3.99735547e+03,  3.83943823e+03,\n",
       "         3.69184985e+03,  3.46892456e+03,  3.25675244e+03,\n",
       "         3.05734814e+03,  2.85249365e+03,  2.59759155e+03,\n",
       "         2.37478687e+03,  2.18690552e+03,  1.97929980e+03,\n",
       "         1.76912524e+03,  1.51877100e+03,  1.32613000e+03,\n",
       "         1.13050977e+03,  9.68996521e+02,  8.07643433e+02,\n",
       "         6.48981689e+02,  5.12595398e+02,  3.92817474e+02,\n",
       "         2.80554413e+02,  2.01542267e+02,  1.23732994e+02,\n",
       "         2.21171532e+01, -3.48801136e+00, -1.02842262e+02,\n",
       "        -5.48320045e+01, -1.19161964e+02, -5.30531960e+01,\n",
       "        -1.30157806e+02, -1.22644997e+02, -7.36701431e+01,\n",
       "        -9.15740738e+01, -5.78036842e+01, -6.49461441e+01]], dtype=float32)"
      ]
     },
     "execution_count": 189,
     "metadata": {},
     "output_type": "execute_result"
    }
   ],
   "source": [
    "result2[0]"
   ]
  },
  {
   "cell_type": "code",
   "execution_count": 169,
   "metadata": {},
   "outputs": [
    {
     "name": "stdout",
     "output_type": "stream",
     "text": [
      "Hour: 14\n",
      "Minutes: 30\n"
     ]
    }
   ],
   "source": [
    "import numpy as np\n",
    "\n",
    "# Assuming you have a np.datetime64 object\n",
    "datetime_obj = np.datetime64('2023-07-13T14:30:00')\n",
    "\n",
    "# Extracting the hour and minutes\n",
    "hour = datetime_obj.astype('datetime64[h]').astype(int) % 24\n",
    "minutes = datetime_obj.astype('datetime64[m]').astype(int) % 60\n",
    "\n",
    "print(\"Hour:\", hour)\n",
    "print(\"Minutes:\", minutes)\n"
   ]
  },
  {
   "cell_type": "code",
   "execution_count": 172,
   "metadata": {},
   "outputs": [
    {
     "data": {
      "text/plain": [
       "'23:45'"
      ]
     },
     "execution_count": 172,
     "metadata": {},
     "output_type": "execute_result"
    }
   ],
   "source": [
    "f'{result[0][0][0].astype(\"datetime64[h]\").astype(int) % 24}:{result[0][0][0].astype(\"datetime64[m]\").astype(int) % 60}'"
   ]
  },
  {
   "cell_type": "code",
   "execution_count": 173,
   "metadata": {},
   "outputs": [
    {
     "name": "stdout",
     "output_type": "stream",
     "text": [
      "05\n"
     ]
    }
   ],
   "source": [
    "number = 5\n",
    "\n",
    "# Displaying the number with two digits\n",
    "formatted_number = f\"{number:02}\"\n",
    "\n",
    "print(formatted_number)\n"
   ]
  },
  {
   "cell_type": "code",
   "execution_count": 146,
   "metadata": {},
   "outputs": [],
   "source": [
    "import matplotlib.pyplot as plt"
   ]
  },
  {
   "cell_type": "code",
   "execution_count": 156,
   "metadata": {},
   "outputs": [
    {
     "data": {
      "text/plain": [
       "<matplotlib.collections.PathCollection at 0x169d26590>"
      ]
     },
     "execution_count": 156,
     "metadata": {},
     "output_type": "execute_result"
    },
    {
     "data": {
      "image/png": "[encoded data removed]",
      "text/plain": [
       "<Figure size 640x480 with 2 Axes>"
      ]
     },
     "metadata": {},
     "output_type": "display_data"
    }
   ],
   "source": [
    "fig, ax = plt.subplots(2)\n",
    "ax[0].scatter(x=result[0][0],y=result2[0][0])\n",
    "ax[1].scatter(x=result[9][0],y=result2[9][0])"
   ]
  },
  {
   "cell_type": "code",
   "execution_count": 106,
   "metadata": {},
   "outputs": [
    {
     "ename": "AttributeError",
     "evalue": "'list' object has no attribute 'shape'",
     "output_type": "error",
     "traceback": [
      "\u001b[0;31m---------------------------------------------------------------------------\u001b[0m",
      "\u001b[0;31mAttributeError\u001b[0m                            Traceback (most recent call last)",
      "Cell \u001b[0;32mIn[106], line 1\u001b[0m\n\u001b[0;32m----> 1\u001b[0m [df_solar_pred\u001b[39m.\u001b[39;49miloc[\u001b[39m0\u001b[39;49m,\u001b[39m1\u001b[39;49m]]\u001b[39m.\u001b[39;49mshape\n",
      "\u001b[0;31mAttributeError\u001b[0m: 'list' object has no attribute 'shape'"
     ]
    }
   ],
   "source": [
    "[df_solar_pred.iloc[0,1]].shape"
   ]
  },
  {
   "cell_type": "code",
   "execution_count": 71,
   "metadata": {},
   "outputs": [
    {
     "ename": "ValueError",
     "evalue": "Must pass 2-d input. shape=(10, 1, 96)",
     "output_type": "error",
     "traceback": [
      "\u001b[0;31m---------------------------------------------------------------------------\u001b[0m",
      "\u001b[0;31mValueError\u001b[0m                                Traceback (most recent call last)",
      "Cell \u001b[0;32mIn[71], line 1\u001b[0m\n\u001b[0;32m----> 1\u001b[0m pd\u001b[39m.\u001b[39;49mDataFrame(result)\n",
      "File \u001b[0;32m~/Desktop/neuefische/EES_Optimisation/.venv/lib/python3.11/site-packages/pandas/core/frame.py:758\u001b[0m, in \u001b[0;36mDataFrame.__init__\u001b[0;34m(self, data, index, columns, dtype, copy)\u001b[0m\n\u001b[1;32m    747\u001b[0m         mgr \u001b[39m=\u001b[39m dict_to_mgr(\n\u001b[1;32m    748\u001b[0m             \u001b[39m# error: Item \"ndarray\" of \"Union[ndarray, Series, Index]\" has no\u001b[39;00m\n\u001b[1;32m    749\u001b[0m             \u001b[39m# attribute \"name\"\u001b[39;00m\n\u001b[0;32m   (...)\u001b[0m\n\u001b[1;32m    755\u001b[0m             copy\u001b[39m=\u001b[39m_copy,\n\u001b[1;32m    756\u001b[0m         )\n\u001b[1;32m    757\u001b[0m     \u001b[39melse\u001b[39;00m:\n\u001b[0;32m--> 758\u001b[0m         mgr \u001b[39m=\u001b[39m ndarray_to_mgr(\n\u001b[1;32m    759\u001b[0m             data,\n\u001b[1;32m    760\u001b[0m             index,\n\u001b[1;32m    761\u001b[0m             columns,\n\u001b[1;32m    762\u001b[0m             dtype\u001b[39m=\u001b[39;49mdtype,\n\u001b[1;32m    763\u001b[0m             copy\u001b[39m=\u001b[39;49mcopy,\n\u001b[1;32m    764\u001b[0m             typ\u001b[39m=\u001b[39;49mmanager,\n\u001b[1;32m    765\u001b[0m         )\n\u001b[1;32m    767\u001b[0m \u001b[39m# For data is list-like, or Iterable (will consume into list)\u001b[39;00m\n\u001b[1;32m    768\u001b[0m \u001b[39melif\u001b[39;00m is_list_like(data):\n",
      "File \u001b[0;32m~/Desktop/neuefische/EES_Optimisation/.venv/lib/python3.11/site-packages/pandas/core/internals/construction.py:315\u001b[0m, in \u001b[0;36mndarray_to_mgr\u001b[0;34m(values, index, columns, dtype, copy, typ)\u001b[0m\n\u001b[1;32m    309\u001b[0m     _copy \u001b[39m=\u001b[39m (\n\u001b[1;32m    310\u001b[0m         copy_on_sanitize\n\u001b[1;32m    311\u001b[0m         \u001b[39mif\u001b[39;00m (dtype \u001b[39mis\u001b[39;00m \u001b[39mNone\u001b[39;00m \u001b[39mor\u001b[39;00m astype_is_view(values\u001b[39m.\u001b[39mdtype, dtype))\n\u001b[1;32m    312\u001b[0m         \u001b[39melse\u001b[39;00m \u001b[39mFalse\u001b[39;00m\n\u001b[1;32m    313\u001b[0m     )\n\u001b[1;32m    314\u001b[0m     values \u001b[39m=\u001b[39m np\u001b[39m.\u001b[39marray(values, copy\u001b[39m=\u001b[39m_copy)\n\u001b[0;32m--> 315\u001b[0m     values \u001b[39m=\u001b[39m _ensure_2d(values)\n\u001b[1;32m    317\u001b[0m \u001b[39melse\u001b[39;00m:\n\u001b[1;32m    318\u001b[0m     \u001b[39m# by definition an array here\u001b[39;00m\n\u001b[1;32m    319\u001b[0m     \u001b[39m# the dtypes will be coerced to a single dtype\u001b[39;00m\n\u001b[1;32m    320\u001b[0m     values \u001b[39m=\u001b[39m _prep_ndarraylike(values, copy\u001b[39m=\u001b[39mcopy_on_sanitize)\n",
      "File \u001b[0;32m~/Desktop/neuefische/EES_Optimisation/.venv/lib/python3.11/site-packages/pandas/core/internals/construction.py:570\u001b[0m, in \u001b[0;36m_ensure_2d\u001b[0;34m(values)\u001b[0m\n\u001b[1;32m    568\u001b[0m     values \u001b[39m=\u001b[39m values\u001b[39m.\u001b[39mreshape((values\u001b[39m.\u001b[39mshape[\u001b[39m0\u001b[39m], \u001b[39m1\u001b[39m))\n\u001b[1;32m    569\u001b[0m \u001b[39melif\u001b[39;00m values\u001b[39m.\u001b[39mndim \u001b[39m!=\u001b[39m \u001b[39m2\u001b[39m:\n\u001b[0;32m--> 570\u001b[0m     \u001b[39mraise\u001b[39;00m \u001b[39mValueError\u001b[39;00m(\u001b[39mf\u001b[39m\u001b[39m\"\u001b[39m\u001b[39mMust pass 2-d input. shape=\u001b[39m\u001b[39m{\u001b[39;00mvalues\u001b[39m.\u001b[39mshape\u001b[39m}\u001b[39;00m\u001b[39m\"\u001b[39m)\n\u001b[1;32m    571\u001b[0m \u001b[39mreturn\u001b[39;00m values\n",
      "\u001b[0;31mValueError\u001b[0m: Must pass 2-d input. shape=(10, 1, 96)"
     ]
    }
   ],
   "source": [
    "pd.DataFrame(result)"
   ]
  },
  {
   "cell_type": "code",
   "execution_count": 140,
   "metadata": {},
   "outputs": [],
   "source": [
    "d = {0:{0:9,1:8,2:7,3:8,4:9},1:{1:8,2:7,3:8,4:9,5:8},2:{2:7,3:8,4:9,5:8,6:7}}"
   ]
  },
  {
   "cell_type": "code",
   "execution_count": 141,
   "metadata": {},
   "outputs": [
    {
     "data": {
      "text/html": [
       "<div>\n",
       "<style scoped>\n",
       "    .dataframe tbody tr th:only-of-type {\n",
       "        vertical-align: middle;\n",
       "    }\n",
       "\n",
       "    .dataframe tbody tr th {\n",
       "        vertical-align: top;\n",
       "    }\n",
       "\n",
       "    .dataframe thead th {\n",
       "        text-align: right;\n",
       "    }\n",
       "</style>\n",
       "<table border=\"1\" class=\"dataframe\">\n",
       "  <thead>\n",
       "    <tr style=\"text-align: right;\">\n",
       "      <th></th>\n",
       "      <th>0</th>\n",
       "      <th>1</th>\n",
       "      <th>2</th>\n",
       "    </tr>\n",
       "  </thead>\n",
       "  <tbody>\n",
       "    <tr>\n",
       "      <th>0</th>\n",
       "      <td>9.0</td>\n",
       "      <td>NaN</td>\n",
       "      <td>NaN</td>\n",
       "    </tr>\n",
       "    <tr>\n",
       "      <th>1</th>\n",
       "      <td>8.0</td>\n",
       "      <td>8.0</td>\n",
       "      <td>NaN</td>\n",
       "    </tr>\n",
       "    <tr>\n",
       "      <th>2</th>\n",
       "      <td>7.0</td>\n",
       "      <td>7.0</td>\n",
       "      <td>7.0</td>\n",
       "    </tr>\n",
       "    <tr>\n",
       "      <th>3</th>\n",
       "      <td>8.0</td>\n",
       "      <td>8.0</td>\n",
       "      <td>8.0</td>\n",
       "    </tr>\n",
       "    <tr>\n",
       "      <th>4</th>\n",
       "      <td>9.0</td>\n",
       "      <td>9.0</td>\n",
       "      <td>9.0</td>\n",
       "    </tr>\n",
       "    <tr>\n",
       "      <th>5</th>\n",
       "      <td>NaN</td>\n",
       "      <td>8.0</td>\n",
       "      <td>8.0</td>\n",
       "    </tr>\n",
       "    <tr>\n",
       "      <th>6</th>\n",
       "      <td>NaN</td>\n",
       "      <td>NaN</td>\n",
       "      <td>7.0</td>\n",
       "    </tr>\n",
       "  </tbody>\n",
       "</table>\n",
       "</div>"
      ],
      "text/plain": [
       "     0    1    2\n",
       "0  9.0  NaN  NaN\n",
       "1  8.0  8.0  NaN\n",
       "2  7.0  7.0  7.0\n",
       "3  8.0  8.0  8.0\n",
       "4  9.0  9.0  9.0\n",
       "5  NaN  8.0  8.0\n",
       "6  NaN  NaN  7.0"
      ]
     },
     "execution_count": 141,
     "metadata": {},
     "output_type": "execute_result"
    }
   ],
   "source": [
    "pd.DataFrame(d)"
   ]
  },
  {
   "cell_type": "code",
   "execution_count": null,
   "metadata": {},
   "outputs": [],
   "source": []
  }
 ],
 "metadata": {
  "kernelspec": {
   "display_name": ".venv",
   "language": "python",
   "name": "python3"
  },
  "language_info": {
   "codemirror_mode": {
    "name": "ipython",
    "version": 3
   },
   "file_extension": ".py",
   "mimetype": "text/x-python",
   "name": "python",
   "nbconvert_exporter": "python",
   "pygments_lexer": "ipython3",
   "version": "3.11.3"
  },
  "orig_nbformat": 4
 },
 "nbformat": 4,
 "nbformat_minor": 2
}
