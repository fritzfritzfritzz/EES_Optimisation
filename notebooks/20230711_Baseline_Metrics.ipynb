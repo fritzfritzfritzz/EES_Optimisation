{
 "cells": [
  {
   "cell_type": "code",
   "execution_count": 35,
   "metadata": {},
   "outputs": [],
   "source": [
    "import numpy as np\n",
    "import pandas as pd\n",
    "from typing import Optional\n",
    "\n",
    "class MeanBaseline:\n",
    "    def __init__(self) -> None:\n",
    "        self.mean = None\n",
    "\n",
    "    def fit(self, dataframe: pd.DataFrame, window: Optional[int] = None) -> None:\n",
    "        \"\"\"\n",
    "        Fit the MeanBaseline model to the input DataFrame.\n",
    "\n",
    "        Args:\n",
    "            dataframe (pd.DataFrame): The input DataFrame.\n",
    "            window (int, optional): The size of the rolling window. If not provided, the window size is set to the\n",
    "                                    number of rows in the DataFrame.\n",
    "\n",
    "        Returns:\n",
    "            None\n",
    "        \"\"\"\n",
    "        if window is None:\n",
    "            window = dataframe.shape[0]\n",
    "\n",
    "        self.mean = dataframe.rolling(window).mean()\n",
    "\n",
    "    def predict(self, length: int) -> pd.DataFrame:\n",
    "        \"\"\"\n",
    "        Generate predictions using the MeanBaseline model.\n",
    "\n",
    "        Args:\n",
    "            length (int): The number of predictions to generate.\n",
    "\n",
    "        Returns:\n",
    "            pd.DataFrame: The predicted values.\n",
    "        \"\"\"\n",
    "        array = np.ones(shape=(length, self.mean.shape[1]))\n",
    "        result = array * np.array(self.mean.iloc[-1, :])\n",
    "        result = pd.DataFrame(result)\n",
    "        return result\n"
   ]
  },
  {
   "cell_type": "code",
   "execution_count": 36,
   "metadata": {},
   "outputs": [],
   "source": [
    "class OffsetBaseline:\n",
    "    def __init__(self) -> None:\n",
    "        self.offset = None\n",
    "\n",
    "    def fit(self, dataframe: pd.DataFrame, offset: int) -> None:\n",
    "        \"\"\"\n",
    "        Fit the OffsetBaseline model to the input DataFrame.\n",
    "\n",
    "        Args:\n",
    "            dataframe (pd.DataFrame): The input DataFrame.\n",
    "            offset (int): Model is looking back with offset on trained data\n",
    "\n",
    "        Returns:\n",
    "            None\n",
    "        \"\"\"\n",
    "\n",
    "        self.offset = dataframe.offset(offset) # CONTINUE HERE!!!!!!!!!\n",
    "\n",
    "    def predict(self, length: int) -> pd.DataFrame:\n",
    "        \"\"\"\n",
    "        Generate predictions using the MeanBaseline model.\n",
    "\n",
    "        Args:\n",
    "            length (int): The number of predictions to generate.\n",
    "\n",
    "        Returns:\n",
    "            pd.DataFrame: The predicted values.\n",
    "        \"\"\"\n",
    "        array = np.ones(shape=(length, self.mean.shape[1]))\n",
    "        result = array * np.array(self.mean.iloc[-1, :])\n",
    "        result = pd.DataFrame(result)\n",
    "        return result\n"
   ]
  },
  {
   "cell_type": "code",
   "execution_count": 37,
   "metadata": {},
   "outputs": [],
   "source": [
    "df = pd.read_pickle('../data/final_dataframe.pkl')"
   ]
  },
  {
   "cell_type": "code",
   "execution_count": 38,
   "metadata": {},
   "outputs": [],
   "source": [
    "df.drop('normalisation_factor', axis=1, inplace=True)"
   ]
  },
  {
   "cell_type": "code",
   "execution_count": 39,
   "metadata": {},
   "outputs": [
    {
     "data": {
      "text/html": [
       "<div>\n",
       "<style scoped>\n",
       "    .dataframe tbody tr th:only-of-type {\n",
       "        vertical-align: middle;\n",
       "    }\n",
       "\n",
       "    .dataframe tbody tr th {\n",
       "        vertical-align: top;\n",
       "    }\n",
       "\n",
       "    .dataframe thead th {\n",
       "        text-align: right;\n",
       "    }\n",
       "</style>\n",
       "<table border=\"1\" class=\"dataframe\">\n",
       "  <thead>\n",
       "    <tr style=\"text-align: right;\">\n",
       "      <th></th>\n",
       "      <th>Date</th>\n",
       "      <th>Photovoltaics [MWh] Original resolutions</th>\n",
       "      <th>Photovoltaics [MW] Calculated resolutions</th>\n",
       "      <th>Total (grid load) [MWh] Original resolutions</th>\n",
       "      <th>Germany/Luxembourg [€/MWh] Calculated resolutions</th>\n",
       "      <th>Solar_generation_MWh_normalized</th>\n",
       "    </tr>\n",
       "  </thead>\n",
       "  <tbody>\n",
       "    <tr>\n",
       "      <th>0</th>\n",
       "      <td>2018-10-01 00:00:00</td>\n",
       "      <td>0.0</td>\n",
       "      <td>42805.0</td>\n",
       "      <td>10589.75</td>\n",
       "      <td>59.53</td>\n",
       "      <td>0.0</td>\n",
       "    </tr>\n",
       "    <tr>\n",
       "      <th>1</th>\n",
       "      <td>2018-10-01 00:15:00</td>\n",
       "      <td>0.0</td>\n",
       "      <td>42805.0</td>\n",
       "      <td>10589.75</td>\n",
       "      <td>59.53</td>\n",
       "      <td>0.0</td>\n",
       "    </tr>\n",
       "    <tr>\n",
       "      <th>2</th>\n",
       "      <td>2018-10-01 00:30:00</td>\n",
       "      <td>0.0</td>\n",
       "      <td>42805.0</td>\n",
       "      <td>10589.75</td>\n",
       "      <td>59.53</td>\n",
       "      <td>0.0</td>\n",
       "    </tr>\n",
       "    <tr>\n",
       "      <th>3</th>\n",
       "      <td>2018-10-01 00:45:00</td>\n",
       "      <td>0.0</td>\n",
       "      <td>42805.0</td>\n",
       "      <td>10589.75</td>\n",
       "      <td>59.53</td>\n",
       "      <td>0.0</td>\n",
       "    </tr>\n",
       "    <tr>\n",
       "      <th>4</th>\n",
       "      <td>2018-10-01 01:00:00</td>\n",
       "      <td>0.0</td>\n",
       "      <td>42805.0</td>\n",
       "      <td>10589.75</td>\n",
       "      <td>56.10</td>\n",
       "      <td>0.0</td>\n",
       "    </tr>\n",
       "    <tr>\n",
       "      <th>...</th>\n",
       "      <td>...</td>\n",
       "      <td>...</td>\n",
       "      <td>...</td>\n",
       "      <td>...</td>\n",
       "      <td>...</td>\n",
       "      <td>...</td>\n",
       "    </tr>\n",
       "    <tr>\n",
       "      <th>163675</th>\n",
       "      <td>2023-06-01 22:45:00</td>\n",
       "      <td>0.0</td>\n",
       "      <td>62579.0</td>\n",
       "      <td>12945.50</td>\n",
       "      <td>95.41</td>\n",
       "      <td>0.0</td>\n",
       "    </tr>\n",
       "    <tr>\n",
       "      <th>163676</th>\n",
       "      <td>2023-06-01 23:00:00</td>\n",
       "      <td>0.0</td>\n",
       "      <td>62579.0</td>\n",
       "      <td>12817.75</td>\n",
       "      <td>86.53</td>\n",
       "      <td>0.0</td>\n",
       "    </tr>\n",
       "    <tr>\n",
       "      <th>163677</th>\n",
       "      <td>2023-06-01 23:15:00</td>\n",
       "      <td>0.0</td>\n",
       "      <td>62579.0</td>\n",
       "      <td>12539.00</td>\n",
       "      <td>86.53</td>\n",
       "      <td>0.0</td>\n",
       "    </tr>\n",
       "    <tr>\n",
       "      <th>163678</th>\n",
       "      <td>2023-06-01 23:30:00</td>\n",
       "      <td>0.0</td>\n",
       "      <td>62579.0</td>\n",
       "      <td>12371.00</td>\n",
       "      <td>86.53</td>\n",
       "      <td>0.0</td>\n",
       "    </tr>\n",
       "    <tr>\n",
       "      <th>163679</th>\n",
       "      <td>2023-06-01 23:45:00</td>\n",
       "      <td>0.0</td>\n",
       "      <td>62579.0</td>\n",
       "      <td>12176.75</td>\n",
       "      <td>86.53</td>\n",
       "      <td>0.0</td>\n",
       "    </tr>\n",
       "  </tbody>\n",
       "</table>\n",
       "<p>163680 rows × 6 columns</p>\n",
       "</div>"
      ],
      "text/plain": [
       "                      Date  Photovoltaics [MWh] Original resolutions   \n",
       "0      2018-10-01 00:00:00                                       0.0  \\\n",
       "1      2018-10-01 00:15:00                                       0.0   \n",
       "2      2018-10-01 00:30:00                                       0.0   \n",
       "3      2018-10-01 00:45:00                                       0.0   \n",
       "4      2018-10-01 01:00:00                                       0.0   \n",
       "...                    ...                                       ...   \n",
       "163675 2023-06-01 22:45:00                                       0.0   \n",
       "163676 2023-06-01 23:00:00                                       0.0   \n",
       "163677 2023-06-01 23:15:00                                       0.0   \n",
       "163678 2023-06-01 23:30:00                                       0.0   \n",
       "163679 2023-06-01 23:45:00                                       0.0   \n",
       "\n",
       "        Photovoltaics [MW] Calculated resolutions   \n",
       "0                                         42805.0  \\\n",
       "1                                         42805.0   \n",
       "2                                         42805.0   \n",
       "3                                         42805.0   \n",
       "4                                         42805.0   \n",
       "...                                           ...   \n",
       "163675                                    62579.0   \n",
       "163676                                    62579.0   \n",
       "163677                                    62579.0   \n",
       "163678                                    62579.0   \n",
       "163679                                    62579.0   \n",
       "\n",
       "        Total (grid load) [MWh] Original resolutions   \n",
       "0                                           10589.75  \\\n",
       "1                                           10589.75   \n",
       "2                                           10589.75   \n",
       "3                                           10589.75   \n",
       "4                                           10589.75   \n",
       "...                                              ...   \n",
       "163675                                      12945.50   \n",
       "163676                                      12817.75   \n",
       "163677                                      12539.00   \n",
       "163678                                      12371.00   \n",
       "163679                                      12176.75   \n",
       "\n",
       "        Germany/Luxembourg [€/MWh] Calculated resolutions   \n",
       "0                                                   59.53  \\\n",
       "1                                                   59.53   \n",
       "2                                                   59.53   \n",
       "3                                                   59.53   \n",
       "4                                                   56.10   \n",
       "...                                                   ...   \n",
       "163675                                              95.41   \n",
       "163676                                              86.53   \n",
       "163677                                              86.53   \n",
       "163678                                              86.53   \n",
       "163679                                              86.53   \n",
       "\n",
       "        Solar_generation_MWh_normalized  \n",
       "0                                   0.0  \n",
       "1                                   0.0  \n",
       "2                                   0.0  \n",
       "3                                   0.0  \n",
       "4                                   0.0  \n",
       "...                                 ...  \n",
       "163675                              0.0  \n",
       "163676                              0.0  \n",
       "163677                              0.0  \n",
       "163678                              0.0  \n",
       "163679                              0.0  \n",
       "\n",
       "[163680 rows x 6 columns]"
      ]
     },
     "execution_count": 39,
     "metadata": {},
     "output_type": "execute_result"
    }
   ],
   "source": [
    "df"
   ]
  },
  {
   "cell_type": "code",
   "execution_count": 40,
   "metadata": {},
   "outputs": [],
   "source": [
    "column_names = ['date','pv_orig','pv_installed','consumption','price','pv_norm']"
   ]
  },
  {
   "cell_type": "code",
   "execution_count": 41,
   "metadata": {},
   "outputs": [],
   "source": [
    "df.columns = column_names"
   ]
  },
  {
   "cell_type": "code",
   "execution_count": 57,
   "metadata": {},
   "outputs": [
    {
     "data": {
      "text/html": [
       "<div>\n",
       "<style scoped>\n",
       "    .dataframe tbody tr th:only-of-type {\n",
       "        vertical-align: middle;\n",
       "    }\n",
       "\n",
       "    .dataframe tbody tr th {\n",
       "        vertical-align: top;\n",
       "    }\n",
       "\n",
       "    .dataframe thead th {\n",
       "        text-align: right;\n",
       "    }\n",
       "</style>\n",
       "<table border=\"1\" class=\"dataframe\">\n",
       "  <thead>\n",
       "    <tr style=\"text-align: right;\">\n",
       "      <th></th>\n",
       "      <th>date</th>\n",
       "      <th>pv_orig</th>\n",
       "      <th>pv_installed</th>\n",
       "      <th>consumption</th>\n",
       "      <th>price</th>\n",
       "      <th>pv_norm</th>\n",
       "    </tr>\n",
       "  </thead>\n",
       "  <tbody>\n",
       "    <tr>\n",
       "      <th>count</th>\n",
       "      <td>163680</td>\n",
       "      <td>163680.000000</td>\n",
       "      <td>163680.000000</td>\n",
       "      <td>163680.000000</td>\n",
       "      <td>163680.000000</td>\n",
       "      <td>163680.000000</td>\n",
       "    </tr>\n",
       "    <tr>\n",
       "      <th>mean</th>\n",
       "      <td>2021-01-30 11:25:53.753666048</td>\n",
       "      <td>1317.171841</td>\n",
       "      <td>51877.263978</td>\n",
       "      <td>14185.096180</td>\n",
       "      <td>97.992623</td>\n",
       "      <td>1584.258910</td>\n",
       "    </tr>\n",
       "    <tr>\n",
       "      <th>min</th>\n",
       "      <td>2018-10-01 00:00:00</td>\n",
       "      <td>0.000000</td>\n",
       "      <td>42805.000000</td>\n",
       "      <td>7471.000000</td>\n",
       "      <td>-129.960000</td>\n",
       "      <td>0.000000</td>\n",
       "    </tr>\n",
       "    <tr>\n",
       "      <th>25%</th>\n",
       "      <td>2019-12-01 04:56:15</td>\n",
       "      <td>0.000000</td>\n",
       "      <td>45435.000000</td>\n",
       "      <td>12179.500000</td>\n",
       "      <td>34.960000</td>\n",
       "      <td>0.000000</td>\n",
       "    </tr>\n",
       "    <tr>\n",
       "      <th>50%</th>\n",
       "      <td>2021-01-30 10:52:30</td>\n",
       "      <td>13.750000</td>\n",
       "      <td>53538.000000</td>\n",
       "      <td>14128.500000</td>\n",
       "      <td>53.110000</td>\n",
       "      <td>16.816748</td>\n",
       "    </tr>\n",
       "    <tr>\n",
       "      <th>75%</th>\n",
       "      <td>2022-04-01 17:48:45</td>\n",
       "      <td>2042.750000</td>\n",
       "      <td>58002.000000</td>\n",
       "      <td>16173.750000</td>\n",
       "      <td>119.962500</td>\n",
       "      <td>2485.099555</td>\n",
       "    </tr>\n",
       "    <tr>\n",
       "      <th>max</th>\n",
       "      <td>2023-06-01 23:45:00</td>\n",
       "      <td>10249.000000</td>\n",
       "      <td>62579.000000</td>\n",
       "      <td>20542.500000</td>\n",
       "      <td>871.000000</td>\n",
       "      <td>10770.803678</td>\n",
       "    </tr>\n",
       "    <tr>\n",
       "      <th>std</th>\n",
       "      <td>NaN</td>\n",
       "      <td>2073.171930</td>\n",
       "      <td>5898.121075</td>\n",
       "      <td>2455.453971</td>\n",
       "      <td>108.509004</td>\n",
       "      <td>2473.386880</td>\n",
       "    </tr>\n",
       "  </tbody>\n",
       "</table>\n",
       "</div>"
      ],
      "text/plain": [
       "                                date        pv_orig   pv_installed   \n",
       "count                         163680  163680.000000  163680.000000  \\\n",
       "mean   2021-01-30 11:25:53.753666048    1317.171841   51877.263978   \n",
       "min              2018-10-01 00:00:00       0.000000   42805.000000   \n",
       "25%              2019-12-01 04:56:15       0.000000   45435.000000   \n",
       "50%              2021-01-30 10:52:30      13.750000   53538.000000   \n",
       "75%              2022-04-01 17:48:45    2042.750000   58002.000000   \n",
       "max              2023-06-01 23:45:00   10249.000000   62579.000000   \n",
       "std                              NaN    2073.171930    5898.121075   \n",
       "\n",
       "         consumption          price        pv_norm  \n",
       "count  163680.000000  163680.000000  163680.000000  \n",
       "mean    14185.096180      97.992623    1584.258910  \n",
       "min      7471.000000    -129.960000       0.000000  \n",
       "25%     12179.500000      34.960000       0.000000  \n",
       "50%     14128.500000      53.110000      16.816748  \n",
       "75%     16173.750000     119.962500    2485.099555  \n",
       "max     20542.500000     871.000000   10770.803678  \n",
       "std      2455.453971     108.509004    2473.386880  "
      ]
     },
     "execution_count": 57,
     "metadata": {},
     "output_type": "execute_result"
    }
   ],
   "source": [
    "df.describe()"
   ]
  },
  {
   "cell_type": "code",
   "execution_count": 43,
   "metadata": {},
   "outputs": [],
   "source": [
    "#df.set_index('date',inplace=True, drop=True)"
   ]
  },
  {
   "cell_type": "code",
   "execution_count": 44,
   "metadata": {},
   "outputs": [
    {
     "name": "stdout",
     "output_type": "stream",
     "text": [
      "<class 'pandas.core.frame.DataFrame'>\n",
      "RangeIndex: 163680 entries, 0 to 163679\n",
      "Data columns (total 6 columns):\n",
      " #   Column        Non-Null Count   Dtype         \n",
      "---  ------        --------------   -----         \n",
      " 0   date          163680 non-null  datetime64[ns]\n",
      " 1   pv_orig       163680 non-null  float64       \n",
      " 2   pv_installed  163680 non-null  float64       \n",
      " 3   consumption   163680 non-null  float64       \n",
      " 4   price         163680 non-null  float64       \n",
      " 5   pv_norm       163680 non-null  float64       \n",
      "dtypes: datetime64[ns](1), float64(5)\n",
      "memory usage: 7.5 MB\n"
     ]
    }
   ],
   "source": [
    "df.info()"
   ]
  },
  {
   "cell_type": "code",
   "execution_count": 328,
   "metadata": {},
   "outputs": [],
   "source": [
    "baseline_model = MeanBaseline()"
   ]
  },
  {
   "cell_type": "code",
   "execution_count": 329,
   "metadata": {},
   "outputs": [],
   "source": [
    "baseline_model.fit(df[['price','pv_norm', 'consumption']], window=24*4)"
   ]
  },
  {
   "cell_type": "code",
   "execution_count": 330,
   "metadata": {},
   "outputs": [],
   "source": [
    "df_predictions = pd.DataFrame(baseline_model.predict(24*4))"
   ]
  },
  {
   "cell_type": "code",
   "execution_count": 331,
   "metadata": {},
   "outputs": [],
   "source": [
    "df_predictions.columns = ['pred_price', 'pred_pv_norm', 'pred_consumption']"
   ]
  },
  {
   "cell_type": "code",
   "execution_count": 332,
   "metadata": {},
   "outputs": [],
   "source": [
    "df_new = pd.concat([df.reset_index(drop=True),df_predictions],ignore_index=True)"
   ]
  },
  {
   "cell_type": "code",
   "execution_count": 333,
   "metadata": {},
   "outputs": [
    {
     "data": {
      "text/plain": [
       "date                    96\n",
       "pv_orig                 96\n",
       "pv_installed            96\n",
       "consumption             96\n",
       "price                   96\n",
       "pv_norm                 96\n",
       "pred_price          163680\n",
       "pred_pv_norm        163680\n",
       "pred_consumption    163680\n",
       "dtype: int64"
      ]
     },
     "execution_count": 333,
     "metadata": {},
     "output_type": "execute_result"
    }
   ],
   "source": [
    "df_new.isnull().sum()"
   ]
  },
  {
   "cell_type": "code",
   "execution_count": 431,
   "metadata": {},
   "outputs": [],
   "source": [
    "while df_new.isnull().sum()[0] > 0:\n",
    "    df_new['date'] = df_new['date'].fillna(df_new['date'].shift() + pd.Timedelta(minutes=15))"
   ]
  },
  {
   "cell_type": "code",
   "execution_count": 432,
   "metadata": {},
   "outputs": [
    {
     "data": {
      "text/plain": [
       "date                     0\n",
       "pv_orig                 96\n",
       "pv_installed            96\n",
       "consumption             96\n",
       "price                   96\n",
       "pv_norm                 96\n",
       "pred_price          163680\n",
       "pred_pv_norm        163680\n",
       "pred_consumption    163680\n",
       "dtype: int64"
      ]
     },
     "execution_count": 432,
     "metadata": {},
     "output_type": "execute_result"
    }
   ],
   "source": [
    "df_new.isnull().sum()"
   ]
  },
  {
   "cell_type": "code",
   "execution_count": 433,
   "metadata": {},
   "outputs": [],
   "source": [
    "df_new.drop(['pv_orig','price','pred_price','pv_installed', 'pv_norm', 'pred_pv_norm',  ],inplace=True,axis=1)"
   ]
  },
  {
   "cell_type": "code",
   "execution_count": 434,
   "metadata": {},
   "outputs": [],
   "source": [
    "df_new.set_index('date',inplace=True, drop=True)"
   ]
  },
  {
   "cell_type": "code",
   "execution_count": 435,
   "metadata": {},
   "outputs": [],
   "source": [
    "df_plotting = df_new.tail(500)"
   ]
  },
  {
   "cell_type": "code",
   "execution_count": 326,
   "metadata": {},
   "outputs": [],
   "source": [
    "import matplotlib.pyplot as plt"
   ]
  },
  {
   "cell_type": "code",
   "execution_count": 440,
   "metadata": {},
   "outputs": [
    {
     "data": {
      "image/png": "[encoded data removed]",
      "text/plain": [
       "<Figure size 640x480 with 1 Axes>"
      ]
     },
     "metadata": {},
     "output_type": "display_data"
    }
   ],
   "source": [
    "fig = plt.figure()\n",
    "ax = plt.subplot()\n",
    "plt.plot(df_plotting)\n",
    "plt.ylim(9000,17000)\n",
    "#plt.xlim()\n",
    "plt.show()"
   ]
  }
 ],
 "metadata": {
  "kernelspec": {
   "display_name": ".venv",
   "language": "python",
   "name": "python3"
  },
  "language_info": {
   "codemirror_mode": {
    "name": "ipython",
    "version": 3
   },
   "file_extension": ".py",
   "mimetype": "text/x-python",
   "name": "python",
   "nbconvert_exporter": "python",
   "pygments_lexer": "ipython3",
   "version": "3.11.3"
  },
  "orig_nbformat": 4
 },
 "nbformat": 4,
 "nbformat_minor": 2
}
