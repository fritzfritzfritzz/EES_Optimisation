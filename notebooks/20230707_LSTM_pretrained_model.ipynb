{
 "cells": [
  {
   "attachments": {},
   "cell_type": "markdown",
   "metadata": {},
   "source": [
    "# First Approach to a univariate Long-Short-Term Memory model for predicting the solar output  #\n",
    "\n",
    "For our optimisation we need solar output predictions. In this notebook we will use a univariate Long-Short-Term Memory model to predict the solar output. \n",
    "\n",
    "\n",
    " https://www.tensorflow.org/api_docs/python/tf/keras/layers/LSTM\n"
   ]
  },
  {
   "attachments": {},
   "cell_type": "markdown",
   "metadata": {},
   "source": [
    "First install all the dependencies:"
   ]
  },
  {
   "cell_type": "code",
   "execution_count": 14,
   "metadata": {},
   "outputs": [],
   "source": [
    "import pandas as pd\n",
    "import numpy as np\n",
    "import os\n",
    "\n",
    "import plotly.express as px\n",
    "import plotly.graph_objects as go\n",
    "import matplotlib.pyplot as plt\n",
    "import seaborn as sns\n",
    "\n",
    "from itertools import permutations\n",
    "\n",
    "from sklearn.metrics import mean_squared_error\n",
    "from math import sqrt\n",
    "from statsmodels.tsa.stattools import adfuller,kpss\n",
    "from statsmodels.tsa.seasonal import seasonal_decompose\n",
    "from statsmodels.tsa.arima_model import ARIMA\n",
    "from statsmodels.graphics.tsaplots import plot_pacf\n",
    "\n",
    "import statsmodels.graphics.tsaplots as tsaplot\n",
    "from statsmodels.tsa.holtwinters import Holt, ExponentialSmoothing, SimpleExpSmoothing\n",
    "\n",
    "import tensorflow as tf\n",
    "\n",
    "from tensorflow import keras\n",
    "\n",
    "from tensorflow.keras import layers\n",
    "from tensorflow.keras import regularizers\n",
    "from tensorflow.keras.utils import plot_model\n",
    "\n",
    "import keras \n",
    "from keras.models import Sequential # intitialize the ANN\n",
    "from keras.layers import Dense, Activation, Dropout, LSTM , Conv1D, MaxPooling1D  # create layers\n",
    "\n",
    "\n",
    "from sklearn.model_selection import train_test_split\n",
    "\n",
    "from sklearn.preprocessing import StandardScaler, MinMaxScaler\n",
    "\n",
    "import pickle\n",
    " \n",
    "np.random.seed(42)\n",
    "tf.random.set_seed(42)\n"
   ]
  },
  {
   "attachments": {},
   "cell_type": "markdown",
   "metadata": {},
   "source": [
    "We will start with loading the pickle file with our full dataset into this notebook. \n",
    "\n"
   ]
  },
  {
   "cell_type": "code",
   "execution_count": 2,
   "metadata": {},
   "outputs": [],
   "source": [
    "df = pd.read_pickle(\"../data/final_dataframe.pkl\")"
   ]
  },
  {
   "attachments": {},
   "cell_type": "markdown",
   "metadata": {},
   "source": [
    "The column names are not very easy to work with and can be a bit hard to read. Therefore we will rename them to make them easier to read."
   ]
  },
  {
   "cell_type": "code",
   "execution_count": 3,
   "metadata": {},
   "outputs": [
    {
     "data": {
      "text/html": [
       "<div>\n",
       "<style scoped>\n",
       "    .dataframe tbody tr th:only-of-type {\n",
       "        vertical-align: middle;\n",
       "    }\n",
       "\n",
       "    .dataframe tbody tr th {\n",
       "        vertical-align: top;\n",
       "    }\n",
       "\n",
       "    .dataframe thead th {\n",
       "        text-align: right;\n",
       "    }\n",
       "</style>\n",
       "<table border=\"1\" class=\"dataframe\">\n",
       "  <thead>\n",
       "    <tr style=\"text-align: right;\">\n",
       "      <th></th>\n",
       "      <th>Date</th>\n",
       "      <th>Solar_generation_MWh</th>\n",
       "      <th>Solar_installed_MW</th>\n",
       "      <th>Total_consumption_MWh</th>\n",
       "      <th>DE_LU_price_per_MWh</th>\n",
       "      <th>normalisation_factor</th>\n",
       "      <th>Solar_generation_MWh_normalized</th>\n",
       "    </tr>\n",
       "  </thead>\n",
       "  <tbody>\n",
       "    <tr>\n",
       "      <th>0</th>\n",
       "      <td>2018-10-01 00:00:00</td>\n",
       "      <td>0.0</td>\n",
       "      <td>42805.0</td>\n",
       "      <td>10589.75</td>\n",
       "      <td>59.53</td>\n",
       "      <td>0.684015</td>\n",
       "      <td>0.0</td>\n",
       "    </tr>\n",
       "    <tr>\n",
       "      <th>1</th>\n",
       "      <td>2018-10-01 00:15:00</td>\n",
       "      <td>0.0</td>\n",
       "      <td>42805.0</td>\n",
       "      <td>10589.75</td>\n",
       "      <td>59.53</td>\n",
       "      <td>0.684015</td>\n",
       "      <td>0.0</td>\n",
       "    </tr>\n",
       "    <tr>\n",
       "      <th>2</th>\n",
       "      <td>2018-10-01 00:30:00</td>\n",
       "      <td>0.0</td>\n",
       "      <td>42805.0</td>\n",
       "      <td>10589.75</td>\n",
       "      <td>59.53</td>\n",
       "      <td>0.684015</td>\n",
       "      <td>0.0</td>\n",
       "    </tr>\n",
       "    <tr>\n",
       "      <th>3</th>\n",
       "      <td>2018-10-01 00:45:00</td>\n",
       "      <td>0.0</td>\n",
       "      <td>42805.0</td>\n",
       "      <td>10589.75</td>\n",
       "      <td>59.53</td>\n",
       "      <td>0.684015</td>\n",
       "      <td>0.0</td>\n",
       "    </tr>\n",
       "    <tr>\n",
       "      <th>4</th>\n",
       "      <td>2018-10-01 01:00:00</td>\n",
       "      <td>0.0</td>\n",
       "      <td>42805.0</td>\n",
       "      <td>10589.75</td>\n",
       "      <td>56.10</td>\n",
       "      <td>0.684015</td>\n",
       "      <td>0.0</td>\n",
       "    </tr>\n",
       "    <tr>\n",
       "      <th>...</th>\n",
       "      <td>...</td>\n",
       "      <td>...</td>\n",
       "      <td>...</td>\n",
       "      <td>...</td>\n",
       "      <td>...</td>\n",
       "      <td>...</td>\n",
       "      <td>...</td>\n",
       "    </tr>\n",
       "    <tr>\n",
       "      <th>163675</th>\n",
       "      <td>2023-06-01 22:45:00</td>\n",
       "      <td>0.0</td>\n",
       "      <td>62579.0</td>\n",
       "      <td>12945.50</td>\n",
       "      <td>95.41</td>\n",
       "      <td>1.000000</td>\n",
       "      <td>0.0</td>\n",
       "    </tr>\n",
       "    <tr>\n",
       "      <th>163676</th>\n",
       "      <td>2023-06-01 23:00:00</td>\n",
       "      <td>0.0</td>\n",
       "      <td>62579.0</td>\n",
       "      <td>12817.75</td>\n",
       "      <td>86.53</td>\n",
       "      <td>1.000000</td>\n",
       "      <td>0.0</td>\n",
       "    </tr>\n",
       "    <tr>\n",
       "      <th>163677</th>\n",
       "      <td>2023-06-01 23:15:00</td>\n",
       "      <td>0.0</td>\n",
       "      <td>62579.0</td>\n",
       "      <td>12539.00</td>\n",
       "      <td>86.53</td>\n",
       "      <td>1.000000</td>\n",
       "      <td>0.0</td>\n",
       "    </tr>\n",
       "    <tr>\n",
       "      <th>163678</th>\n",
       "      <td>2023-06-01 23:30:00</td>\n",
       "      <td>0.0</td>\n",
       "      <td>62579.0</td>\n",
       "      <td>12371.00</td>\n",
       "      <td>86.53</td>\n",
       "      <td>1.000000</td>\n",
       "      <td>0.0</td>\n",
       "    </tr>\n",
       "    <tr>\n",
       "      <th>163679</th>\n",
       "      <td>2023-06-01 23:45:00</td>\n",
       "      <td>0.0</td>\n",
       "      <td>62579.0</td>\n",
       "      <td>12176.75</td>\n",
       "      <td>86.53</td>\n",
       "      <td>1.000000</td>\n",
       "      <td>0.0</td>\n",
       "    </tr>\n",
       "  </tbody>\n",
       "</table>\n",
       "<p>163680 rows × 7 columns</p>\n",
       "</div>"
      ],
      "text/plain": [
       "                      Date  Solar_generation_MWh  Solar_installed_MW   \n",
       "0      2018-10-01 00:00:00                   0.0             42805.0  \\\n",
       "1      2018-10-01 00:15:00                   0.0             42805.0   \n",
       "2      2018-10-01 00:30:00                   0.0             42805.0   \n",
       "3      2018-10-01 00:45:00                   0.0             42805.0   \n",
       "4      2018-10-01 01:00:00                   0.0             42805.0   \n",
       "...                    ...                   ...                 ...   \n",
       "163675 2023-06-01 22:45:00                   0.0             62579.0   \n",
       "163676 2023-06-01 23:00:00                   0.0             62579.0   \n",
       "163677 2023-06-01 23:15:00                   0.0             62579.0   \n",
       "163678 2023-06-01 23:30:00                   0.0             62579.0   \n",
       "163679 2023-06-01 23:45:00                   0.0             62579.0   \n",
       "\n",
       "        Total_consumption_MWh  DE_LU_price_per_MWh  normalisation_factor   \n",
       "0                    10589.75                59.53              0.684015  \\\n",
       "1                    10589.75                59.53              0.684015   \n",
       "2                    10589.75                59.53              0.684015   \n",
       "3                    10589.75                59.53              0.684015   \n",
       "4                    10589.75                56.10              0.684015   \n",
       "...                       ...                  ...                   ...   \n",
       "163675               12945.50                95.41              1.000000   \n",
       "163676               12817.75                86.53              1.000000   \n",
       "163677               12539.00                86.53              1.000000   \n",
       "163678               12371.00                86.53              1.000000   \n",
       "163679               12176.75                86.53              1.000000   \n",
       "\n",
       "        Solar_generation_MWh_normalized  \n",
       "0                                   0.0  \n",
       "1                                   0.0  \n",
       "2                                   0.0  \n",
       "3                                   0.0  \n",
       "4                                   0.0  \n",
       "...                                 ...  \n",
       "163675                              0.0  \n",
       "163676                              0.0  \n",
       "163677                              0.0  \n",
       "163678                              0.0  \n",
       "163679                              0.0  \n",
       "\n",
       "[163680 rows x 7 columns]"
      ]
     },
     "execution_count": 3,
     "metadata": {},
     "output_type": "execute_result"
    }
   ],
   "source": [
    "def col_names(df):\n",
    "    ''' this function renames the columns to make them easier to read \n",
    "      additionally set the date as index in our dataframe'''\n",
    "    column_names = {'Photovoltaics [MWh] Original resolutions': 'Solar_generation_MWh',\n",
    "                'Photovoltaics [MW] Calculated resolutions': 'Solar_installed_MW',\n",
    "                'Total (grid load) [MWh] Original resolutions': 'Total_consumption_MWh',\n",
    "                'Germany/Luxembourg [€/MWh] Calculated resolutions': 'DE_LU_price_per_MWh',}\n",
    "    df.rename(columns=column_names, inplace=True)\n",
    "    #df.set_index('Date', inplace=True)\n",
    "    return df\n",
    "\n",
    "col_names(df)\n"
   ]
  },
  {
   "attachments": {},
   "cell_type": "markdown",
   "metadata": {},
   "source": [
    "Now we can already split the data into train and test set. Important to note here is that the shuffle has to be false otherwise the split is not appropriate for time series analysis. I will use the previously defined approach from the 20230704_train_val_test_split notebook "
   ]
  },
  {
   "cell_type": "code",
   "execution_count": 114,
   "metadata": {},
   "outputs": [],
   "source": [
    "# I have a huge problem with the 0 therfore I will add 1 to all my datapoints \n",
    "#df['Solar_generation_MWh_normalized'] = df['Solar_generation_MWh_normalized'] + 1"
   ]
  },
  {
   "cell_type": "code",
   "execution_count": 6,
   "metadata": {},
   "outputs": [],
   "source": [
    "target = ['Date', 'Solar_generation_MWh_normalized']"
   ]
  },
  {
   "cell_type": "code",
   "execution_count": 7,
   "metadata": {},
   "outputs": [],
   "source": [
    "def test_train_timeseries(df, target):\n",
    "    ''' In the first part we select the train and test data.\n",
    "    In the second per the columns we want to use for our predictions '''\n",
    "    \n",
    "    test = df[df.Date >= '2022-06-01']\n",
    "    train = df[df.Date < '2022-06-01']\n",
    "\n",
    "    # now we select the columns we want to use for our predictions\n",
    "\n",
    "    test = test[target]\n",
    "    train = train[target]\n",
    "    return test, train\n",
    "\n",
    "test, train = test_train_timeseries(df, target)"
   ]
  },
  {
   "cell_type": "code",
   "execution_count": 117,
   "metadata": {},
   "outputs": [],
   "source": [
    "#Alternatively we could also use \n",
    "#train, test = train_test_split(df[['Solar_generation_MWh_normalized']], test_size=.25, shuffle=False)"
   ]
  },
  {
   "attachments": {},
   "cell_type": "markdown",
   "metadata": {},
   "source": [
    "I worked nicely"
   ]
  },
  {
   "cell_type": "code",
   "execution_count": 12,
   "metadata": {},
   "outputs": [],
   "source": [
    "#Scale the data for the model #! Test MinMaxScaler \n",
    "\n",
    "scalable = ['Solar_generation_MWh_normalized']\n",
    "\n",
    "scaler = StandardScaler()\n",
    "train[scalable] = scaler.fit_transform(train[scalable])\n",
    "test[scalable] = scaler.transform(test[scalable])"
   ]
  },
  {
   "cell_type": "code",
   "execution_count": 15,
   "metadata": {},
   "outputs": [],
   "source": [
    "with open('../models/solar_scaler.pkl','wb') as f:\n",
    "    pickle.dump(scaler, f)"
   ]
  },
  {
   "cell_type": "code",
   "execution_count": 16,
   "metadata": {},
   "outputs": [
    {
     "data": {
      "text/html": [
       "<div>\n",
       "<style scoped>\n",
       "    .dataframe tbody tr th:only-of-type {\n",
       "        vertical-align: middle;\n",
       "    }\n",
       "\n",
       "    .dataframe tbody tr th {\n",
       "        vertical-align: top;\n",
       "    }\n",
       "\n",
       "    .dataframe thead th {\n",
       "        text-align: right;\n",
       "    }\n",
       "</style>\n",
       "<table border=\"1\" class=\"dataframe\">\n",
       "  <thead>\n",
       "    <tr style=\"text-align: right;\">\n",
       "      <th></th>\n",
       "      <th>Date</th>\n",
       "      <th>Solar_generation_MWh_normalized</th>\n",
       "    </tr>\n",
       "  </thead>\n",
       "  <tbody>\n",
       "    <tr>\n",
       "      <th>128544</th>\n",
       "      <td>2022-06-01 00:00:00</td>\n",
       "      <td>-0.638367</td>\n",
       "    </tr>\n",
       "    <tr>\n",
       "      <th>128545</th>\n",
       "      <td>2022-06-01 00:15:00</td>\n",
       "      <td>-0.638367</td>\n",
       "    </tr>\n",
       "    <tr>\n",
       "      <th>128546</th>\n",
       "      <td>2022-06-01 00:30:00</td>\n",
       "      <td>-0.638367</td>\n",
       "    </tr>\n",
       "    <tr>\n",
       "      <th>128547</th>\n",
       "      <td>2022-06-01 00:45:00</td>\n",
       "      <td>-0.638367</td>\n",
       "    </tr>\n",
       "    <tr>\n",
       "      <th>128548</th>\n",
       "      <td>2022-06-01 01:00:00</td>\n",
       "      <td>-0.638367</td>\n",
       "    </tr>\n",
       "    <tr>\n",
       "      <th>...</th>\n",
       "      <td>...</td>\n",
       "      <td>...</td>\n",
       "    </tr>\n",
       "    <tr>\n",
       "      <th>163675</th>\n",
       "      <td>2023-06-01 22:45:00</td>\n",
       "      <td>-0.638367</td>\n",
       "    </tr>\n",
       "    <tr>\n",
       "      <th>163676</th>\n",
       "      <td>2023-06-01 23:00:00</td>\n",
       "      <td>-0.638367</td>\n",
       "    </tr>\n",
       "    <tr>\n",
       "      <th>163677</th>\n",
       "      <td>2023-06-01 23:15:00</td>\n",
       "      <td>-0.638367</td>\n",
       "    </tr>\n",
       "    <tr>\n",
       "      <th>163678</th>\n",
       "      <td>2023-06-01 23:30:00</td>\n",
       "      <td>-0.638367</td>\n",
       "    </tr>\n",
       "    <tr>\n",
       "      <th>163679</th>\n",
       "      <td>2023-06-01 23:45:00</td>\n",
       "      <td>-0.638367</td>\n",
       "    </tr>\n",
       "  </tbody>\n",
       "</table>\n",
       "<p>35136 rows × 2 columns</p>\n",
       "</div>"
      ],
      "text/plain": [
       "                      Date  Solar_generation_MWh_normalized\n",
       "128544 2022-06-01 00:00:00                        -0.638367\n",
       "128545 2022-06-01 00:15:00                        -0.638367\n",
       "128546 2022-06-01 00:30:00                        -0.638367\n",
       "128547 2022-06-01 00:45:00                        -0.638367\n",
       "128548 2022-06-01 01:00:00                        -0.638367\n",
       "...                    ...                              ...\n",
       "163675 2023-06-01 22:45:00                        -0.638367\n",
       "163676 2023-06-01 23:00:00                        -0.638367\n",
       "163677 2023-06-01 23:15:00                        -0.638367\n",
       "163678 2023-06-01 23:30:00                        -0.638367\n",
       "163679 2023-06-01 23:45:00                        -0.638367\n",
       "\n",
       "[35136 rows x 2 columns]"
      ]
     },
     "execution_count": 16,
     "metadata": {},
     "output_type": "execute_result"
    }
   ],
   "source": [
    "test"
   ]
  },
  {
   "cell_type": "code",
   "execution_count": 17,
   "metadata": {},
   "outputs": [],
   "source": [
    "# split a univariate sequence into samller samples to feed into the LSTM\n",
    "def split_sequence(input, n_steps, pred_size, target = []):\n",
    "    ''' This function will split our timeseries into supervised timeseries snipets. \n",
    "    input = dataframe to be split\n",
    "    n_steps = length of the X_variable \n",
    "    pred_size = length of the y_variable\n",
    "    features = list of targets to be split\n",
    "    At the same time we will collect the corresponding timestamps in two additional arrays '''\n",
    "    input_array = input[target]\n",
    "    date_array = input['Date']\n",
    "\n",
    "    x_index, y_index = list(), list()\n",
    "    x, y = list(), list()\n",
    "    for i in range(len(input_array)):\n",
    "        end_ix = i + n_steps # find the end of this pattern\n",
    "        if end_ix+pred_size > len(input)-1: # check if we are beyond the sequence\n",
    "            break\n",
    "        seq_x, seq_y = input_array[i:end_ix], input_array[end_ix: end_ix+pred_size]# gather input and output parts of the pattern\n",
    "        ind_x, ind_y = date_array[i:end_ix], date_array[end_ix: end_ix+pred_size]# gather input and output Dates of the pattern\n",
    "        x.append(seq_x)\n",
    "        y.append(seq_y)\n",
    "        x_index.append(ind_x)\n",
    "        y_index.append(ind_y)\n",
    "\n",
    "    \n",
    "    return np.array(x), np.squeeze(np.array(y)), np.array(x_index), np.squeeze(np.array(y_index)) "
   ]
  },
  {
   "cell_type": "code",
   "execution_count": 18,
   "metadata": {},
   "outputs": [
    {
     "name": "stdout",
     "output_type": "stream",
     "text": [
      "127776 127776\n"
     ]
    }
   ],
   "source": [
    "# define input sequence\n",
    "input = train\n",
    "# choose a number of time steps\n",
    "n_steps = 672\n",
    "# prediction size \n",
    "pred_size= 96\n",
    "\n",
    "target = ['Solar_generation_MWh_normalized']\n",
    "\n",
    "# split into samples\n",
    "X, y, X_train_index, Y_train_index = split_sequence(input, n_steps, pred_size, target)\n",
    "# summarize the data\n",
    "print(len(X), len(y))\n"
   ]
  },
  {
   "cell_type": "code",
   "execution_count": 19,
   "metadata": {},
   "outputs": [
    {
     "name": "stdout",
     "output_type": "stream",
     "text": [
      "(127776, 672, 1) (127776, 96)\n",
      "(127776, 672) (127776, 96)\n"
     ]
    }
   ],
   "source": [
    "print(X.shape, y.shape)\n",
    "\n",
    "print(X_train_index.shape, Y_train_index.shape)"
   ]
  },
  {
   "cell_type": "code",
   "execution_count": 20,
   "metadata": {},
   "outputs": [],
   "source": [
    "X_test, y_test, X_test_index, Y_test_index = split_sequence(test , n_steps, pred_size, target)"
   ]
  },
  {
   "cell_type": "code",
   "execution_count": 21,
   "metadata": {},
   "outputs": [
    {
     "name": "stdout",
     "output_type": "stream",
     "text": [
      "(34368, 672, 1) (34368, 96)\n",
      "(34368, 672) (34368, 96)\n"
     ]
    }
   ],
   "source": [
    "print(X_test.shape, y_test.shape)\n",
    "\n",
    "print(X_test_index.shape, Y_test_index.shape)"
   ]
  },
  {
   "cell_type": "code",
   "execution_count": 22,
   "metadata": {},
   "outputs": [],
   "source": [
    "#Now we have to define the validation set for our model #! I see this approach is not so useful, therefore I will use the train test split with shuffling to obtain the validation data. Here i am not loosing the lateest data for training my model \n",
    "def val_set(X,y):\n",
    "    X, X_val, y, y_val = train_test_split(X, y, test_size=0.2, shuffle=False)\n",
    "    return X, X_val, y, y_val\n",
    "    #! old approach\n",
    "    #train_size = round(len(X) * 0.8)\n",
    "    #X = X[:train_size, :]\n",
    "    #X_val = X[train_size:, :]\n",
    "    #y = y[:train_size, :]\n",
    "    #y_val = y[train_size:, :]\n",
    "    \n",
    "X, X_val, y, y_val = val_set(X, y)"
   ]
  },
  {
   "cell_type": "code",
   "execution_count": 23,
   "metadata": {},
   "outputs": [
    {
     "data": {
      "text/plain": [
       "(25556, 96)"
      ]
     },
     "execution_count": 23,
     "metadata": {},
     "output_type": "execute_result"
    }
   ],
   "source": [
    "y_val.shape"
   ]
  },
  {
   "cell_type": "code",
   "execution_count": 24,
   "metadata": {},
   "outputs": [],
   "source": [
    "# reshape from [samples, timesteps] into [samples, timesteps, features]\n",
    " #! correction still necessary\n",
    "\n",
    "def reshape_for_LSTM(X, y, features):\n",
    "    features\n",
    "    X = X.reshape((X.shape[0], X.shape[1], features))\n",
    "    y = y.reshape((y.shape[0], y.shape[1]))\n",
    "    return X, y"
   ]
  },
  {
   "cell_type": "code",
   "execution_count": 25,
   "metadata": {},
   "outputs": [],
   "source": [
    "X, y = reshape_for_LSTM(X, y, 1)"
   ]
  },
  {
   "cell_type": "code",
   "execution_count": 26,
   "metadata": {},
   "outputs": [],
   "source": [
    "X_val, y_val = reshape_for_LSTM(X_val, y_val, 1)"
   ]
  },
  {
   "cell_type": "code",
   "execution_count": 27,
   "metadata": {},
   "outputs": [],
   "source": [
    "X_test, y_test = reshape_for_LSTM(X_test, y_test, 1)"
   ]
  },
  {
   "cell_type": "code",
   "execution_count": 28,
   "metadata": {},
   "outputs": [
    {
     "data": {
      "text/plain": [
       "(25556, 672, 1)"
      ]
     },
     "execution_count": 28,
     "metadata": {},
     "output_type": "execute_result"
    }
   ],
   "source": [
    "X_val.shape"
   ]
  },
  {
   "cell_type": "code",
   "execution_count": 29,
   "metadata": {},
   "outputs": [
    {
     "data": {
      "text/plain": [
       "(102220, 672, 1)"
      ]
     },
     "execution_count": 29,
     "metadata": {},
     "output_type": "execute_result"
    }
   ],
   "source": [
    "X.shape"
   ]
  },
  {
   "attachments": {},
   "cell_type": "markdown",
   "metadata": {},
   "source": [
    "## Now we can import our pretrained model ##\n",
    "\n"
   ]
  },
  {
   "cell_type": "code",
   "execution_count": 30,
   "metadata": {},
   "outputs": [],
   "source": [
    "simple_LSTM = tf.keras.models.load_model('../models/saved_model/complex_univariate_LSTM')"
   ]
  },
  {
   "cell_type": "code",
   "execution_count": 32,
   "metadata": {},
   "outputs": [
    {
     "name": "stdout",
     "output_type": "stream",
     "text": [
      "3195/3195 [==============================] - 101s 32ms/step - loss: 0.1048 - mean_absolute_percentage_error: 130.6040\n"
     ]
    }
   ],
   "source": [
    "scores = simple_LSTM.evaluate(X, y)"
   ]
  },
  {
   "cell_type": "code",
   "execution_count": 33,
   "metadata": {},
   "outputs": [
    {
     "name": "stdout",
     "output_type": "stream",
     "text": [
      "\n",
      "mean_absolute_percentage_error: 130.60%\n"
     ]
    }
   ],
   "source": [
    "print(\"\\n%s: %.2f%%\" % (simple_LSTM.metrics_names[1], scores[1]))"
   ]
  },
  {
   "cell_type": "code",
   "execution_count": 34,
   "metadata": {},
   "outputs": [
    {
     "name": "stdout",
     "output_type": "stream",
     "text": [
      "[[-0.6523228  -0.63978577 -0.65357035 ... -0.6497922  -0.66473603\n",
      "  -0.66672194]\n",
      " [-0.63802636 -0.6232557  -0.63961583 ... -0.6356775  -0.64848006\n",
      "  -0.6516876 ]\n",
      " [-0.62573946 -0.61052805 -0.6285246  ... -0.6226535  -0.6339941\n",
      "  -0.63806105]\n",
      " ...\n",
      " [-0.55609566 -0.55650437 -0.5509321  ... -0.5408409  -0.57819206\n",
      "  -0.55683106]\n",
      " [-0.55727655 -0.5530295  -0.5488323  ... -0.5468478  -0.5851385\n",
      "  -0.5659196 ]\n",
      " [-0.5551415  -0.5463371  -0.5423428  ... -0.5504939  -0.5880582\n",
      "  -0.56969965]]\n"
     ]
    }
   ],
   "source": [
    "#x_input = x_input.reshape((x_input.shape[0], x_input.shape[1], 1))\n",
    "y_pred = simple_LSTM.predict(X_test, verbose=0)\n",
    "print(y_pred)"
   ]
  },
  {
   "cell_type": "code",
   "execution_count": 35,
   "metadata": {},
   "outputs": [
    {
     "name": "stdout",
     "output_type": "stream",
     "text": [
      "Evaluate on test data\n",
      "14/14 [==============================] - 20s 1s/step - loss: 0.1040 - mean_absolute_percentage_error: 99.2835\n",
      "test loss, test MAPE: [0.10403409600257874, 99.2835464477539]\n"
     ]
    }
   ],
   "source": [
    "print(\"Evaluate on test data\")\n",
    "results = simple_LSTM.evaluate(X_test, y_test, batch_size=2600)\n",
    "print(\"test loss, test MAPE:\", results)"
   ]
  },
  {
   "attachments": {},
   "cell_type": "markdown",
   "metadata": {},
   "source": [
    "## Make a new timeseries from out predicted values so we can plot them nicely"
   ]
  },
  {
   "cell_type": "markdown",
   "metadata": {},
   "source": [
    "Here i will try hiracical indexing to make a table with all the predictions "
   ]
  },
  {
   "cell_type": "code",
   "execution_count": 58,
   "metadata": {},
   "outputs": [],
   "source": [
    "#combi_dict = dict(zip((\"Y_test_index\", \"y_test\", \"y_pred\"), (Y_test_index, y_test, y_pred)))"
   ]
  },
  {
   "cell_type": "code",
   "execution_count": 41,
   "metadata": {},
   "outputs": [],
   "source": [
    "def make_plotting_table(y_test, y_pred, Y_test_index, time=1):\n",
    "    inversed_y_test = scaler.inverse_transform(y_test)\n",
    "    inversed_y_pred = scaler.inverse_transform(y_pred)\n",
    "    inversed_y_test = pd.DataFrame(inversed_y_test[time-1:time, :].T, columns=['true'])\n",
    "    Date = pd.DataFrame(Y_test_index[time-1:time, :].T, columns=['Date'])\n",
    "    inversed_y_pred = pd.DataFrame(inversed_y_pred[time-1:time, :].T, columns=['predicted'])\n",
    "    df_date = Date\n",
    "    df_3 = pd.concat([df_date, inversed_y_test], axis=1)\n",
    "    df_plotting = pd.concat([df_3, inversed_y_pred] ,axis=1)\n",
    "    df_melted = df_plotting.melt(id_vars = 'Date', value_vars=['predicted', 'true'], var_name = 'Variable', value_name = \"Value\")\n",
    "    df_melted[\"Date\"] = pd.to_datetime(df_melted['Date'])\n",
    "    return df_melted"
   ]
  },
  {
   "cell_type": "code",
   "execution_count": 42,
   "metadata": {},
   "outputs": [],
   "source": [
    "df_plotting = make_plotting_table(y_test, y_pred, Y_test_index, 2)"
   ]
  },
  {
   "cell_type": "code",
   "execution_count": 43,
   "metadata": {},
   "outputs": [],
   "source": [
    "df_plotting['hour']= pd.to_datetime(df_plotting['Date']).dt.time"
   ]
  },
  {
   "cell_type": "code",
   "execution_count": 44,
   "metadata": {},
   "outputs": [
    {
     "data": {
      "image/png": "[encoded data removed]",
      "text/plain": [
       "<Figure size 640x480 with 1 Axes>"
      ]
     },
     "metadata": {},
     "output_type": "display_data"
    }
   ],
   "source": [
    "sns.lineplot(data=df_plotting, x ='Date' , y = 'Value', hue = 'Variable')\n",
    "plt.xticks(rotation=45)\n",
    "plt.ylabel('Photovoltaic output [MWh]')\n",
    "plt.show()"
   ]
  },
  {
   "attachments": {},
   "cell_type": "markdown",
   "metadata": {},
   "source": [
    "The results are getting better. The daily seasonality is taken care of the main problem seems to be the summer winter seasonality. This could be tackled by using the weather data and/ or including the lag feature or weekday-month feature"
   ]
  },
  {
   "attachments": {},
   "cell_type": "markdown",
   "metadata": {},
   "source": [
    "### Let's now create a proper output table which can then be used for the Optimisation ###\n",
    "Now we will transform out output back into the same units as before and add them to a dataframe. "
   ]
  },
  {
   "cell_type": "code",
   "execution_count": 131,
   "metadata": {},
   "outputs": [],
   "source": [
    "def reverse_and_frame(X, y, X_test_index, Y_test_index):\n",
    "    ''' The input are both our arrays X_test and the predicted y and the date index of the original X_test array.\n",
    "    Arguments: X = the original X_test set \n",
    "             y = the predicted y set\n",
    "             X_test = the original index of X_test\n",
    "\n",
    "    Returns: a dataframe containing the date of the prediction (last day of X_test input)\n",
    "            the original X-test set \n",
    "            the predicted values for y destandardized\n",
    "\n",
    "\n",
    "     1st. Inverse transfrom the arrays to the original dimensions needed by the optimizer \n",
    "     2nd. Create a dataframe for both x_test and y_pred \n",
    "     3rd. Merge all the columns representing the timesteps into a single array in one column \n",
    "     4th. Create an empty dataframe and add the last date of X_test_index as the timepoint from which the prediction started\n",
    "     5th  Concatenate the two dataframes into one \n",
    "    '''\n",
    "    #1\n",
    "    inversed_y_pred = scaler.inverse_transform(y)\n",
    "    inversed_X_test = scaler.inverse_transform(X.reshape(X.shape[0], X.shape[1]))\n",
    "\n",
    "    #2\n",
    "    X_test = pd.DataFrame(inversed_X_test)\n",
    "    X_index_df = pd.DataFrame(X_test_index)\n",
    "    y_pred = pd.DataFrame(inversed_y_pred)\n",
    "    y_index = pd.DataFrame(Y_test_index)\n",
    "\n",
    "\n",
    "    #3\n",
    "    X_test['input_array'] = X_test.apply(lambda row: np.array(row), axis=1)\n",
    "    X_index_df['input_Timestamp'] = X_index_df.apply(lambda row: np.array(row), axis=1)\n",
    "    y_pred['output_array'] = y_pred.apply(lambda row: np.array(row), axis=1)\n",
    "    y_index['output_Timestamp'] = y_index.apply(lambda row: np.array(row), axis=1)\n",
    "\n",
    "    #4\n",
    "    df_final = pd.DataFrame((X_test_index[:, -1]), columns=[\"Prediction_date\"] )\n",
    "    #df_final[\"Prediction_date\"]= X_test_index[:, -1]\n",
    "\n",
    "    #5\n",
    "    df_final['output_Timestamp'] = y_index['output_Timestamp']\n",
    "    df_final['solar_output'] = y_pred['output_array']\n",
    "    df_final['input_Timestamp'] = X_index_df['input_Timestamp']\n",
    "    df_final['input'] = X_test['input_array']\n",
    "    return df_final"
   ]
  },
  {
   "cell_type": "code",
   "execution_count": 132,
   "metadata": {},
   "outputs": [],
   "source": [
    "solar_predictions= reverse_and_frame(X_test, y_pred, X_test_index, Y_test_index)"
   ]
  },
  {
   "cell_type": "code",
   "execution_count": 126,
   "metadata": {},
   "outputs": [
    {
     "data": {
      "text/html": [
       "<div>\n",
       "<style scoped>\n",
       "    .dataframe tbody tr th:only-of-type {\n",
       "        vertical-align: middle;\n",
       "    }\n",
       "\n",
       "    .dataframe tbody tr th {\n",
       "        vertical-align: top;\n",
       "    }\n",
       "\n",
       "    .dataframe thead th {\n",
       "        text-align: right;\n",
       "    }\n",
       "</style>\n",
       "<table border=\"1\" class=\"dataframe\">\n",
       "  <thead>\n",
       "    <tr style=\"text-align: right;\">\n",
       "      <th></th>\n",
       "      <th>Prediction_date</th>\n",
       "      <th>solar_output_Timestamp</th>\n",
       "      <th>solar_output</th>\n",
       "      <th>input_Timestamp</th>\n",
       "      <th>input</th>\n",
       "    </tr>\n",
       "  </thead>\n",
       "  <tbody>\n",
       "    <tr>\n",
       "      <th>0</th>\n",
       "      <td>2022-06-07 23:45:00</td>\n",
       "      <td>[2022-06-08T00:00:00.000000000, 2022-06-08T00:...</td>\n",
       "      <td>[-34.365818, -3.4939919, -37.43784, -44.094578...</td>\n",
       "      <td>[2022-06-01T00:00:00.000000000, 2022-06-01T00:...</td>\n",
       "      <td>[0.0, 0.0, 0.0, 0.0, 0.0, 0.0, 0.0, 0.0, 0.0, ...</td>\n",
       "    </tr>\n",
       "    <tr>\n",
       "      <th>1</th>\n",
       "      <td>2022-06-08 00:00:00</td>\n",
       "      <td>[2022-06-08T00:15:00.000000000, 2022-06-08T00:...</td>\n",
       "      <td>[0.8384055, 37.21023, -3.0755348, -10.384129, ...</td>\n",
       "      <td>[2022-06-01T00:15:00.000000000, 2022-06-01T00:...</td>\n",
       "      <td>[0.0, 0.0, 0.0, 0.0, 0.0, 0.0, 0.0, 0.0, 0.0, ...</td>\n",
       "    </tr>\n",
       "    <tr>\n",
       "      <th>2</th>\n",
       "      <td>2022-06-08 00:15:00</td>\n",
       "      <td>[2022-06-08T00:30:00.000000000, 2022-06-08T00:...</td>\n",
       "      <td>[31.094265, 68.551414, 24.235989, 17.597195, 2...</td>\n",
       "      <td>[2022-06-01T00:30:00.000000000, 2022-06-01T00:...</td>\n",
       "      <td>[0.0, 0.0, 0.0, 0.0, 0.0, 0.0, 0.0, 0.0, 0.0, ...</td>\n",
       "    </tr>\n",
       "    <tr>\n",
       "      <th>3</th>\n",
       "      <td>2022-06-08 00:30:00</td>\n",
       "      <td>[2022-06-08T00:45:00.000000000, 2022-06-08T01:...</td>\n",
       "      <td>[49.1896, 81.6072, 34.844387, 31.252102, 27.43...</td>\n",
       "      <td>[2022-06-01T00:45:00.000000000, 2022-06-01T01:...</td>\n",
       "      <td>[0.0, 0.0, 0.0, 0.0, 0.0, 0.0, 0.0, 0.0, 0.0, ...</td>\n",
       "    </tr>\n",
       "    <tr>\n",
       "      <th>4</th>\n",
       "      <td>2022-06-08 00:45:00</td>\n",
       "      <td>[2022-06-08T01:00:00.000000000, 2022-06-08T01:...</td>\n",
       "      <td>[50.31155, 72.22805, 24.090237, 25.812527, 15....</td>\n",
       "      <td>[2022-06-01T01:00:00.000000000, 2022-06-01T01:...</td>\n",
       "      <td>[0.0, 0.0, 0.0, 0.0, 0.0, 0.0, 0.0, 0.0, 0.0, ...</td>\n",
       "    </tr>\n",
       "    <tr>\n",
       "      <th>...</th>\n",
       "      <td>...</td>\n",
       "      <td>...</td>\n",
       "      <td>...</td>\n",
       "      <td>...</td>\n",
       "      <td>...</td>\n",
       "    </tr>\n",
       "    <tr>\n",
       "      <th>34363</th>\n",
       "      <td>2023-05-31 22:30:00</td>\n",
       "      <td>[2023-05-31T22:45:00.000000000, 2023-05-31T23:...</td>\n",
       "      <td>[199.38834, 172.90335, 196.73026, 205.83707, 1...</td>\n",
       "      <td>[2023-05-24T22:45:00.000000000, 2023-05-24T23:...</td>\n",
       "      <td>[0.0, 0.0, 0.0, 0.0, 0.0, 0.0, 0.0, 0.0, 0.0, ...</td>\n",
       "    </tr>\n",
       "    <tr>\n",
       "      <th>34364</th>\n",
       "      <td>2023-05-31 22:45:00</td>\n",
       "      <td>[2023-05-31T23:00:00.000000000, 2023-05-31T23:...</td>\n",
       "      <td>[203.53067, 190.33963, 209.444, 219.77213, 213...</td>\n",
       "      <td>[2023-05-24T23:00:00.000000000, 2023-05-24T23:...</td>\n",
       "      <td>[0.0, 0.0, 0.0, 0.0, 0.0, 0.0, 0.0, 0.0, 0.0, ...</td>\n",
       "    </tr>\n",
       "    <tr>\n",
       "      <th>34365</th>\n",
       "      <td>2023-05-31 23:00:00</td>\n",
       "      <td>[2023-05-31T23:15:00.000000000, 2023-05-31T23:...</td>\n",
       "      <td>[202.58804, 201.5817, 215.30301, 225.01126, 23...</td>\n",
       "      <td>[2023-05-24T23:15:00.000000000, 2023-05-24T23:...</td>\n",
       "      <td>[0.0, 0.0, 0.0, 0.0, 0.0, 0.0, 0.0, 0.0, 0.0, ...</td>\n",
       "    </tr>\n",
       "    <tr>\n",
       "      <th>34366</th>\n",
       "      <td>2023-05-31 23:15:00</td>\n",
       "      <td>[2023-05-31T23:30:00.000000000, 2023-05-31T23:...</td>\n",
       "      <td>[199.6802, 210.13846, 220.47366, 230.7786, 254...</td>\n",
       "      <td>[2023-05-24T23:30:00.000000000, 2023-05-24T23:...</td>\n",
       "      <td>[0.0, 0.0, 0.0, 0.0, 0.0, 0.0, 0.0, 0.0, 0.0, ...</td>\n",
       "    </tr>\n",
       "    <tr>\n",
       "      <th>34367</th>\n",
       "      <td>2023-05-31 23:30:00</td>\n",
       "      <td>[2023-05-31T23:45:00.000000000, 2023-06-01T00:...</td>\n",
       "      <td>[204.93765, 226.61795, 236.45377, 249.54178, 2...</td>\n",
       "      <td>[2023-05-24T23:45:00.000000000, 2023-05-25T00:...</td>\n",
       "      <td>[0.0, 0.0, 0.0, 0.0, 0.0, 0.0, 0.0, 0.0, 0.0, ...</td>\n",
       "    </tr>\n",
       "  </tbody>\n",
       "</table>\n",
       "<p>34368 rows × 5 columns</p>\n",
       "</div>"
      ],
      "text/plain": [
       "          Prediction_date                             solar_output_Timestamp   \n",
       "0     2022-06-07 23:45:00  [2022-06-08T00:00:00.000000000, 2022-06-08T00:...  \\\n",
       "1     2022-06-08 00:00:00  [2022-06-08T00:15:00.000000000, 2022-06-08T00:...   \n",
       "2     2022-06-08 00:15:00  [2022-06-08T00:30:00.000000000, 2022-06-08T00:...   \n",
       "3     2022-06-08 00:30:00  [2022-06-08T00:45:00.000000000, 2022-06-08T01:...   \n",
       "4     2022-06-08 00:45:00  [2022-06-08T01:00:00.000000000, 2022-06-08T01:...   \n",
       "...                   ...                                                ...   \n",
       "34363 2023-05-31 22:30:00  [2023-05-31T22:45:00.000000000, 2023-05-31T23:...   \n",
       "34364 2023-05-31 22:45:00  [2023-05-31T23:00:00.000000000, 2023-05-31T23:...   \n",
       "34365 2023-05-31 23:00:00  [2023-05-31T23:15:00.000000000, 2023-05-31T23:...   \n",
       "34366 2023-05-31 23:15:00  [2023-05-31T23:30:00.000000000, 2023-05-31T23:...   \n",
       "34367 2023-05-31 23:30:00  [2023-05-31T23:45:00.000000000, 2023-06-01T00:...   \n",
       "\n",
       "                                            solar_output   \n",
       "0      [-34.365818, -3.4939919, -37.43784, -44.094578...  \\\n",
       "1      [0.8384055, 37.21023, -3.0755348, -10.384129, ...   \n",
       "2      [31.094265, 68.551414, 24.235989, 17.597195, 2...   \n",
       "3      [49.1896, 81.6072, 34.844387, 31.252102, 27.43...   \n",
       "4      [50.31155, 72.22805, 24.090237, 25.812527, 15....   \n",
       "...                                                  ...   \n",
       "34363  [199.38834, 172.90335, 196.73026, 205.83707, 1...   \n",
       "34364  [203.53067, 190.33963, 209.444, 219.77213, 213...   \n",
       "34365  [202.58804, 201.5817, 215.30301, 225.01126, 23...   \n",
       "34366  [199.6802, 210.13846, 220.47366, 230.7786, 254...   \n",
       "34367  [204.93765, 226.61795, 236.45377, 249.54178, 2...   \n",
       "\n",
       "                                         input_Timestamp   \n",
       "0      [2022-06-01T00:00:00.000000000, 2022-06-01T00:...  \\\n",
       "1      [2022-06-01T00:15:00.000000000, 2022-06-01T00:...   \n",
       "2      [2022-06-01T00:30:00.000000000, 2022-06-01T00:...   \n",
       "3      [2022-06-01T00:45:00.000000000, 2022-06-01T01:...   \n",
       "4      [2022-06-01T01:00:00.000000000, 2022-06-01T01:...   \n",
       "...                                                  ...   \n",
       "34363  [2023-05-24T22:45:00.000000000, 2023-05-24T23:...   \n",
       "34364  [2023-05-24T23:00:00.000000000, 2023-05-24T23:...   \n",
       "34365  [2023-05-24T23:15:00.000000000, 2023-05-24T23:...   \n",
       "34366  [2023-05-24T23:30:00.000000000, 2023-05-24T23:...   \n",
       "34367  [2023-05-24T23:45:00.000000000, 2023-05-25T00:...   \n",
       "\n",
       "                                                   input  \n",
       "0      [0.0, 0.0, 0.0, 0.0, 0.0, 0.0, 0.0, 0.0, 0.0, ...  \n",
       "1      [0.0, 0.0, 0.0, 0.0, 0.0, 0.0, 0.0, 0.0, 0.0, ...  \n",
       "2      [0.0, 0.0, 0.0, 0.0, 0.0, 0.0, 0.0, 0.0, 0.0, ...  \n",
       "3      [0.0, 0.0, 0.0, 0.0, 0.0, 0.0, 0.0, 0.0, 0.0, ...  \n",
       "4      [0.0, 0.0, 0.0, 0.0, 0.0, 0.0, 0.0, 0.0, 0.0, ...  \n",
       "...                                                  ...  \n",
       "34363  [0.0, 0.0, 0.0, 0.0, 0.0, 0.0, 0.0, 0.0, 0.0, ...  \n",
       "34364  [0.0, 0.0, 0.0, 0.0, 0.0, 0.0, 0.0, 0.0, 0.0, ...  \n",
       "34365  [0.0, 0.0, 0.0, 0.0, 0.0, 0.0, 0.0, 0.0, 0.0, ...  \n",
       "34366  [0.0, 0.0, 0.0, 0.0, 0.0, 0.0, 0.0, 0.0, 0.0, ...  \n",
       "34367  [0.0, 0.0, 0.0, 0.0, 0.0, 0.0, 0.0, 0.0, 0.0, ...  \n",
       "\n",
       "[34368 rows x 5 columns]"
      ]
     },
     "execution_count": 126,
     "metadata": {},
     "output_type": "execute_result"
    }
   ],
   "source": [
    "solar_predictions"
   ]
  },
  {
   "cell_type": "code",
   "execution_count": 133,
   "metadata": {},
   "outputs": [],
   "source": [
    "df_solar_predictions = solar_predictions[['Prediction_date', 'output_Timestamp', 'solar_output',]].copy()"
   ]
  },
  {
   "cell_type": "markdown",
   "metadata": {},
   "source": [
    "### Import the predicted consumption values from the LSTM_consumption and add the predicitons to the final predictions df "
   ]
  },
  {
   "cell_type": "code",
   "execution_count": 134,
   "metadata": {},
   "outputs": [],
   "source": [
    "df_consumption = pd.read_pickle('../predictions/consumption_predictions.pkl')"
   ]
  },
  {
   "cell_type": "code",
   "execution_count": 135,
   "metadata": {},
   "outputs": [],
   "source": [
    "df_solar_predictions['consumption_output'] = df_consumption['consumption_output']"
   ]
  },
  {
   "cell_type": "code",
   "execution_count": 79,
   "metadata": {},
   "outputs": [],
   "source": [
    "#df_solar_predictions.to_pickle(\"../predictions/predictions_full.pkl\")\n",
    "#df_solar_predictions.to_json(\"../predictions/solar_predictions_all.json\")"
   ]
  },
  {
   "cell_type": "markdown",
   "metadata": {},
   "source": [
    "### Include the price into the final df ##"
   ]
  },
  {
   "cell_type": "code",
   "execution_count": 83,
   "metadata": {},
   "outputs": [
    {
     "data": {
      "text/html": [
       "<div>\n",
       "<style scoped>\n",
       "    .dataframe tbody tr th:only-of-type {\n",
       "        vertical-align: middle;\n",
       "    }\n",
       "\n",
       "    .dataframe tbody tr th {\n",
       "        vertical-align: top;\n",
       "    }\n",
       "\n",
       "    .dataframe thead th {\n",
       "        text-align: right;\n",
       "    }\n",
       "</style>\n",
       "<table border=\"1\" class=\"dataframe\">\n",
       "  <thead>\n",
       "    <tr style=\"text-align: right;\">\n",
       "      <th></th>\n",
       "      <th>Date</th>\n",
       "      <th>Solar_generation_MWh</th>\n",
       "      <th>Solar_installed_MW</th>\n",
       "      <th>Total_consumption_MWh</th>\n",
       "      <th>DE_LU_price_per_MWh</th>\n",
       "      <th>normalisation_factor</th>\n",
       "      <th>Solar_generation_MWh_normalized</th>\n",
       "    </tr>\n",
       "  </thead>\n",
       "  <tbody>\n",
       "    <tr>\n",
       "      <th>129215</th>\n",
       "      <td>2022-06-07 23:45:00</td>\n",
       "      <td>0.0</td>\n",
       "      <td>58002.0</td>\n",
       "      <td>11732.50</td>\n",
       "      <td>210.97</td>\n",
       "      <td>0.92686</td>\n",
       "      <td>0.0</td>\n",
       "    </tr>\n",
       "    <tr>\n",
       "      <th>129216</th>\n",
       "      <td>2022-06-08 00:00:00</td>\n",
       "      <td>0.0</td>\n",
       "      <td>58002.0</td>\n",
       "      <td>11515.00</td>\n",
       "      <td>185.05</td>\n",
       "      <td>0.92686</td>\n",
       "      <td>0.0</td>\n",
       "    </tr>\n",
       "    <tr>\n",
       "      <th>129217</th>\n",
       "      <td>2022-06-08 00:15:00</td>\n",
       "      <td>0.0</td>\n",
       "      <td>58002.0</td>\n",
       "      <td>11342.75</td>\n",
       "      <td>185.05</td>\n",
       "      <td>0.92686</td>\n",
       "      <td>0.0</td>\n",
       "    </tr>\n",
       "    <tr>\n",
       "      <th>129218</th>\n",
       "      <td>2022-06-08 00:30:00</td>\n",
       "      <td>0.0</td>\n",
       "      <td>58002.0</td>\n",
       "      <td>11236.50</td>\n",
       "      <td>185.05</td>\n",
       "      <td>0.92686</td>\n",
       "      <td>0.0</td>\n",
       "    </tr>\n",
       "    <tr>\n",
       "      <th>129219</th>\n",
       "      <td>2022-06-08 00:45:00</td>\n",
       "      <td>0.0</td>\n",
       "      <td>58002.0</td>\n",
       "      <td>11139.25</td>\n",
       "      <td>185.05</td>\n",
       "      <td>0.92686</td>\n",
       "      <td>0.0</td>\n",
       "    </tr>\n",
       "    <tr>\n",
       "      <th>...</th>\n",
       "      <td>...</td>\n",
       "      <td>...</td>\n",
       "      <td>...</td>\n",
       "      <td>...</td>\n",
       "      <td>...</td>\n",
       "      <td>...</td>\n",
       "      <td>...</td>\n",
       "    </tr>\n",
       "    <tr>\n",
       "      <th>163675</th>\n",
       "      <td>2023-06-01 22:45:00</td>\n",
       "      <td>0.0</td>\n",
       "      <td>62579.0</td>\n",
       "      <td>12945.50</td>\n",
       "      <td>95.41</td>\n",
       "      <td>1.00000</td>\n",
       "      <td>0.0</td>\n",
       "    </tr>\n",
       "    <tr>\n",
       "      <th>163676</th>\n",
       "      <td>2023-06-01 23:00:00</td>\n",
       "      <td>0.0</td>\n",
       "      <td>62579.0</td>\n",
       "      <td>12817.75</td>\n",
       "      <td>86.53</td>\n",
       "      <td>1.00000</td>\n",
       "      <td>0.0</td>\n",
       "    </tr>\n",
       "    <tr>\n",
       "      <th>163677</th>\n",
       "      <td>2023-06-01 23:15:00</td>\n",
       "      <td>0.0</td>\n",
       "      <td>62579.0</td>\n",
       "      <td>12539.00</td>\n",
       "      <td>86.53</td>\n",
       "      <td>1.00000</td>\n",
       "      <td>0.0</td>\n",
       "    </tr>\n",
       "    <tr>\n",
       "      <th>163678</th>\n",
       "      <td>2023-06-01 23:30:00</td>\n",
       "      <td>0.0</td>\n",
       "      <td>62579.0</td>\n",
       "      <td>12371.00</td>\n",
       "      <td>86.53</td>\n",
       "      <td>1.00000</td>\n",
       "      <td>0.0</td>\n",
       "    </tr>\n",
       "    <tr>\n",
       "      <th>163679</th>\n",
       "      <td>2023-06-01 23:45:00</td>\n",
       "      <td>0.0</td>\n",
       "      <td>62579.0</td>\n",
       "      <td>12176.75</td>\n",
       "      <td>86.53</td>\n",
       "      <td>1.00000</td>\n",
       "      <td>0.0</td>\n",
       "    </tr>\n",
       "  </tbody>\n",
       "</table>\n",
       "<p>34465 rows × 7 columns</p>\n",
       "</div>"
      ],
      "text/plain": [
       "                      Date  Solar_generation_MWh  Solar_installed_MW   \n",
       "129215 2022-06-07 23:45:00                   0.0             58002.0  \\\n",
       "129216 2022-06-08 00:00:00                   0.0             58002.0   \n",
       "129217 2022-06-08 00:15:00                   0.0             58002.0   \n",
       "129218 2022-06-08 00:30:00                   0.0             58002.0   \n",
       "129219 2022-06-08 00:45:00                   0.0             58002.0   \n",
       "...                    ...                   ...                 ...   \n",
       "163675 2023-06-01 22:45:00                   0.0             62579.0   \n",
       "163676 2023-06-01 23:00:00                   0.0             62579.0   \n",
       "163677 2023-06-01 23:15:00                   0.0             62579.0   \n",
       "163678 2023-06-01 23:30:00                   0.0             62579.0   \n",
       "163679 2023-06-01 23:45:00                   0.0             62579.0   \n",
       "\n",
       "        Total_consumption_MWh  DE_LU_price_per_MWh  normalisation_factor   \n",
       "129215               11732.50               210.97               0.92686  \\\n",
       "129216               11515.00               185.05               0.92686   \n",
       "129217               11342.75               185.05               0.92686   \n",
       "129218               11236.50               185.05               0.92686   \n",
       "129219               11139.25               185.05               0.92686   \n",
       "...                       ...                  ...                   ...   \n",
       "163675               12945.50                95.41               1.00000   \n",
       "163676               12817.75                86.53               1.00000   \n",
       "163677               12539.00                86.53               1.00000   \n",
       "163678               12371.00                86.53               1.00000   \n",
       "163679               12176.75                86.53               1.00000   \n",
       "\n",
       "        Solar_generation_MWh_normalized  \n",
       "129215                              0.0  \n",
       "129216                              0.0  \n",
       "129217                              0.0  \n",
       "129218                              0.0  \n",
       "129219                              0.0  \n",
       "...                                 ...  \n",
       "163675                              0.0  \n",
       "163676                              0.0  \n",
       "163677                              0.0  \n",
       "163678                              0.0  \n",
       "163679                              0.0  \n",
       "\n",
       "[34465 rows x 7 columns]"
      ]
     },
     "execution_count": 83,
     "metadata": {},
     "output_type": "execute_result"
    }
   ],
   "source": [
    "#the the original df\n",
    "df_1 = df[df['Date'] >= '2022-06-07 23:45:00']\n",
    "df_1"
   ]
  },
  {
   "cell_type": "code",
   "execution_count": 143,
   "metadata": {},
   "outputs": [],
   "source": [
    "def make_price_sequence(df):\n",
    "            list_1 = []\n",
    "            for i in range(len(df[\"DE_LU_price_per_MWh\"])):\n",
    "                k = np.array(df.iloc[i : i+96, 4].astype(float))\n",
    "                list_1.append(k)\n",
    "            df_1 = pd.DataFrame(list_1)\n",
    "            pred = df_1.apply(lambda row: np.array(row), axis=1)\n",
    "            return pred\n"
   ]
  },
  {
   "cell_type": "code",
   "execution_count": 118,
   "metadata": {},
   "outputs": [],
   "source": [
    "#testing_df = make_price_sequence(df)"
   ]
  },
  {
   "cell_type": "code",
   "execution_count": 120,
   "metadata": {},
   "outputs": [],
   "source": [
    "#dF_wtf = pd.DataFrame(testing_df)\n",
    "#dF_wtf.apply(lambda row: np.array(row), axis=1)"
   ]
  },
  {
   "cell_type": "code",
   "execution_count": 144,
   "metadata": {},
   "outputs": [],
   "source": [
    "df_solar_predictions['price_output'] = make_price_sequence(df)"
   ]
  },
  {
   "cell_type": "code",
   "execution_count": 145,
   "metadata": {},
   "outputs": [
    {
     "data": {
      "text/plain": [
       "Prediction_date       0\n",
       "output_Timestamp      0\n",
       "solar_output          0\n",
       "consumption_output    0\n",
       "price_output          0\n",
       "dtype: int64"
      ]
     },
     "execution_count": 145,
     "metadata": {},
     "output_type": "execute_result"
    }
   ],
   "source": [
    "df_solar_predictions.isnull().sum()"
   ]
  },
  {
   "cell_type": "code",
   "execution_count": 138,
   "metadata": {},
   "outputs": [],
   "source": [
    "df_solar_predictions.to_pickle(\"../predictions/predictions_full.pkl\")\n",
    "#df_solar_predictions.to_json(\"../predictions/solar_predictions_all.json\")"
   ]
  }
 ],
 "metadata": {
  "kernelspec": {
   "display_name": ".venv",
   "language": "python",
   "name": "python3"
  },
  "language_info": {
   "codemirror_mode": {
    "name": "ipython",
    "version": 3
   },
   "file_extension": ".py",
   "mimetype": "text/x-python",
   "name": "python",
   "nbconvert_exporter": "python",
   "pygments_lexer": "ipython3",
   "version": "3.11.3"
  },
  "orig_nbformat": 4
 },
 "nbformat": 4,
 "nbformat_minor": 2
}
