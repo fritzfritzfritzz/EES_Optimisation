{
  "cells": [
    {
      "cell_type": "code",
      "execution_count": null,
      "id": "b8d48677",
      "metadata": {
        "vscode": {
          "languageId": "plaintext"
        }
      },
      "outputs": [],
      "source": [
        "import numpy as np\n",
        "import pandas as pd\n",
        "import matplotlib.pyplot as plt"
      ]
    },
    {
      "cell_type": "code",
      "execution_count": null,
      "id": "dd27c17b",
      "metadata": {
        "vscode": {
          "languageId": "plaintext"
        }
      },
      "outputs": [],
      "source": [
        "# Define the action space\n",
        "actions = ['charge', 'idle', 'discharge']\n",
        "\n",
        "# Modify the get_state function to include the battery capacity\n",
        "def get_state(price, demand, timestamp, battery_capacity):\n",
        "    return (price, demand, timestamp, battery_capacity)"
      ]
    },
    {
      "cell_type": "code",
      "execution_count": null,
      "id": "8a3463cc",
      "metadata": {
        "vscode": {
          "languageId": "plaintext"
        }
      },
      "outputs": [],
      "source": [
        "# Define battery parameters\n",
        "battery_capacity = 100  # in watt hours\n",
        "charge_discharge_rate = 20 # in watts\n",
        "initial_battery_state = battery_capacity / 2  # start with the battery half-charged\n",
        "\n",
        "# Define the demand profile for a regular German private household within a workday\n",
        "\n",
        "demand_profile = [0.3, 0.2, 0.2, 0.2, 0.3, 0.4, 0.6, 0.8, 0.7, 0.6, 0.6, 0.6, 0.7, 0.7, 0.7, 0.8, 1.0, 1.2, 1.3, 1.2, 1.0, 0.8, 0.6, 0.4]\n",
        "demand_profile = [np.random.normal(item, 0.05, 4) for item in demand_profile]  # generate 4 random values around each item to get a value for every 15 minutes\n",
        "demand_profile = [item for sublist in demand_profile for item in sublist]  # flatten the list\n",
        "\n",
        "# Define the electricity cost for a regular German private household within a workday\n",
        "electricity_cost = [0.3, 0.2, 0.2, 0.2, 0.3, 0.4, 0.6, 0.8, 0.7, 0.6, 0.6, 0.6, 0.7, 0.7, 0.7, 0.8, 1.0, 1.2, 1.3, 1.2, 1.0, 0.8, 0.6, 0.4]\n",
        "electricity_cost = [np.random.normal(item, 0.05, 4) for item in electricity_cost]  # generate 4 random values around each item to get a value for every 15 minutes\n",
        "electricity_cost = [item for sublist in electricity_cost for item in sublist]  # flatten the list\n",
        "\n",
        "# Create a DataFrame with the demand profile and the electricity cost\n",
        "df = pd.DataFrame({'demand': demand_profile, 'cost': electricity_cost})\n",
        "\n",
        "# Attach datetime\n",
        "df['datetime'] = pd.date_range(start='2023-07-05', periods=len(df), freq='15T')\n",
        "\n",
        "# create new dataframe which is a copy of first 24 rows\n",
        "df2 = df.iloc[0:24].copy()\n"
      ]
    },
    {
      "cell_type": "code",
      "execution_count": null,
      "id": "011c800f",
      "metadata": {
        "vscode": {
          "languageId": "plaintext"
        }
      },
      "outputs": [],
      "source": [
        "# Plot the demand profile and the electricity cost\n",
        "plt.figure(figsize=(10, 5))\n",
        "\n",
        "# Plot the demand profile\n",
        "plt.subplot(1, 2, 1)\n",
        "#plt.plot(df['datetime'], df['demand'])\n",
        "plt.plot(df2['datetime'], df2['demand'])\n",
        "plt.xlabel('Time')\n",
        "plt.ylabel('Demand (W)')\n",
        "plt.title('Demand Profile')\n",
        "\n",
        "# Plot the electricity cost\n",
        "plt.subplot(1, 2, 2)\n",
        "plt.plot(df2['datetime'], df2['cost'])\n",
        "#plt.plot(df['datetime'], df['cost'])\n",
        "plt.xlabel('Time')\n",
        "plt.ylabel('Cost (€/W)')\n",
        "plt.title('Electricity Cost')\n",
        "\n",
        "plt.tight_layout()\n",
        "plt.show()"
      ]
    },
    {
      "cell_type": "code",
      "execution_count": null,
      "id": "e49c68ec",
      "metadata": {
        "vscode": {
          "languageId": "plaintext"
        }
      },
      "outputs": [],
      "source": [
        "# Define the new reward function\n",
        "def get_reward(state, action):\n",
        "    current_price, current_demand, timestamp, battery_capacity = state\n",
        "\n",
        "    print('#####')\n",
        "    print('timestamp: ', timestamp)\n",
        "    print('battery_capacity: ', battery_capacity)\n",
        "    print('current_demand: ', current_demand)\n",
        "    print('current_price: ', current_price)\n",
        "    print('action: ', action)\n",
        "    print('#####')\n",
        "    print(\"\")\n",
        "\n",
        "    # Calculate the cost with the battery\n",
        "    if action == 'discharge':\n",
        "        battery_discharge = min(battery_capacity, current_demand)\n",
        "        grid_demand = current_demand - battery_discharge\n",
        "\n",
        "        print('action is battery_discharge: ', battery_discharge)\n",
        "    elif action == 'charge':\n",
        "        battery_charge = min(100 - battery_capacity, charge_discharge_rate)\n",
        "        grid_demand = current_demand + battery_charge\n",
        "    else:  # action == 'idle'\n",
        "        grid_demand = current_demand\n",
        "\n",
        "    cost_with_battery = grid_demand * current_price\n",
        "\n",
        "    # Calculate the cost without the battery\n",
        "    cost_without_battery = current_demand * current_price\n",
        "\n",
        "    # The reward is the difference in costs\n",
        "    reward = cost_without_battery - cost_with_battery\n",
        "\n",
        "    return reward"
      ]
    },
    {
      "cell_type": "code",
      "execution_count": null,
      "id": "079c8809",
      "metadata": {
        "vscode": {
          "languageId": "plaintext"
        }
      },
      "outputs": [],
      "source": [
        "# Initialize the Q-table to include the battery capacity in terms of watt hours\n",
        "Q_table = {get_state(price, demand, timestamp, battery_capacity): {action: 0 for action in actions} for price in df['cost'] for demand in df['demand'] for timestamp in range(24) for battery_capacity in range(0, 101, charge_discharge_rate)}"
      ]
    },
    {
      "cell_type": "code",
      "execution_count": null,
      "id": "6ea7091a",
      "metadata": {
        "vscode": {
          "languageId": "plaintext"
        }
      },
      "outputs": [],
      "source": [
        "import random\n",
        "\n",
        "# Parameters for Q-learning\n",
        "alpha = 0.5  # learning rate\n",
        "gamma = 0.9  # discount factor\n",
        "num_iterations = 100  # number of iterations for exploration"
      ]
    },
    {
      "cell_type": "code",
      "execution_count": null,
      "id": "8bfbbe27",
      "metadata": {
        "vscode": {
          "languageId": "plaintext"
        }
      },
      "outputs": [],
      "source": [
        "# Define a function for the agent to select the best action in a state\n",
        "def get_best_action(state):\n",
        "    print('hello')\n",
        "    #print(Q_table[state])\n",
        "    print(max(Q_table[state], key=Q_table[state].get))\n",
        "\n",
        "    return max(Q_table[state], key=Q_table[state].get)"
      ]
    },
    {
      "cell_type": "code",
      "execution_count": null,
      "id": "dd3cdc99",
      "metadata": {
        "vscode": {
          "languageId": "plaintext"
        }
      },
      "outputs": [],
      "source": [
        "# Define the exploration rate\n",
        "epsilon = 0.1\n",
        "\n",
        "# Modify the exploration phase of Q-learning to include the battery capacity in terms of watt hours\n",
        "total_rewards = []  # list to store the total reward in each episode\n",
        "\n",
        "for _ in range(num_iterations):\n",
        "\n",
        "    # Select a random state\n",
        "    state = random.choice(list(Q_table.keys()))\n",
        "    \n",
        "    # Initialize total reward for this episode\n",
        "    total_reward = 0\n",
        "    battery_state = initial_battery_state  # reset the battery state at the start of each \n",
        "    \n",
        "    for timestamp in range(24):  # 96 time steps (15 minutes each) in a 24-hour period\n",
        "        \n",
        "        # Update the state based on the current timestamp\n",
        "        state = get_state(df2['cost'][timestamp], df2['demand'][timestamp], timestamp, battery_state)\n",
        "   \n",
        "        # Select an action\n",
        "        if random.uniform(0, 1) < epsilon:\n",
        "            # Exploration: select a random action\n",
        "            action = random.choice(actions)\n",
        "        else:\n",
        "            # Exploitation: select the best action\n",
        "            action = get_best_action(state)\n",
        "        # Calculate the reward for the action\n",
        "        reward = get_reward(state, action)\n",
        "        total_reward += reward  # add the reward to the total reward for this episode\n",
        "        # Update the battery capacity based on the action\n",
        "        if action == 'charge':\n",
        "            battery_state = min(battery_state + charge_discharge_rate, battery_capacity)\n",
        "        elif action == 'discharge':\n",
        "            battery_state = max(battery_state - charge_discharge_rate, 0)\n",
        "        # Update the Q-value for the state-action pair\n",
        "        Q_table[state][action] = (1 - alpha) * Q_table[state][action] + alpha * (reward + gamma * max(Q_table[state].values()))\n",
        "    total_rewards.append(total_reward)  # store the total reward for this episode\n",
        "\n",
        "# Plot the total reward in each episode\n",
        "plt.plot(total_rewards)\n",
        "plt.xlabel('Episode')\n",
        "plt.ylabel('Total Reward')\n",
        "plt.show()"
      ]
    },
    {
      "cell_type": "code",
      "execution_count": null,
      "id": "84d33509",
      "metadata": {
        "vscode": {
          "languageId": "plaintext"
        }
      },
      "outputs": [],
      "source": [
        "# Calculate the cumulative reward for each episode\n",
        "cumulative_rewards = np.cumsum(total_rewards)\n",
        "# Plot the cumulative reward of each episode\n",
        "plt.plot(cumulative_rewards)\n",
        "plt.xlabel('Episode')\n",
        "plt.ylabel('Cumulative Reward')\n",
        "plt.title('Cumulative Reward over Episodes')\n",
        "plt.show()"
      ]
    },
    {
      "cell_type": "code",
      "execution_count": null,
      "id": "fb2d63e2",
      "metadata": {
        "vscode": {
          "languageId": "plaintext"
        }
      },
      "outputs": [],
      "source": [
        "# Print the final Q-table\n",
        "#for state, actions in Q_table.items():\n",
        "#    print(f'State: {state}')\n",
        "#    for action, Q_value in actions.items():\n",
        "#        print(f'    Action: {action}, Q-value: {Q_value}')"
      ]
    }
  ],
  "metadata": {
    "kernelspec": {
      "display_name": ".venv",
      "language": "python",
      "name": "python3"
    },
    "language_info": {
      "codemirror_mode": {
        "name": "ipython",
        "version": 3
      },
      "file_extension": ".py",
      "mimetype": "text/x-python",
      "name": "python",
      "nbconvert_exporter": "python",
      "pygments_lexer": "ipython3",
      "version": "3.11.3"
    },
    "noteable": {
      "last_delta_id": "29d4b54f-e0cc-49a5-9217-b4144f40a9d1",
      "last_transaction_id": "29d4b54f-e0cc-49a5-9217-b4144f40a9d1"
    },
    "noteable-chatgpt": {
      "create_notebook": {
        "openai_conversation_id": "8b1a1973-ef50-54e2-a4d2-9d266f36ff82",
        "openai_ephemeral_user_id": "f93c733c-f041-59f0-b5a7-49cbd1965239",
        "openai_subdivision1_iso_code": "DE-HH"
      }
    },
    "nteract": {
      "version": "noteable@2.9.0"
    },
    "selected_hardware_size": "small"
  },
  "nbformat": 4,
  "nbformat_minor": 5
}
