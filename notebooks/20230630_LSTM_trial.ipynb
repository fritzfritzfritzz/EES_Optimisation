{
 "cells": [
  {
   "attachments": {},
   "cell_type": "markdown",
   "metadata": {},
   "source": [
    "# First Approach to a univariate Long-Short-Term Memory model for predicting the solar output  #\n",
    "\n",
    "For our optimisation we need solar output predictions. In this notebook we will use a univariate Long-Short-Term Memory model to predict the solar output. \n",
    "\n",
    "\n",
    " https://www.tensorflow.org/api_docs/python/tf/keras/layers/LSTM\n"
   ]
  },
  {
   "attachments": {},
   "cell_type": "markdown",
   "metadata": {},
   "source": [
    "First install all the dependencies:"
   ]
  },
  {
   "cell_type": "code",
   "execution_count": 67,
   "metadata": {},
   "outputs": [],
   "source": [
    "import pandas as pd\n",
    "import numpy as np\n",
    "import os\n",
    "\n",
    "import plotly.express as px\n",
    "import plotly.graph_objects as go\n",
    "import matplotlib.pyplot as plt\n",
    "import seaborn as sns\n",
    "\n",
    "from itertools import permutations\n",
    "\n",
    "from sklearn.metrics import mean_squared_error\n",
    "from math import sqrt\n",
    "from statsmodels.tsa.stattools import adfuller,kpss\n",
    "from statsmodels.tsa.seasonal import seasonal_decompose\n",
    "from statsmodels.tsa.arima_model import ARIMA\n",
    "from statsmodels.graphics.tsaplots import plot_pacf\n",
    "\n",
    "import statsmodels.graphics.tsaplots as tsaplot\n",
    "from statsmodels.tsa.holtwinters import Holt, ExponentialSmoothing, SimpleExpSmoothing\n",
    "\n",
    "import tensorflow as tf\n",
    "\n",
    "from tensorflow import keras\n",
    "\n",
    "from tensorflow.keras import layers\n",
    "from tensorflow.keras import regularizers\n",
    "from tensorflow.keras.utils import plot_model\n",
    "\n",
    "import keras \n",
    "from keras.models import Sequential # intitialize the ANN\n",
    "from keras.layers import Dense, Activation, Dropout, LSTM , Conv1D, MaxPooling1D  # create layers\n",
    "\n",
    "\n",
    "from sklearn.model_selection import train_test_split\n",
    " \n",
    "np.random.seed(42)\n",
    "tf.random.set_seed(42)\n"
   ]
  },
  {
   "attachments": {},
   "cell_type": "markdown",
   "metadata": {},
   "source": [
    "We will start with loading the pickle file with our full dataset into this notebook. \n",
    "\n"
   ]
  },
  {
   "cell_type": "code",
   "execution_count": 68,
   "metadata": {},
   "outputs": [],
   "source": [
    "df = pd.read_pickle(\"../data/final_dataframe.pkl\")"
   ]
  },
  {
   "attachments": {},
   "cell_type": "markdown",
   "metadata": {},
   "source": [
    "The column names are not very easy to work with and can be a bit hard to read. Therefore we will rename them to make them easier to read."
   ]
  },
  {
   "cell_type": "code",
   "execution_count": 69,
   "metadata": {},
   "outputs": [
    {
     "data": {
      "text/html": [
       "<div>\n",
       "<style scoped>\n",
       "    .dataframe tbody tr th:only-of-type {\n",
       "        vertical-align: middle;\n",
       "    }\n",
       "\n",
       "    .dataframe tbody tr th {\n",
       "        vertical-align: top;\n",
       "    }\n",
       "\n",
       "    .dataframe thead th {\n",
       "        text-align: right;\n",
       "    }\n",
       "</style>\n",
       "<table border=\"1\" class=\"dataframe\">\n",
       "  <thead>\n",
       "    <tr style=\"text-align: right;\">\n",
       "      <th></th>\n",
       "      <th>Date</th>\n",
       "      <th>Solar_generation_MWh</th>\n",
       "      <th>Solar_installed_MW</th>\n",
       "      <th>Total_consumption_MWh</th>\n",
       "      <th>DE_LU_price_per_MWh</th>\n",
       "      <th>normalisation_factor</th>\n",
       "      <th>Solar_generation_MWh_normalized</th>\n",
       "    </tr>\n",
       "  </thead>\n",
       "  <tbody>\n",
       "    <tr>\n",
       "      <th>0</th>\n",
       "      <td>2018-10-01 00:00:00</td>\n",
       "      <td>0.0</td>\n",
       "      <td>42805.0</td>\n",
       "      <td>10589.75</td>\n",
       "      <td>59.53</td>\n",
       "      <td>0.684015</td>\n",
       "      <td>0.0</td>\n",
       "    </tr>\n",
       "    <tr>\n",
       "      <th>1</th>\n",
       "      <td>2018-10-01 00:15:00</td>\n",
       "      <td>0.0</td>\n",
       "      <td>42805.0</td>\n",
       "      <td>10589.75</td>\n",
       "      <td>59.53</td>\n",
       "      <td>0.684015</td>\n",
       "      <td>0.0</td>\n",
       "    </tr>\n",
       "    <tr>\n",
       "      <th>2</th>\n",
       "      <td>2018-10-01 00:30:00</td>\n",
       "      <td>0.0</td>\n",
       "      <td>42805.0</td>\n",
       "      <td>10589.75</td>\n",
       "      <td>59.53</td>\n",
       "      <td>0.684015</td>\n",
       "      <td>0.0</td>\n",
       "    </tr>\n",
       "    <tr>\n",
       "      <th>3</th>\n",
       "      <td>2018-10-01 00:45:00</td>\n",
       "      <td>0.0</td>\n",
       "      <td>42805.0</td>\n",
       "      <td>10589.75</td>\n",
       "      <td>59.53</td>\n",
       "      <td>0.684015</td>\n",
       "      <td>0.0</td>\n",
       "    </tr>\n",
       "    <tr>\n",
       "      <th>4</th>\n",
       "      <td>2018-10-01 01:00:00</td>\n",
       "      <td>0.0</td>\n",
       "      <td>42805.0</td>\n",
       "      <td>10589.75</td>\n",
       "      <td>56.10</td>\n",
       "      <td>0.684015</td>\n",
       "      <td>0.0</td>\n",
       "    </tr>\n",
       "    <tr>\n",
       "      <th>...</th>\n",
       "      <td>...</td>\n",
       "      <td>...</td>\n",
       "      <td>...</td>\n",
       "      <td>...</td>\n",
       "      <td>...</td>\n",
       "      <td>...</td>\n",
       "      <td>...</td>\n",
       "    </tr>\n",
       "    <tr>\n",
       "      <th>163675</th>\n",
       "      <td>2023-06-01 22:45:00</td>\n",
       "      <td>0.0</td>\n",
       "      <td>62579.0</td>\n",
       "      <td>12945.50</td>\n",
       "      <td>95.41</td>\n",
       "      <td>1.000000</td>\n",
       "      <td>0.0</td>\n",
       "    </tr>\n",
       "    <tr>\n",
       "      <th>163676</th>\n",
       "      <td>2023-06-01 23:00:00</td>\n",
       "      <td>0.0</td>\n",
       "      <td>62579.0</td>\n",
       "      <td>12817.75</td>\n",
       "      <td>86.53</td>\n",
       "      <td>1.000000</td>\n",
       "      <td>0.0</td>\n",
       "    </tr>\n",
       "    <tr>\n",
       "      <th>163677</th>\n",
       "      <td>2023-06-01 23:15:00</td>\n",
       "      <td>0.0</td>\n",
       "      <td>62579.0</td>\n",
       "      <td>12539.00</td>\n",
       "      <td>86.53</td>\n",
       "      <td>1.000000</td>\n",
       "      <td>0.0</td>\n",
       "    </tr>\n",
       "    <tr>\n",
       "      <th>163678</th>\n",
       "      <td>2023-06-01 23:30:00</td>\n",
       "      <td>0.0</td>\n",
       "      <td>62579.0</td>\n",
       "      <td>12371.00</td>\n",
       "      <td>86.53</td>\n",
       "      <td>1.000000</td>\n",
       "      <td>0.0</td>\n",
       "    </tr>\n",
       "    <tr>\n",
       "      <th>163679</th>\n",
       "      <td>2023-06-01 23:45:00</td>\n",
       "      <td>0.0</td>\n",
       "      <td>62579.0</td>\n",
       "      <td>12176.75</td>\n",
       "      <td>86.53</td>\n",
       "      <td>1.000000</td>\n",
       "      <td>0.0</td>\n",
       "    </tr>\n",
       "  </tbody>\n",
       "</table>\n",
       "<p>163680 rows × 7 columns</p>\n",
       "</div>"
      ],
      "text/plain": [
       "                      Date  Solar_generation_MWh  Solar_installed_MW   \n",
       "0      2018-10-01 00:00:00                   0.0             42805.0  \\\n",
       "1      2018-10-01 00:15:00                   0.0             42805.0   \n",
       "2      2018-10-01 00:30:00                   0.0             42805.0   \n",
       "3      2018-10-01 00:45:00                   0.0             42805.0   \n",
       "4      2018-10-01 01:00:00                   0.0             42805.0   \n",
       "...                    ...                   ...                 ...   \n",
       "163675 2023-06-01 22:45:00                   0.0             62579.0   \n",
       "163676 2023-06-01 23:00:00                   0.0             62579.0   \n",
       "163677 2023-06-01 23:15:00                   0.0             62579.0   \n",
       "163678 2023-06-01 23:30:00                   0.0             62579.0   \n",
       "163679 2023-06-01 23:45:00                   0.0             62579.0   \n",
       "\n",
       "        Total_consumption_MWh  DE_LU_price_per_MWh  normalisation_factor   \n",
       "0                    10589.75                59.53              0.684015  \\\n",
       "1                    10589.75                59.53              0.684015   \n",
       "2                    10589.75                59.53              0.684015   \n",
       "3                    10589.75                59.53              0.684015   \n",
       "4                    10589.75                56.10              0.684015   \n",
       "...                       ...                  ...                   ...   \n",
       "163675               12945.50                95.41              1.000000   \n",
       "163676               12817.75                86.53              1.000000   \n",
       "163677               12539.00                86.53              1.000000   \n",
       "163678               12371.00                86.53              1.000000   \n",
       "163679               12176.75                86.53              1.000000   \n",
       "\n",
       "        Solar_generation_MWh_normalized  \n",
       "0                                   0.0  \n",
       "1                                   0.0  \n",
       "2                                   0.0  \n",
       "3                                   0.0  \n",
       "4                                   0.0  \n",
       "...                                 ...  \n",
       "163675                              0.0  \n",
       "163676                              0.0  \n",
       "163677                              0.0  \n",
       "163678                              0.0  \n",
       "163679                              0.0  \n",
       "\n",
       "[163680 rows x 7 columns]"
      ]
     },
     "execution_count": 69,
     "metadata": {},
     "output_type": "execute_result"
    }
   ],
   "source": [
    "def col_names(df):\n",
    "    ''' this function renames the columns to make them easier to read \n",
    "      additionally set the date as index in our dataframe'''\n",
    "    column_names = {'Photovoltaics [MWh] Original resolutions': 'Solar_generation_MWh',\n",
    "                'Photovoltaics [MW] Calculated resolutions': 'Solar_installed_MW',\n",
    "                'Total (grid load) [MWh] Original resolutions': 'Total_consumption_MWh',\n",
    "                'Germany/Luxembourg [€/MWh] Calculated resolutions': 'DE_LU_price_per_MWh',}\n",
    "    df.rename(columns=column_names, inplace=True)\n",
    "    #df.set_index('Date', inplace=True)\n",
    "    return df\n",
    "\n",
    "col_names(df)\n"
   ]
  },
  {
   "attachments": {},
   "cell_type": "markdown",
   "metadata": {},
   "source": [
    "Now we can already split the data into train and test set. Important to note here is that the shuffle has to be false otherwise the split is not appropriate for time series analysis. I will use the previously defined approach from the 20230704_train_val_test_split notebook "
   ]
  },
  {
   "cell_type": "code",
   "execution_count": 70,
   "metadata": {},
   "outputs": [],
   "source": [
    "# I have a huge problem with the 0 therfore I will add 1 to all my datapoints \n",
    "#df['Solar_generation_MWh_normalized'] = df['Solar_generation_MWh_normalized'] + 1"
   ]
  },
  {
   "cell_type": "code",
   "execution_count": 71,
   "metadata": {},
   "outputs": [],
   "source": [
    "target = ['Date', 'Solar_generation_MWh_normalized']"
   ]
  },
  {
   "cell_type": "code",
   "execution_count": 72,
   "metadata": {},
   "outputs": [],
   "source": [
    "def test_train_timeseries(df):\n",
    "    ''' In the first part we select the train and test data.\n",
    "    In the second per the columns we want to use for our predictions '''\n",
    "    \n",
    "    test = df[df.Date >= '2022-06-01']\n",
    "    train = df[df.Date < '2022-06-01']\n",
    "\n",
    "    # now we select the columns we want to use for our predictions\n",
    "\n",
    "    test = test[target]\n",
    "    train = train[target]\n",
    "    return test, train\n",
    "\n",
    "test, train = test_train_timeseries(df)"
   ]
  },
  {
   "cell_type": "code",
   "execution_count": 73,
   "metadata": {},
   "outputs": [],
   "source": [
    "#Alternatively we could also use \n",
    "#train, test = train_test_split(df[['Solar_generation_MWh_normalized']], test_size=.25, shuffle=False)"
   ]
  },
  {
   "cell_type": "code",
   "execution_count": 74,
   "metadata": {},
   "outputs": [
    {
     "data": {
      "text/html": [
       "<div>\n",
       "<style scoped>\n",
       "    .dataframe tbody tr th:only-of-type {\n",
       "        vertical-align: middle;\n",
       "    }\n",
       "\n",
       "    .dataframe tbody tr th {\n",
       "        vertical-align: top;\n",
       "    }\n",
       "\n",
       "    .dataframe thead th {\n",
       "        text-align: right;\n",
       "    }\n",
       "</style>\n",
       "<table border=\"1\" class=\"dataframe\">\n",
       "  <thead>\n",
       "    <tr style=\"text-align: right;\">\n",
       "      <th></th>\n",
       "      <th>Date</th>\n",
       "      <th>Solar_generation_MWh_normalized</th>\n",
       "    </tr>\n",
       "  </thead>\n",
       "  <tbody>\n",
       "    <tr>\n",
       "      <th>128544</th>\n",
       "      <td>2022-06-01 00:00:00</td>\n",
       "      <td>0.0</td>\n",
       "    </tr>\n",
       "    <tr>\n",
       "      <th>128545</th>\n",
       "      <td>2022-06-01 00:15:00</td>\n",
       "      <td>0.0</td>\n",
       "    </tr>\n",
       "    <tr>\n",
       "      <th>128546</th>\n",
       "      <td>2022-06-01 00:30:00</td>\n",
       "      <td>0.0</td>\n",
       "    </tr>\n",
       "    <tr>\n",
       "      <th>128547</th>\n",
       "      <td>2022-06-01 00:45:00</td>\n",
       "      <td>0.0</td>\n",
       "    </tr>\n",
       "    <tr>\n",
       "      <th>128548</th>\n",
       "      <td>2022-06-01 01:00:00</td>\n",
       "      <td>0.0</td>\n",
       "    </tr>\n",
       "    <tr>\n",
       "      <th>...</th>\n",
       "      <td>...</td>\n",
       "      <td>...</td>\n",
       "    </tr>\n",
       "    <tr>\n",
       "      <th>163675</th>\n",
       "      <td>2023-06-01 22:45:00</td>\n",
       "      <td>0.0</td>\n",
       "    </tr>\n",
       "    <tr>\n",
       "      <th>163676</th>\n",
       "      <td>2023-06-01 23:00:00</td>\n",
       "      <td>0.0</td>\n",
       "    </tr>\n",
       "    <tr>\n",
       "      <th>163677</th>\n",
       "      <td>2023-06-01 23:15:00</td>\n",
       "      <td>0.0</td>\n",
       "    </tr>\n",
       "    <tr>\n",
       "      <th>163678</th>\n",
       "      <td>2023-06-01 23:30:00</td>\n",
       "      <td>0.0</td>\n",
       "    </tr>\n",
       "    <tr>\n",
       "      <th>163679</th>\n",
       "      <td>2023-06-01 23:45:00</td>\n",
       "      <td>0.0</td>\n",
       "    </tr>\n",
       "  </tbody>\n",
       "</table>\n",
       "<p>35136 rows × 2 columns</p>\n",
       "</div>"
      ],
      "text/plain": [
       "                      Date  Solar_generation_MWh_normalized\n",
       "128544 2022-06-01 00:00:00                              0.0\n",
       "128545 2022-06-01 00:15:00                              0.0\n",
       "128546 2022-06-01 00:30:00                              0.0\n",
       "128547 2022-06-01 00:45:00                              0.0\n",
       "128548 2022-06-01 01:00:00                              0.0\n",
       "...                    ...                              ...\n",
       "163675 2023-06-01 22:45:00                              0.0\n",
       "163676 2023-06-01 23:00:00                              0.0\n",
       "163677 2023-06-01 23:15:00                              0.0\n",
       "163678 2023-06-01 23:30:00                              0.0\n",
       "163679 2023-06-01 23:45:00                              0.0\n",
       "\n",
       "[35136 rows x 2 columns]"
      ]
     },
     "execution_count": 74,
     "metadata": {},
     "output_type": "execute_result"
    }
   ],
   "source": [
    "test"
   ]
  },
  {
   "cell_type": "code",
   "execution_count": 75,
   "metadata": {},
   "outputs": [
    {
     "data": {
      "text/html": [
       "<div>\n",
       "<style scoped>\n",
       "    .dataframe tbody tr th:only-of-type {\n",
       "        vertical-align: middle;\n",
       "    }\n",
       "\n",
       "    .dataframe tbody tr th {\n",
       "        vertical-align: top;\n",
       "    }\n",
       "\n",
       "    .dataframe thead th {\n",
       "        text-align: right;\n",
       "    }\n",
       "</style>\n",
       "<table border=\"1\" class=\"dataframe\">\n",
       "  <thead>\n",
       "    <tr style=\"text-align: right;\">\n",
       "      <th></th>\n",
       "      <th>Date</th>\n",
       "      <th>Solar_generation_MWh_normalized</th>\n",
       "    </tr>\n",
       "  </thead>\n",
       "  <tbody>\n",
       "    <tr>\n",
       "      <th>0</th>\n",
       "      <td>2018-10-01 00:00:00</td>\n",
       "      <td>0.0</td>\n",
       "    </tr>\n",
       "    <tr>\n",
       "      <th>1</th>\n",
       "      <td>2018-10-01 00:15:00</td>\n",
       "      <td>0.0</td>\n",
       "    </tr>\n",
       "    <tr>\n",
       "      <th>2</th>\n",
       "      <td>2018-10-01 00:30:00</td>\n",
       "      <td>0.0</td>\n",
       "    </tr>\n",
       "    <tr>\n",
       "      <th>3</th>\n",
       "      <td>2018-10-01 00:45:00</td>\n",
       "      <td>0.0</td>\n",
       "    </tr>\n",
       "    <tr>\n",
       "      <th>4</th>\n",
       "      <td>2018-10-01 01:00:00</td>\n",
       "      <td>0.0</td>\n",
       "    </tr>\n",
       "    <tr>\n",
       "      <th>...</th>\n",
       "      <td>...</td>\n",
       "      <td>...</td>\n",
       "    </tr>\n",
       "    <tr>\n",
       "      <th>128539</th>\n",
       "      <td>2022-05-31 22:45:00</td>\n",
       "      <td>0.0</td>\n",
       "    </tr>\n",
       "    <tr>\n",
       "      <th>128540</th>\n",
       "      <td>2022-05-31 23:00:00</td>\n",
       "      <td>0.0</td>\n",
       "    </tr>\n",
       "    <tr>\n",
       "      <th>128541</th>\n",
       "      <td>2022-05-31 23:15:00</td>\n",
       "      <td>0.0</td>\n",
       "    </tr>\n",
       "    <tr>\n",
       "      <th>128542</th>\n",
       "      <td>2022-05-31 23:30:00</td>\n",
       "      <td>0.0</td>\n",
       "    </tr>\n",
       "    <tr>\n",
       "      <th>128543</th>\n",
       "      <td>2022-05-31 23:45:00</td>\n",
       "      <td>0.0</td>\n",
       "    </tr>\n",
       "  </tbody>\n",
       "</table>\n",
       "<p>128544 rows × 2 columns</p>\n",
       "</div>"
      ],
      "text/plain": [
       "                      Date  Solar_generation_MWh_normalized\n",
       "0      2018-10-01 00:00:00                              0.0\n",
       "1      2018-10-01 00:15:00                              0.0\n",
       "2      2018-10-01 00:30:00                              0.0\n",
       "3      2018-10-01 00:45:00                              0.0\n",
       "4      2018-10-01 01:00:00                              0.0\n",
       "...                    ...                              ...\n",
       "128539 2022-05-31 22:45:00                              0.0\n",
       "128540 2022-05-31 23:00:00                              0.0\n",
       "128541 2022-05-31 23:15:00                              0.0\n",
       "128542 2022-05-31 23:30:00                              0.0\n",
       "128543 2022-05-31 23:45:00                              0.0\n",
       "\n",
       "[128544 rows x 2 columns]"
      ]
     },
     "execution_count": 75,
     "metadata": {},
     "output_type": "execute_result"
    }
   ],
   "source": [
    "train"
   ]
  },
  {
   "attachments": {},
   "cell_type": "markdown",
   "metadata": {},
   "source": [
    "I worked nicely"
   ]
  },
  {
   "cell_type": "code",
   "execution_count": 76,
   "metadata": {},
   "outputs": [],
   "source": [
    "#Let's scale the data\n",
    "from sklearn.preprocessing import StandardScaler, MinMaxScaler"
   ]
  },
  {
   "cell_type": "code",
   "execution_count": 77,
   "metadata": {},
   "outputs": [],
   "source": [
    "#Scale the data for the model #! Test MinMaxScaler \n",
    "\n",
    "scalabe = ['Solar_generation_MWh_normalized']\n",
    "\n",
    "scaler = StandardScaler()\n",
    "train[scalabe] = scaler.fit_transform(train[scalabe])\n",
    "test[scalabe] = scaler.transform(test[scalabe])"
   ]
  },
  {
   "cell_type": "code",
   "execution_count": 78,
   "metadata": {},
   "outputs": [
    {
     "data": {
      "text/html": [
       "<div>\n",
       "<style scoped>\n",
       "    .dataframe tbody tr th:only-of-type {\n",
       "        vertical-align: middle;\n",
       "    }\n",
       "\n",
       "    .dataframe tbody tr th {\n",
       "        vertical-align: top;\n",
       "    }\n",
       "\n",
       "    .dataframe thead th {\n",
       "        text-align: right;\n",
       "    }\n",
       "</style>\n",
       "<table border=\"1\" class=\"dataframe\">\n",
       "  <thead>\n",
       "    <tr style=\"text-align: right;\">\n",
       "      <th></th>\n",
       "      <th>Date</th>\n",
       "      <th>Solar_generation_MWh_normalized</th>\n",
       "    </tr>\n",
       "  </thead>\n",
       "  <tbody>\n",
       "    <tr>\n",
       "      <th>128544</th>\n",
       "      <td>2022-06-01 00:00:00</td>\n",
       "      <td>-0.624547</td>\n",
       "    </tr>\n",
       "    <tr>\n",
       "      <th>128545</th>\n",
       "      <td>2022-06-01 00:15:00</td>\n",
       "      <td>-0.624547</td>\n",
       "    </tr>\n",
       "    <tr>\n",
       "      <th>128546</th>\n",
       "      <td>2022-06-01 00:30:00</td>\n",
       "      <td>-0.624547</td>\n",
       "    </tr>\n",
       "    <tr>\n",
       "      <th>128547</th>\n",
       "      <td>2022-06-01 00:45:00</td>\n",
       "      <td>-0.624547</td>\n",
       "    </tr>\n",
       "    <tr>\n",
       "      <th>128548</th>\n",
       "      <td>2022-06-01 01:00:00</td>\n",
       "      <td>-0.624547</td>\n",
       "    </tr>\n",
       "    <tr>\n",
       "      <th>...</th>\n",
       "      <td>...</td>\n",
       "      <td>...</td>\n",
       "    </tr>\n",
       "    <tr>\n",
       "      <th>163675</th>\n",
       "      <td>2023-06-01 22:45:00</td>\n",
       "      <td>-0.624547</td>\n",
       "    </tr>\n",
       "    <tr>\n",
       "      <th>163676</th>\n",
       "      <td>2023-06-01 23:00:00</td>\n",
       "      <td>-0.624547</td>\n",
       "    </tr>\n",
       "    <tr>\n",
       "      <th>163677</th>\n",
       "      <td>2023-06-01 23:15:00</td>\n",
       "      <td>-0.624547</td>\n",
       "    </tr>\n",
       "    <tr>\n",
       "      <th>163678</th>\n",
       "      <td>2023-06-01 23:30:00</td>\n",
       "      <td>-0.624547</td>\n",
       "    </tr>\n",
       "    <tr>\n",
       "      <th>163679</th>\n",
       "      <td>2023-06-01 23:45:00</td>\n",
       "      <td>-0.624547</td>\n",
       "    </tr>\n",
       "  </tbody>\n",
       "</table>\n",
       "<p>35136 rows × 2 columns</p>\n",
       "</div>"
      ],
      "text/plain": [
       "                      Date  Solar_generation_MWh_normalized\n",
       "128544 2022-06-01 00:00:00                        -0.624547\n",
       "128545 2022-06-01 00:15:00                        -0.624547\n",
       "128546 2022-06-01 00:30:00                        -0.624547\n",
       "128547 2022-06-01 00:45:00                        -0.624547\n",
       "128548 2022-06-01 01:00:00                        -0.624547\n",
       "...                    ...                              ...\n",
       "163675 2023-06-01 22:45:00                        -0.624547\n",
       "163676 2023-06-01 23:00:00                        -0.624547\n",
       "163677 2023-06-01 23:15:00                        -0.624547\n",
       "163678 2023-06-01 23:30:00                        -0.624547\n",
       "163679 2023-06-01 23:45:00                        -0.624547\n",
       "\n",
       "[35136 rows x 2 columns]"
      ]
     },
     "execution_count": 78,
     "metadata": {},
     "output_type": "execute_result"
    }
   ],
   "source": [
    "test"
   ]
  },
  {
   "attachments": {},
   "cell_type": "markdown",
   "metadata": {},
   "source": [
    "old version ....\n",
    " split a univariate sequence into samller samples to feed into the LSTM\n",
    "def split_sequence(input, n_steps, pred_size):\n",
    "    x, y = list(), list()\n",
    "    for i in range(len(input)):\n",
    "        end_ix = i + n_steps # find the end of this pattern\n",
    "        if end_ix+pred_size > len(input)-1: # check if we are beyond the sequence\n",
    "            break\n",
    "        seq_x, seq_y = input[i:end_ix], input[end_ix: end_ix+pred_size]# gather input and output parts of the pattern\n",
    "        x.append(seq_x)\n",
    "        y.append(seq_y)\n",
    "    return np.array(x), np.squeeze(np.array(y))"
   ]
  },
  {
   "cell_type": "code",
   "execution_count": 79,
   "metadata": {},
   "outputs": [],
   "source": [
    "# split a univariate sequence into samller samples to feed into the LSTM\n",
    "def split_sequence(input, n_steps, pred_size, target = []):\n",
    "    ''' This function will split our timeseries into supervised timeseries snipets. \n",
    "    input = dataframe to be split\n",
    "    n_steps = length of the X_variable \n",
    "    pred_size = length of the y_variable\n",
    "    features = list of targets to be split\n",
    "    At the same time we will collect the corresponding timestamps in two additional arrays '''\n",
    "    input_array = input[target]\n",
    "    date_array = input['Date']\n",
    "\n",
    "    x_index, y_index = list(), list()\n",
    "    x, y = list(), list()\n",
    "    for i in range(len(input_array)):\n",
    "        end_ix = i + n_steps # find the end of this pattern\n",
    "        if end_ix+pred_size > len(input)-1: # check if we are beyond the sequence\n",
    "            break\n",
    "        seq_x, seq_y = input_array[i:end_ix], input_array[end_ix: end_ix+pred_size]# gather input and output parts of the pattern\n",
    "        ind_x, ind_y = date_array[i:end_ix], date_array[end_ix: end_ix+pred_size]# gather input and output Dates of the pattern\n",
    "        x.append(seq_x)\n",
    "        y.append(seq_y)\n",
    "        x_index.append(ind_x)\n",
    "        y_index.append(ind_y)\n",
    "\n",
    "    \n",
    "    return np.array(x), np.squeeze(np.array(y)), np.array(x_index), np.squeeze(np.array(y_index)) "
   ]
  },
  {
   "cell_type": "code",
   "execution_count": 80,
   "metadata": {},
   "outputs": [
    {
     "name": "stdout",
     "output_type": "stream",
     "text": [
      "127776 127776\n"
     ]
    }
   ],
   "source": [
    "# define input sequence\n",
    "input = train\n",
    "# choose a number of time steps\n",
    "n_steps = 672\n",
    "# prediction size \n",
    "pred_size= 96\n",
    "\n",
    "target = ['Solar_generation_MWh_normalized']\n",
    "\n",
    "# split into samples\n",
    "X, y, X_train_index, Y_train_index = split_sequence(input, n_steps, pred_size, target)\n",
    "# summarize the data\n",
    "print(len(X), len(y))\n"
   ]
  },
  {
   "cell_type": "code",
   "execution_count": 81,
   "metadata": {},
   "outputs": [
    {
     "name": "stdout",
     "output_type": "stream",
     "text": [
      "(127776, 672, 1) (127776, 96)\n",
      "(127776, 672) (127776, 96)\n"
     ]
    }
   ],
   "source": [
    "print(X.shape, y.shape)\n",
    "\n",
    "print(X_train_index.shape, Y_train_index.shape)"
   ]
  },
  {
   "cell_type": "code",
   "execution_count": 82,
   "metadata": {},
   "outputs": [],
   "source": [
    "X_test, y_test, X_test_index, Y_test_index = split_sequence(test , n_steps, pred_size, target)"
   ]
  },
  {
   "cell_type": "code",
   "execution_count": 83,
   "metadata": {},
   "outputs": [
    {
     "name": "stdout",
     "output_type": "stream",
     "text": [
      "(34368, 672, 1) (34368, 96)\n",
      "(34368, 672) (34368, 96)\n"
     ]
    }
   ],
   "source": [
    "print(X_test.shape, y_test.shape)\n",
    "\n",
    "print(X_test_index.shape, Y_test_index.shape)"
   ]
  },
  {
   "cell_type": "code",
   "execution_count": 84,
   "metadata": {},
   "outputs": [],
   "source": [
    "#Now we have to define the validation set for our model #! I see this approach is not so useful, therefore I will use the train test split with shuffling to obtain the validation data. Here i am not loosing the lateest data for training my model \n",
    "def val_set(X,y):\n",
    "    X, X_val, y, y_val = train_test_split(X, y, test_size=0.2, shuffle=False)\n",
    "    return X, X_val, y, y_val\n",
    "    #! old approach\n",
    "    #train_size = round(len(X) * 0.8)\n",
    "    #X = X[:train_size, :]\n",
    "    #X_val = X[train_size:, :]\n",
    "    #y = y[:train_size, :]\n",
    "    #y_val = y[train_size:, :]\n",
    "    \n",
    "X, X_val, y, y_val = val_set(X, y)"
   ]
  },
  {
   "cell_type": "code",
   "execution_count": 85,
   "metadata": {},
   "outputs": [
    {
     "data": {
      "text/plain": [
       "(25556, 96)"
      ]
     },
     "execution_count": 85,
     "metadata": {},
     "output_type": "execute_result"
    }
   ],
   "source": [
    "y_val.shape"
   ]
  },
  {
   "cell_type": "code",
   "execution_count": 86,
   "metadata": {},
   "outputs": [],
   "source": [
    "# reshape from [samples, timesteps] into [samples, timesteps, features]\n",
    " #! correction still necessary\n",
    "\n",
    "def reshape_for_LSTM(X, y, features):\n",
    "    features\n",
    "    X = X.reshape((X.shape[0], X.shape[1], features))\n",
    "    y = y.reshape((y.shape[0], y.shape[1]))\n",
    "    return X, y"
   ]
  },
  {
   "cell_type": "code",
   "execution_count": 87,
   "metadata": {},
   "outputs": [],
   "source": [
    "X, y = reshape_for_LSTM(X, y, 1)"
   ]
  },
  {
   "cell_type": "code",
   "execution_count": 88,
   "metadata": {},
   "outputs": [],
   "source": [
    "X_val, y_val = reshape_for_LSTM(X_val, y_val, 1)"
   ]
  },
  {
   "cell_type": "code",
   "execution_count": 89,
   "metadata": {},
   "outputs": [],
   "source": [
    "X_test, y_test = reshape_for_LSTM(X_test, y_test, 1)"
   ]
  },
  {
   "cell_type": "code",
   "execution_count": 90,
   "metadata": {},
   "outputs": [
    {
     "data": {
      "text/plain": [
       "(25556, 672, 1)"
      ]
     },
     "execution_count": 90,
     "metadata": {},
     "output_type": "execute_result"
    }
   ],
   "source": [
    "X_val.shape"
   ]
  },
  {
   "cell_type": "code",
   "execution_count": 91,
   "metadata": {},
   "outputs": [
    {
     "data": {
      "text/plain": [
       "(102220, 672, 1)"
      ]
     },
     "execution_count": 91,
     "metadata": {},
     "output_type": "execute_result"
    }
   ],
   "source": [
    "X.shape"
   ]
  },
  {
   "attachments": {},
   "cell_type": "markdown",
   "metadata": {},
   "source": [
    "## Lets start the modeling approach using the Long short term memory model ##\n",
    "\n"
   ]
  },
  {
   "cell_type": "code",
   "execution_count": 92,
   "metadata": {},
   "outputs": [],
   "source": [
    "# Define dictionary to store results\n",
    "history = {}\n",
    "\n",
    "# Define number of epochs and learning rate decay\n",
    "N_TRAIN = len(X)\n",
    "EPOCHS = 50\n",
    "BATCH_SIZE = 2600 # total sample size = 97593 each batch 2600 samples (49 batches ) #! has to be adjusted further to improve\n",
    "STEPS_PER_EPOCH = N_TRAIN // BATCH_SIZE\n",
    "lr_schedule = tf.keras.optimizers.schedules.InverseTimeDecay( \n",
    "    0.001,  #! please adjust and finetune ? should be fine like this \n",
    "    decay_steps=STEPS_PER_EPOCH*1000,\n",
    "    decay_rate=1,\n",
    "    staircase=False)\n",
    "\n",
    "\n",
    "# Define optimizer used for modelling\n",
    "optimizer = tf.keras.optimizers.legacy.Adam(learning_rate=lr_schedule, name='Adam')  # due to a warning message I used the legacy.Adam "
   ]
  },
  {
   "cell_type": "code",
   "execution_count": 93,
   "metadata": {},
   "outputs": [],
   "source": [
    "# Define path where checkpoints should be stored\n",
    "checkpoint_path = \"modeling/cp.ckpt\"\n",
    "checkpoint_dir = os.path.dirname(checkpoint_path)\n",
    "\n",
    "# Create a callback that saves the model's weights\n",
    "cp_callback = tf.keras.callbacks.ModelCheckpoint(filepath=checkpoint_path,\n",
    "                                                 save_weights_only=True,\n",
    "                                                 verbose=0) # Set verbose != 0 if you want output during training \n",
    "\n",
    "#create a callback to stop early once there is no improvement in the loss\n",
    "cp_early_stop = tf.keras.callbacks.EarlyStopping(monitor='val_loss', patience=5, mode='min',\n",
    "                                restore_best_weights=True,\n",
    "                                verbose = True)"
   ]
  },
  {
   "attachments": {},
   "cell_type": "markdown",
   "metadata": {},
   "source": [
    "Note how many output layer are needed for predicting several timestamps? Please check one output layer is enough but some of the parameters have to be adjusted,\n",
    "\n",
    "n_steps, n_features\n",
    "X.shape[1], X.shape[2]"
   ]
  },
  {
   "attachments": {},
   "cell_type": "markdown",
   "metadata": {},
   "source": [
    "reason for not having activation functions https://datascience.stackexchange.com/questions/66594/activation-function-between-lstm-layers\n",
    "https://www.tensorflow.org/api_docs/python/tf/keras/layers/LSTMCell\n",
    "\n",
    "output layer structure : https://stackoverflow.com/questions/46797891/output-shape-of-lstm-model#46799544\n",
    "\n",
    "https://shiva-verma.medium.com/understanding-input-and-output-shape-in-lstm-keras-c501ee95c65e"
   ]
  },
  {
   "cell_type": "code",
   "execution_count": 94,
   "metadata": {},
   "outputs": [],
   "source": [
    "#from keras.layers import Dense, Activation, Dropout, LSTM , Conv1D, MaxPooling1D, LeakyReLU"
   ]
  },
  {
   "cell_type": "code",
   "execution_count": 95,
   "metadata": {},
   "outputs": [],
   "source": [
    "def get_simple_LSTM_model():\n",
    "    simple_LSTM = tf.keras.Sequential([\n",
    "      tf.keras.layers.Conv1D(32, kernel_size = 5, activation ='relu', input_shape =(X.shape[1], X.shape[2])),\n",
    "      tf.keras.layers.MaxPooling1D(pool_size = 2),\n",
    "      tf.keras.layers.LSTM(45, kernel_initializer = 'uniform', return_sequences=True), # ! units are not set in stone yet \n",
    "      tf.keras.layers.Dropout(0.2),\n",
    "      tf.keras.layers.LSTM(32, return_sequences=True),\n",
    "      tf.keras.layers.Dropout(0.2),\n",
    "      tf.keras.layers.LSTM(32, return_sequences=False),\n",
    "      tf.keras.layers.Dropout(0.2),\n",
    "      tf.keras.layers.Dense(y.shape[1] ,kernel_initializer = 'uniform', activation='linear') #96 to predict a day \n",
    "    ])\n",
    "\n",
    "    simple_LSTM.compile(optimizer=optimizer,\n",
    "                  loss=tf.keras.losses.MeanSquaredError(), \n",
    "                  metrics=[tf.keras.metrics.MeanAbsolutePercentageError()])\n",
    "    return simple_LSTM"
   ]
  },
  {
   "cell_type": "code",
   "execution_count": 96,
   "metadata": {},
   "outputs": [
    {
     "name": "stdout",
     "output_type": "stream",
     "text": [
      "Model: \"sequential_2\"\n",
      "_________________________________________________________________\n",
      " Layer (type)                Output Shape              Param #   \n",
      "=================================================================\n",
      " conv1d_2 (Conv1D)           (None, 668, 32)           192       \n",
      "                                                                 \n",
      " max_pooling1d_2 (MaxPoolin  (None, 334, 32)           0         \n",
      " g1D)                                                            \n",
      "                                                                 \n",
      " lstm_6 (LSTM)               (None, 334, 45)           14040     \n",
      "                                                                 \n",
      " dropout_6 (Dropout)         (None, 334, 45)           0         \n",
      "                                                                 \n",
      " lstm_7 (LSTM)               (None, 334, 32)           9984      \n",
      "                                                                 \n",
      " dropout_7 (Dropout)         (None, 334, 32)           0         \n",
      "                                                                 \n",
      " lstm_8 (LSTM)               (None, 32)                8320      \n",
      "                                                                 \n",
      " dropout_8 (Dropout)         (None, 32)                0         \n",
      "                                                                 \n",
      " dense_2 (Dense)             (None, 96)                3168      \n",
      "                                                                 \n",
      "=================================================================\n",
      "Total params: 35704 (139.47 KB)\n",
      "Trainable params: 35704 (139.47 KB)\n",
      "Non-trainable params: 0 (0.00 Byte)\n",
      "_________________________________________________________________\n",
      "None\n"
     ]
    }
   ],
   "source": [
    "with tf.device('/cpu:0'):\n",
    "    simple_LSTM = get_simple_LSTM_model()\n",
    "    print(simple_LSTM.summary())"
   ]
  },
  {
   "cell_type": "code",
   "execution_count": 97,
   "metadata": {},
   "outputs": [
    {
     "name": "stdout",
     "output_type": "stream",
     "text": [
      "Epoch 1/50\n",
      "Epoch 2/50\n",
      "Epoch 3/50\n",
      "Epoch 4/50\n",
      "Epoch 5/50\n",
      "Epoch 6/50\n",
      "Epoch 7/50\n",
      "Epoch 8/50\n",
      "Epoch 9/50\n",
      "Epoch 10/50\n",
      "Epoch 11/50\n",
      "Epoch 12/50\n",
      "Epoch 13/50\n",
      "Epoch 14/50\n",
      "Epoch 15/50\n",
      "Epoch 16/50\n",
      "Epoch 17/50\n",
      "Epoch 18/50\n",
      "Epoch 19/50\n",
      "Epoch 20/50\n",
      "Epoch 21/50\n",
      "Restoring model weights from the end of the best epoch: 16.\n",
      "Epoch 21: early stopping\n"
     ]
    }
   ],
   "source": [
    "with tf.device('/cpu:0'):\n",
    "    history = simple_LSTM.fit(X,\n",
    "                        y,\n",
    "                        batch_size= BATCH_SIZE,\n",
    "                        validation_data= (X_val, y_val),   ##### probably best to make validation data D #! TO DO \n",
    "                        verbose=10,\n",
    "                        steps_per_epoch=STEPS_PER_EPOCH,\n",
    "                        epochs=EPOCHS,\n",
    "                        shuffle = False, \n",
    "                        callbacks=[cp_callback, cp_early_stop]) # try without early stopping to see if there is something wrong cp_early_stop #!patience=5 helps to aviod getting stuck in local minima "
   ]
  },
  {
   "cell_type": "code",
   "execution_count": 98,
   "metadata": {},
   "outputs": [
    {
     "ename": "NameError",
     "evalue": "name 'STOP' is not defined",
     "output_type": "error",
     "traceback": [
      "\u001b[0;31m---------------------------------------------------------------------------\u001b[0m",
      "\u001b[0;31mNameError\u001b[0m                                 Traceback (most recent call last)",
      "Cell \u001b[0;32mIn[98], line 3\u001b[0m\n\u001b[1;32m      1\u001b[0m \u001b[39m#with tf.device('/cpu:0'):\u001b[39;00m\n\u001b[1;32m      2\u001b[0m \u001b[39m#    simple_LSTM_reloaded = tf.keras.models.load_model('saved_model/simple_LSTM')\u001b[39;00m\n\u001b[0;32m----> 3\u001b[0m STOP\n\u001b[1;32m      4\u001b[0m \u001b[39m# Check its architecture\u001b[39;00m\n\u001b[1;32m      5\u001b[0m \u001b[39m#simple_LSTM_reloaded.summary()\u001b[39;00m\n",
      "\u001b[0;31mNameError\u001b[0m: name 'STOP' is not defined"
     ]
    }
   ],
   "source": [
    "#with tf.device('/cpu:0'):\n",
    "#    simple_LSTM_reloaded = tf.keras.models.load_model('saved_model/simple_LSTM')\n",
    "STOP\n",
    "# Check its architecture\n",
    "#simple_LSTM_reloaded.summary()"
   ]
  },
  {
   "cell_type": "code",
   "execution_count": null,
   "metadata": {},
   "outputs": [],
   "source": [
    "#Save the entire small model as a SavedModel.\n",
    "#!mkdir -p ../models/saved_model\n",
    "#simple_LSTM.save('../models/saved_model/simple_LSTM_good')"
   ]
  },
  {
   "cell_type": "code",
   "execution_count": 99,
   "metadata": {},
   "outputs": [
    {
     "data": {
      "text/plain": [
       "{'loss': [0.8483347296714783,\n",
       "  0.5733506083488464,\n",
       "  0.45766717195510864,\n",
       "  0.3970829248428345,\n",
       "  0.33884087204933167,\n",
       "  0.28191933035850525,\n",
       "  0.22895336151123047,\n",
       "  0.20850348472595215,\n",
       "  0.20233416557312012,\n",
       "  0.19393911957740784,\n",
       "  0.1710493564605713,\n",
       "  0.17681719362735748,\n",
       "  0.16815093159675598,\n",
       "  0.15475717186927795,\n",
       "  0.16546346247196198,\n",
       "  0.1566966325044632,\n",
       "  0.15691566467285156,\n",
       "  0.14258532226085663,\n",
       "  0.1573796421289444,\n",
       "  0.14179420471191406,\n",
       "  0.14840053021907806],\n",
       " 'mean_absolute_percentage_error': [108.60807037353516,\n",
       "  155.84457397460938,\n",
       "  172.29261779785156,\n",
       "  181.48614501953125,\n",
       "  167.19952392578125,\n",
       "  174.9529571533203,\n",
       "  156.92977905273438,\n",
       "  160.3831787109375,\n",
       "  140.78018188476562,\n",
       "  147.58876037597656,\n",
       "  138.1831512451172,\n",
       "  141.0912322998047,\n",
       "  141.60055541992188,\n",
       "  131.18032836914062,\n",
       "  138.17977905273438,\n",
       "  136.92361450195312,\n",
       "  136.12611389160156,\n",
       "  124.1062240600586,\n",
       "  134.5943145751953,\n",
       "  126.52568817138672,\n",
       "  129.2911834716797],\n",
       " 'val_loss': [1.0795857906341553,\n",
       "  0.8115299940109253,\n",
       "  0.6944383382797241,\n",
       "  0.6123155355453491,\n",
       "  0.5131651163101196,\n",
       "  0.435371071100235,\n",
       "  0.3790260851383209,\n",
       "  0.3388470411300659,\n",
       "  0.31444263458251953,\n",
       "  0.2785242199897766,\n",
       "  0.26308315992355347,\n",
       "  0.26314660906791687,\n",
       "  0.24576424062252045,\n",
       "  0.2300114631652832,\n",
       "  0.23590624332427979,\n",
       "  0.22485630214214325,\n",
       "  0.24004541337490082,\n",
       "  0.22506549954414368,\n",
       "  0.2887762188911438,\n",
       "  0.2537074089050293,\n",
       "  0.30365705490112305],\n",
       " 'val_mean_absolute_percentage_error': [163.62388610839844,\n",
       "  221.43795776367188,\n",
       "  260.3000793457031,\n",
       "  255.70809936523438,\n",
       "  232.77609252929688,\n",
       "  255.16224670410156,\n",
       "  237.12637329101562,\n",
       "  226.6083526611328,\n",
       "  230.84249877929688,\n",
       "  268.1315612792969,\n",
       "  253.92803955078125,\n",
       "  294.6329650878906,\n",
       "  263.30645751953125,\n",
       "  257.3612365722656,\n",
       "  242.5457000732422,\n",
       "  220.08224487304688,\n",
       "  177.68966674804688,\n",
       "  175.59368896484375,\n",
       "  164.826904296875,\n",
       "  136.97137451171875,\n",
       "  190.12594604492188]}"
      ]
     },
     "execution_count": 99,
     "metadata": {},
     "output_type": "execute_result"
    }
   ],
   "source": [
    "history.history"
   ]
  },
  {
   "cell_type": "code",
   "execution_count": 100,
   "metadata": {},
   "outputs": [
    {
     "name": "stdout",
     "output_type": "stream",
     "text": [
      "3195/3195 [==============================] - 103s 32ms/step - loss: 0.1071 - mean_absolute_percentage_error: 111.1572\n"
     ]
    }
   ],
   "source": [
    "scores = simple_LSTM.evaluate(X, y)"
   ]
  },
  {
   "cell_type": "code",
   "execution_count": 101,
   "metadata": {},
   "outputs": [
    {
     "name": "stdout",
     "output_type": "stream",
     "text": [
      "\n",
      "mean_absolute_percentage_error: 111.16%\n"
     ]
    }
   ],
   "source": [
    "print(\"\\n%s: %.2f%%\" % (simple_LSTM.metrics_names[1], scores[1]))"
   ]
  },
  {
   "cell_type": "code",
   "execution_count": 102,
   "metadata": {},
   "outputs": [
    {
     "name": "stdout",
     "output_type": "stream",
     "text": [
      "[[-0.6315497  -0.65770525 -0.66351026 ... -0.6549516  -0.6543719\n",
      "  -0.6341517 ]\n",
      " [-0.62495965 -0.64988256 -0.659237   ... -0.6585883  -0.65932494\n",
      "  -0.6364062 ]\n",
      " [-0.616673   -0.63772416 -0.6511651  ... -0.6576188  -0.66019744\n",
      "  -0.6349654 ]\n",
      " ...\n",
      " [-0.6449452  -0.64515275 -0.6594088  ... -0.60163164 -0.6061623\n",
      "  -0.6077352 ]\n",
      " [-0.6584901  -0.6558235  -0.67509764 ... -0.62608033 -0.6227352\n",
      "  -0.6233615 ]\n",
      " [-0.6619007  -0.6585192  -0.68056154 ... -0.6412638  -0.6330098\n",
      "  -0.6324433 ]]\n"
     ]
    }
   ],
   "source": [
    "X_test\n",
    "#x_input = x_input.reshape((x_input.shape[0], x_input.shape[1], 1))\n",
    "y_pred = simple_LSTM.predict(X_test, verbose=0)\n",
    "print(y_pred)"
   ]
  },
  {
   "cell_type": "code",
   "execution_count": null,
   "metadata": {},
   "outputs": [
    {
     "name": "stdout",
     "output_type": "stream",
     "text": [
      "Evaluate on test data\n",
      "14/14 [==============================] - 22s 2s/step - loss: 76.5675 - mean_absolute_percentage_error: 76.5675\n",
      "test loss, test acc: [76.56754302978516, 76.56754302978516]\n"
     ]
    }
   ],
   "source": [
    "print(\"Evaluate on test data\")\n",
    "results = simple_LSTM.evaluate(X_test, y_test, batch_size=2600)\n",
    "print(\"test loss, test acc:\", results)"
   ]
  },
  {
   "cell_type": "code",
   "execution_count": null,
   "metadata": {},
   "outputs": [],
   "source": [
    "#simple_LSTM.save('../models/saved_model/simple_LSTM_70error')"
   ]
  },
  {
   "attachments": {},
   "cell_type": "markdown",
   "metadata": {},
   "source": [
    "Lets now make a new timeseries from out predicted values so we can plot them nicely"
   ]
  },
  {
   "cell_type": "code",
   "execution_count": 103,
   "metadata": {},
   "outputs": [],
   "source": [
    "def make_plotting_table(y_test, y_pred, Y_test_index):\n",
    "    inversed_y_test = scaler.inverse_transform(y_test)\n",
    "    inversed_y_pred = scaler.inverse_transform(y_pred)\n",
    "    inversed_y_test = pd.DataFrame(inversed_y_test[:1, :].T, columns=['should'])\n",
    "    Date = pd.DataFrame(Y_test_index[:1, :].T, columns=['Date'])\n",
    "    inversed_y_pred = pd.DataFrame(inversed_y_pred[:1, :].T, columns=['is'])\n",
    "    df_date = Date\n",
    "    df_3 = pd.concat([df_date, inversed_y_test], axis=1)\n",
    "    df_plotting = pd.concat([df_3, inversed_y_pred] ,axis=1)\n",
    "    df_melted = df_plotting.melt(id_vars = 'Date', value_vars=['is', 'should'], var_name = 'Variable', value_name = \"Value\")\n",
    "    df_melted[\"Date\"] = pd.to_datetime(df_melted['Date'])\n",
    "    return df_melted"
   ]
  },
  {
   "cell_type": "code",
   "execution_count": 104,
   "metadata": {},
   "outputs": [],
   "source": [
    "df_plotting = make_plotting_table(y_test, y_pred, Y_test_index)"
   ]
  },
  {
   "cell_type": "code",
   "execution_count": 105,
   "metadata": {},
   "outputs": [
    {
     "data": {
      "image/png": "[encoded data removed]",
      "text/plain": [
       "<Figure size 640x480 with 1 Axes>"
      ]
     },
     "metadata": {},
     "output_type": "display_data"
    }
   ],
   "source": [
    "LSTM_solar_output = sns.lineplot(data=df_plotting, x = 'Date' , y = 'Value', hue = 'Variable')"
   ]
  },
  {
   "attachments": {},
   "cell_type": "markdown",
   "metadata": {},
   "source": [
    "The results are still not very good. It seems that there are some problems with handeling the 0 and also the seasonality. More work is needed. \n",
    "    Option 1: I will remove the seasonality from the data before it goes into the model \n",
    "    Option 2: I will include the price and weather data to make the model more robust. "
   ]
  },
  {
   "attachments": {},
   "cell_type": "markdown",
   "metadata": {},
   "source": [
    "### Let's now create a proper output table which can then be used for the Optimisation ###\n",
    "Now we will transform out output back into the same units as before and add them to a dataframe. "
   ]
  },
  {
   "cell_type": "code",
   "execution_count": 106,
   "metadata": {},
   "outputs": [],
   "source": [
    "def reverse_and_frame(X, y, X_test_index):\n",
    "    ''' The input are both our arrays X_test and the predicted y and the date index of the original X_test array.\n",
    "\n",
    "     1st. Inverse transfrom the arrays to the original dimensions needed by the optimizer \n",
    "     2nd. Create a dataframe for both x_test and y_pred \n",
    "     3rd. Merge all the columns representing the timesteps into a single array in one column \n",
    "     4th. Create an empty dataframe and add the last date of X_test_index as the timepoint from which the prediction started\n",
    "     5th  Concatenate the two dataframes into one \n",
    "    '''\n",
    "    inversed_y_pred = scaler.inverse_transform(y)\n",
    "    inversed_X_test = scaler.inverse_transform(X.reshape(X.shape[0], X.shape[1]))\n",
    "\n",
    "    X_test = pd.DataFrame(inversed_X_test)\n",
    "    y_pred = pd.DataFrame(inversed_y_pred)\n",
    "\n",
    "    X_test['input_array'] = X_test.apply(lambda row: np.array(row), axis=1)\n",
    "    y_pred['output_array'] = y_pred.apply(lambda row: np.array(row), axis=1)\n",
    "\n",
    "    df_final = pd.DataFrame()\n",
    "    df_final[\"Date\"]= X_test_index[:, -1]\n",
    "\n",
    "    df_final['output'] = y_pred['output_array']\n",
    "    df_final['input'] = X_test['input_array']\n",
    "    return df_final"
   ]
  },
  {
   "cell_type": "code",
   "execution_count": 107,
   "metadata": {},
   "outputs": [],
   "source": [
    "solar_predictions= reverse_and_frame(X_test, y_pred, X_test_index)"
   ]
  },
  {
   "attachments": {},
   "cell_type": "markdown",
   "metadata": {},
   "source": [
    "### include the date and time column back to the output dataframe ###"
   ]
  },
  {
   "cell_type": "code",
   "execution_count": 108,
   "metadata": {},
   "outputs": [
    {
     "data": {
      "text/html": [
       "<div>\n",
       "<style scoped>\n",
       "    .dataframe tbody tr th:only-of-type {\n",
       "        vertical-align: middle;\n",
       "    }\n",
       "\n",
       "    .dataframe tbody tr th {\n",
       "        vertical-align: top;\n",
       "    }\n",
       "\n",
       "    .dataframe thead th {\n",
       "        text-align: right;\n",
       "    }\n",
       "</style>\n",
       "<table border=\"1\" class=\"dataframe\">\n",
       "  <thead>\n",
       "    <tr style=\"text-align: right;\">\n",
       "      <th></th>\n",
       "      <th>Date</th>\n",
       "      <th>output</th>\n",
       "      <th>input</th>\n",
       "    </tr>\n",
       "  </thead>\n",
       "  <tbody>\n",
       "    <tr>\n",
       "      <th>0</th>\n",
       "      <td>2022-06-07 23:45:00</td>\n",
       "      <td>[-11.280065, -53.410007, -62.76047, -3.8239489...</td>\n",
       "      <td>[0.0, 0.0, 0.0, 0.0, 0.0, 0.0, 0.0, 0.0, 0.0, ...</td>\n",
       "    </tr>\n",
       "    <tr>\n",
       "      <th>1</th>\n",
       "      <td>2022-06-08 00:00:00</td>\n",
       "      <td>[-0.6650743, -40.809666, -55.877293, 9.141688,...</td>\n",
       "      <td>[0.0, 0.0, 0.0, 0.0, 0.0, 0.0, 0.0, 0.0, 0.0, ...</td>\n",
       "    </tr>\n",
       "    <tr>\n",
       "      <th>2</th>\n",
       "      <td>2022-06-08 00:15:00</td>\n",
       "      <td>[12.682643, -21.22556, -42.875584, 22.695827, ...</td>\n",
       "      <td>[0.0, 0.0, 0.0, 0.0, 0.0, 0.0, 0.0, 0.0, 0.0, ...</td>\n",
       "    </tr>\n",
       "    <tr>\n",
       "      <th>3</th>\n",
       "      <td>2022-06-08 00:30:00</td>\n",
       "      <td>[31.294216, 7.299464, -20.735691, 39.340603, 5...</td>\n",
       "      <td>[0.0, 0.0, 0.0, 0.0, 0.0, 0.0, 0.0, 0.0, 0.0, ...</td>\n",
       "    </tr>\n",
       "    <tr>\n",
       "      <th>4</th>\n",
       "      <td>2022-06-08 00:45:00</td>\n",
       "      <td>[57.90054, 46.636196, 13.179347, 62.010036, 72...</td>\n",
       "      <td>[0.0, 0.0, 0.0, 0.0, 0.0, 0.0, 0.0, 0.0, 0.0, ...</td>\n",
       "    </tr>\n",
       "    <tr>\n",
       "      <th>...</th>\n",
       "      <td>...</td>\n",
       "      <td>...</td>\n",
       "      <td>...</td>\n",
       "    </tr>\n",
       "    <tr>\n",
       "      <th>34363</th>\n",
       "      <td>2023-05-31 22:30:00</td>\n",
       "      <td>[72.84988, 55.043423, 55.606533, 29.463406, 40...</td>\n",
       "      <td>[0.0, 0.0, 0.0, 0.0, 0.0, 0.0, 0.0, 0.0, 0.0, ...</td>\n",
       "    </tr>\n",
       "    <tr>\n",
       "      <th>34364</th>\n",
       "      <td>2023-05-31 22:45:00</td>\n",
       "      <td>[10.223781, 1.7900038, -9.646581, -15.838414, ...</td>\n",
       "      <td>[0.0, 0.0, 0.0, 0.0, 0.0, 0.0, 0.0, 0.0, 0.0, ...</td>\n",
       "    </tr>\n",
       "    <tr>\n",
       "      <th>34365</th>\n",
       "      <td>2023-05-31 23:00:00</td>\n",
       "      <td>[-32.856785, -33.191135, -56.154026, -44.85739...</td>\n",
       "      <td>[0.0, 0.0, 0.0, 0.0, 0.0, 0.0, 0.0, 0.0, 0.0, ...</td>\n",
       "    </tr>\n",
       "    <tr>\n",
       "      <th>34366</th>\n",
       "      <td>2023-05-31 23:15:00</td>\n",
       "      <td>[-54.67429, -50.379, -81.42478, -56.45151, -28...</td>\n",
       "      <td>[0.0, 0.0, 0.0, 0.0, 0.0, 0.0, 0.0, 0.0, 0.0, ...</td>\n",
       "    </tr>\n",
       "    <tr>\n",
       "      <th>34367</th>\n",
       "      <td>2023-05-31 23:30:00</td>\n",
       "      <td>[-60.16782, -54.721165, -90.22581, -54.970676,...</td>\n",
       "      <td>[0.0, 0.0, 0.0, 0.0, 0.0, 0.0, 0.0, 0.0, 0.0, ...</td>\n",
       "    </tr>\n",
       "  </tbody>\n",
       "</table>\n",
       "<p>34368 rows × 3 columns</p>\n",
       "</div>"
      ],
      "text/plain": [
       "                     Date                                             output   \n",
       "0     2022-06-07 23:45:00  [-11.280065, -53.410007, -62.76047, -3.8239489...  \\\n",
       "1     2022-06-08 00:00:00  [-0.6650743, -40.809666, -55.877293, 9.141688,...   \n",
       "2     2022-06-08 00:15:00  [12.682643, -21.22556, -42.875584, 22.695827, ...   \n",
       "3     2022-06-08 00:30:00  [31.294216, 7.299464, -20.735691, 39.340603, 5...   \n",
       "4     2022-06-08 00:45:00  [57.90054, 46.636196, 13.179347, 62.010036, 72...   \n",
       "...                   ...                                                ...   \n",
       "34363 2023-05-31 22:30:00  [72.84988, 55.043423, 55.606533, 29.463406, 40...   \n",
       "34364 2023-05-31 22:45:00  [10.223781, 1.7900038, -9.646581, -15.838414, ...   \n",
       "34365 2023-05-31 23:00:00  [-32.856785, -33.191135, -56.154026, -44.85739...   \n",
       "34366 2023-05-31 23:15:00  [-54.67429, -50.379, -81.42478, -56.45151, -28...   \n",
       "34367 2023-05-31 23:30:00  [-60.16782, -54.721165, -90.22581, -54.970676,...   \n",
       "\n",
       "                                                   input  \n",
       "0      [0.0, 0.0, 0.0, 0.0, 0.0, 0.0, 0.0, 0.0, 0.0, ...  \n",
       "1      [0.0, 0.0, 0.0, 0.0, 0.0, 0.0, 0.0, 0.0, 0.0, ...  \n",
       "2      [0.0, 0.0, 0.0, 0.0, 0.0, 0.0, 0.0, 0.0, 0.0, ...  \n",
       "3      [0.0, 0.0, 0.0, 0.0, 0.0, 0.0, 0.0, 0.0, 0.0, ...  \n",
       "4      [0.0, 0.0, 0.0, 0.0, 0.0, 0.0, 0.0, 0.0, 0.0, ...  \n",
       "...                                                  ...  \n",
       "34363  [0.0, 0.0, 0.0, 0.0, 0.0, 0.0, 0.0, 0.0, 0.0, ...  \n",
       "34364  [0.0, 0.0, 0.0, 0.0, 0.0, 0.0, 0.0, 0.0, 0.0, ...  \n",
       "34365  [0.0, 0.0, 0.0, 0.0, 0.0, 0.0, 0.0, 0.0, 0.0, ...  \n",
       "34366  [0.0, 0.0, 0.0, 0.0, 0.0, 0.0, 0.0, 0.0, 0.0, ...  \n",
       "34367  [0.0, 0.0, 0.0, 0.0, 0.0, 0.0, 0.0, 0.0, 0.0, ...  \n",
       "\n",
       "[34368 rows x 3 columns]"
      ]
     },
     "execution_count": 108,
     "metadata": {},
     "output_type": "execute_result"
    }
   ],
   "source": [
    "solar_predictions"
   ]
  },
  {
   "cell_type": "code",
   "execution_count": 109,
   "metadata": {},
   "outputs": [],
   "source": [
    "df_solar_predictions = solar_predictions[['Date', 'output']].copy()"
   ]
  },
  {
   "cell_type": "code",
   "execution_count": 110,
   "metadata": {},
   "outputs": [],
   "source": [
    "df_solar_predictions.to_pickle(\"../predictions/solar_predictions.pkl\")"
   ]
  },
  {
   "cell_type": "code",
   "execution_count": null,
   "metadata": {},
   "outputs": [],
   "source": [
    "# Save the entire small model as a SavedModel.\n",
    "#!mkdir -p ../models/saved_model\n",
    "#simple_LSTM.save('../models/saved_model/simple_LSTM_2')"
   ]
  },
  {
   "attachments": {},
   "cell_type": "markdown",
   "metadata": {},
   "source": [
    "### Short summary ###\n",
    "model is performing poorly, the overall MAPE is still around 65 % error which is helpful for our approach. Based on the output I is not able to handle the 0 very well. I will now look a bit deeper into the 0 problem. "
   ]
  },
  {
   "attachments": {},
   "cell_type": "markdown",
   "metadata": {},
   "source": [
    "### Alternative approach get rid of the seasonality beforehand \n",
    "\n",
    "TO DO"
   ]
  }
 ],
 "metadata": {
  "kernelspec": {
   "display_name": ".venv",
   "language": "python",
   "name": "python3"
  },
  "language_info": {
   "codemirror_mode": {
    "name": "ipython",
    "version": 3
   },
   "file_extension": ".py",
   "mimetype": "text/x-python",
   "name": "python",
   "nbconvert_exporter": "python",
   "pygments_lexer": "ipython3",
   "version": "3.11.3"
  },
  "orig_nbformat": 4
 },
 "nbformat": 4,
 "nbformat_minor": 2
}
