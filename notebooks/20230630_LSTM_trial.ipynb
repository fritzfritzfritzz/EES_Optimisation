{
 "cells": [
  {
   "attachments": {},
   "cell_type": "markdown",
   "metadata": {},
   "source": [
    "# First Approach to a univariate Long-Short-Term Memory model for predicting the solar output  #\n",
    "\n",
    "For our optimisation we need solar output predictions. In this notebook we will use a univariate Long-Short-Term Memory model to predict the solar output. \n",
    "\n",
    "\n",
    " https://www.tensorflow.org/api_docs/python/tf/keras/layers/LSTM\n"
   ]
  },
  {
   "attachments": {},
   "cell_type": "markdown",
   "metadata": {},
   "source": [
    "First install all the dependencies:"
   ]
  },
  {
   "cell_type": "code",
   "execution_count": 111,
   "metadata": {},
   "outputs": [],
   "source": [
    "import pandas as pd\n",
    "import numpy as np\n",
    "import os\n",
    "\n",
    "import plotly.express as px\n",
    "import plotly.graph_objects as go\n",
    "import matplotlib.pyplot as plt\n",
    "import seaborn as sns\n",
    "\n",
    "from itertools import permutations\n",
    "\n",
    "from sklearn.metrics import mean_squared_error\n",
    "from math import sqrt\n",
    "from statsmodels.tsa.stattools import adfuller,kpss\n",
    "from statsmodels.tsa.seasonal import seasonal_decompose\n",
    "from statsmodels.tsa.arima_model import ARIMA\n",
    "from statsmodels.graphics.tsaplots import plot_pacf\n",
    "\n",
    "import statsmodels.graphics.tsaplots as tsaplot\n",
    "from statsmodels.tsa.holtwinters import Holt, ExponentialSmoothing, SimpleExpSmoothing\n",
    "\n",
    "import tensorflow as tf\n",
    "\n",
    "from tensorflow import keras\n",
    "\n",
    "from tensorflow.keras import layers\n",
    "from tensorflow.keras import regularizers\n",
    "from tensorflow.keras.utils import plot_model\n",
    "\n",
    "import keras \n",
    "from keras.models import Sequential # intitialize the ANN\n",
    "from keras.layers import Dense, Activation, Dropout, LSTM , Conv1D, MaxPooling1D  # create layers\n",
    "\n",
    "\n",
    "from sklearn.model_selection import train_test_split\n",
    " \n",
    "np.random.seed(42)\n",
    "tf.random.set_seed(42)\n"
   ]
  },
  {
   "attachments": {},
   "cell_type": "markdown",
   "metadata": {},
   "source": [
    "We will start with loading the pickle file with our full dataset into this notebook. \n",
    "\n"
   ]
  },
  {
   "cell_type": "code",
   "execution_count": 355,
   "metadata": {},
   "outputs": [],
   "source": [
    "df = pd.read_pickle(\"../data/final_dataframe.pkl\")"
   ]
  },
  {
   "attachments": {},
   "cell_type": "markdown",
   "metadata": {},
   "source": [
    "The column names are not very easy to work with and can be a bit hard to read. Therefore we will rename them to make them easier to read."
   ]
  },
  {
   "cell_type": "code",
   "execution_count": 356,
   "metadata": {},
   "outputs": [
    {
     "data": {
      "text/html": [
       "<div>\n",
       "<style scoped>\n",
       "    .dataframe tbody tr th:only-of-type {\n",
       "        vertical-align: middle;\n",
       "    }\n",
       "\n",
       "    .dataframe tbody tr th {\n",
       "        vertical-align: top;\n",
       "    }\n",
       "\n",
       "    .dataframe thead th {\n",
       "        text-align: right;\n",
       "    }\n",
       "</style>\n",
       "<table border=\"1\" class=\"dataframe\">\n",
       "  <thead>\n",
       "    <tr style=\"text-align: right;\">\n",
       "      <th></th>\n",
       "      <th>Date</th>\n",
       "      <th>Solar_generation_MWh</th>\n",
       "      <th>Solar_installed_MW</th>\n",
       "      <th>Total_consumption_MWh</th>\n",
       "      <th>DE_LU_price_per_MWh</th>\n",
       "      <th>normalisation_factor</th>\n",
       "      <th>Solar_generation_MWh_normalized</th>\n",
       "    </tr>\n",
       "  </thead>\n",
       "  <tbody>\n",
       "    <tr>\n",
       "      <th>0</th>\n",
       "      <td>2018-10-01 00:00:00</td>\n",
       "      <td>0.0</td>\n",
       "      <td>42805.0</td>\n",
       "      <td>10589.75</td>\n",
       "      <td>59.53</td>\n",
       "      <td>0.684015</td>\n",
       "      <td>0.0</td>\n",
       "    </tr>\n",
       "    <tr>\n",
       "      <th>1</th>\n",
       "      <td>2018-10-01 00:15:00</td>\n",
       "      <td>0.0</td>\n",
       "      <td>42805.0</td>\n",
       "      <td>10589.75</td>\n",
       "      <td>59.53</td>\n",
       "      <td>0.684015</td>\n",
       "      <td>0.0</td>\n",
       "    </tr>\n",
       "    <tr>\n",
       "      <th>2</th>\n",
       "      <td>2018-10-01 00:30:00</td>\n",
       "      <td>0.0</td>\n",
       "      <td>42805.0</td>\n",
       "      <td>10589.75</td>\n",
       "      <td>59.53</td>\n",
       "      <td>0.684015</td>\n",
       "      <td>0.0</td>\n",
       "    </tr>\n",
       "    <tr>\n",
       "      <th>3</th>\n",
       "      <td>2018-10-01 00:45:00</td>\n",
       "      <td>0.0</td>\n",
       "      <td>42805.0</td>\n",
       "      <td>10589.75</td>\n",
       "      <td>59.53</td>\n",
       "      <td>0.684015</td>\n",
       "      <td>0.0</td>\n",
       "    </tr>\n",
       "    <tr>\n",
       "      <th>4</th>\n",
       "      <td>2018-10-01 01:00:00</td>\n",
       "      <td>0.0</td>\n",
       "      <td>42805.0</td>\n",
       "      <td>10589.75</td>\n",
       "      <td>56.10</td>\n",
       "      <td>0.684015</td>\n",
       "      <td>0.0</td>\n",
       "    </tr>\n",
       "    <tr>\n",
       "      <th>...</th>\n",
       "      <td>...</td>\n",
       "      <td>...</td>\n",
       "      <td>...</td>\n",
       "      <td>...</td>\n",
       "      <td>...</td>\n",
       "      <td>...</td>\n",
       "      <td>...</td>\n",
       "    </tr>\n",
       "    <tr>\n",
       "      <th>163675</th>\n",
       "      <td>2023-06-01 22:45:00</td>\n",
       "      <td>0.0</td>\n",
       "      <td>62579.0</td>\n",
       "      <td>12945.50</td>\n",
       "      <td>95.41</td>\n",
       "      <td>1.000000</td>\n",
       "      <td>0.0</td>\n",
       "    </tr>\n",
       "    <tr>\n",
       "      <th>163676</th>\n",
       "      <td>2023-06-01 23:00:00</td>\n",
       "      <td>0.0</td>\n",
       "      <td>62579.0</td>\n",
       "      <td>12817.75</td>\n",
       "      <td>86.53</td>\n",
       "      <td>1.000000</td>\n",
       "      <td>0.0</td>\n",
       "    </tr>\n",
       "    <tr>\n",
       "      <th>163677</th>\n",
       "      <td>2023-06-01 23:15:00</td>\n",
       "      <td>0.0</td>\n",
       "      <td>62579.0</td>\n",
       "      <td>12539.00</td>\n",
       "      <td>86.53</td>\n",
       "      <td>1.000000</td>\n",
       "      <td>0.0</td>\n",
       "    </tr>\n",
       "    <tr>\n",
       "      <th>163678</th>\n",
       "      <td>2023-06-01 23:30:00</td>\n",
       "      <td>0.0</td>\n",
       "      <td>62579.0</td>\n",
       "      <td>12371.00</td>\n",
       "      <td>86.53</td>\n",
       "      <td>1.000000</td>\n",
       "      <td>0.0</td>\n",
       "    </tr>\n",
       "    <tr>\n",
       "      <th>163679</th>\n",
       "      <td>2023-06-01 23:45:00</td>\n",
       "      <td>0.0</td>\n",
       "      <td>62579.0</td>\n",
       "      <td>12176.75</td>\n",
       "      <td>86.53</td>\n",
       "      <td>1.000000</td>\n",
       "      <td>0.0</td>\n",
       "    </tr>\n",
       "  </tbody>\n",
       "</table>\n",
       "<p>163680 rows × 7 columns</p>\n",
       "</div>"
      ],
      "text/plain": [
       "                      Date  Solar_generation_MWh  Solar_installed_MW   \n",
       "0      2018-10-01 00:00:00                   0.0             42805.0  \\\n",
       "1      2018-10-01 00:15:00                   0.0             42805.0   \n",
       "2      2018-10-01 00:30:00                   0.0             42805.0   \n",
       "3      2018-10-01 00:45:00                   0.0             42805.0   \n",
       "4      2018-10-01 01:00:00                   0.0             42805.0   \n",
       "...                    ...                   ...                 ...   \n",
       "163675 2023-06-01 22:45:00                   0.0             62579.0   \n",
       "163676 2023-06-01 23:00:00                   0.0             62579.0   \n",
       "163677 2023-06-01 23:15:00                   0.0             62579.0   \n",
       "163678 2023-06-01 23:30:00                   0.0             62579.0   \n",
       "163679 2023-06-01 23:45:00                   0.0             62579.0   \n",
       "\n",
       "        Total_consumption_MWh  DE_LU_price_per_MWh  normalisation_factor   \n",
       "0                    10589.75                59.53              0.684015  \\\n",
       "1                    10589.75                59.53              0.684015   \n",
       "2                    10589.75                59.53              0.684015   \n",
       "3                    10589.75                59.53              0.684015   \n",
       "4                    10589.75                56.10              0.684015   \n",
       "...                       ...                  ...                   ...   \n",
       "163675               12945.50                95.41              1.000000   \n",
       "163676               12817.75                86.53              1.000000   \n",
       "163677               12539.00                86.53              1.000000   \n",
       "163678               12371.00                86.53              1.000000   \n",
       "163679               12176.75                86.53              1.000000   \n",
       "\n",
       "        Solar_generation_MWh_normalized  \n",
       "0                                   0.0  \n",
       "1                                   0.0  \n",
       "2                                   0.0  \n",
       "3                                   0.0  \n",
       "4                                   0.0  \n",
       "...                                 ...  \n",
       "163675                              0.0  \n",
       "163676                              0.0  \n",
       "163677                              0.0  \n",
       "163678                              0.0  \n",
       "163679                              0.0  \n",
       "\n",
       "[163680 rows x 7 columns]"
      ]
     },
     "execution_count": 356,
     "metadata": {},
     "output_type": "execute_result"
    }
   ],
   "source": [
    "def col_names(df):\n",
    "    ''' this function renames the columns to make them easier to read \n",
    "      additionally set the date as index in our dataframe'''\n",
    "    column_names = {'Photovoltaics [MWh] Original resolutions': 'Solar_generation_MWh',\n",
    "                'Photovoltaics [MW] Calculated resolutions': 'Solar_installed_MW',\n",
    "                'Total (grid load) [MWh] Original resolutions': 'Total_consumption_MWh',\n",
    "                'Germany/Luxembourg [€/MWh] Calculated resolutions': 'DE_LU_price_per_MWh',}\n",
    "    df.rename(columns=column_names, inplace=True)\n",
    "    #df.set_index('Date', inplace=True)\n",
    "    return df\n",
    "\n",
    "col_names(df)\n"
   ]
  },
  {
   "attachments": {},
   "cell_type": "markdown",
   "metadata": {},
   "source": [
    "Now we can already split the data into train and test set. Important to note here is that the shuffle has to be false otherwise the split is not appropriate for time series analysis. I will use the previously defined approach from the 20230704_train_val_test_split notebook "
   ]
  },
  {
   "cell_type": "code",
   "execution_count": 114,
   "metadata": {},
   "outputs": [],
   "source": [
    "# I have a huge problem with the 0 therfore I will add 1 to all my datapoints \n",
    "#df['Solar_generation_MWh_normalized'] = df['Solar_generation_MWh_normalized'] + 1"
   ]
  },
  {
   "cell_type": "code",
   "execution_count": 357,
   "metadata": {},
   "outputs": [],
   "source": [
    "target = ['Date', 'Solar_generation_MWh_normalized']"
   ]
  },
  {
   "cell_type": "code",
   "execution_count": 358,
   "metadata": {},
   "outputs": [],
   "source": [
    "def test_train_timeseries(df):\n",
    "    ''' In the first part we select the train and test data.\n",
    "    In the second per the columns we want to use for our predictions '''\n",
    "    \n",
    "    test = df[df.Date >= '2022-06-01']\n",
    "    train = df[df.Date < '2022-06-01']\n",
    "\n",
    "    # now we select the columns we want to use for our predictions\n",
    "\n",
    "    test = test[target]\n",
    "    train = train[target]\n",
    "    return test, train\n",
    "\n",
    "test, train = test_train_timeseries(df)"
   ]
  },
  {
   "cell_type": "code",
   "execution_count": 117,
   "metadata": {},
   "outputs": [],
   "source": [
    "#Alternatively we could also use \n",
    "#train, test = train_test_split(df[['Solar_generation_MWh_normalized']], test_size=.25, shuffle=False)"
   ]
  },
  {
   "cell_type": "code",
   "execution_count": 345,
   "metadata": {},
   "outputs": [
    {
     "data": {
      "text/html": [
       "<div>\n",
       "<style scoped>\n",
       "    .dataframe tbody tr th:only-of-type {\n",
       "        vertical-align: middle;\n",
       "    }\n",
       "\n",
       "    .dataframe tbody tr th {\n",
       "        vertical-align: top;\n",
       "    }\n",
       "\n",
       "    .dataframe thead th {\n",
       "        text-align: right;\n",
       "    }\n",
       "</style>\n",
       "<table border=\"1\" class=\"dataframe\">\n",
       "  <thead>\n",
       "    <tr style=\"text-align: right;\">\n",
       "      <th></th>\n",
       "      <th>Date</th>\n",
       "      <th>Solar_generation_MWh_normalized</th>\n",
       "    </tr>\n",
       "  </thead>\n",
       "  <tbody>\n",
       "    <tr>\n",
       "      <th>128544</th>\n",
       "      <td>2022-06-01 00:00:00</td>\n",
       "      <td>0.0</td>\n",
       "    </tr>\n",
       "    <tr>\n",
       "      <th>128545</th>\n",
       "      <td>2022-06-01 00:15:00</td>\n",
       "      <td>0.0</td>\n",
       "    </tr>\n",
       "    <tr>\n",
       "      <th>128546</th>\n",
       "      <td>2022-06-01 00:30:00</td>\n",
       "      <td>0.0</td>\n",
       "    </tr>\n",
       "    <tr>\n",
       "      <th>128547</th>\n",
       "      <td>2022-06-01 00:45:00</td>\n",
       "      <td>0.0</td>\n",
       "    </tr>\n",
       "    <tr>\n",
       "      <th>128548</th>\n",
       "      <td>2022-06-01 01:00:00</td>\n",
       "      <td>0.0</td>\n",
       "    </tr>\n",
       "    <tr>\n",
       "      <th>...</th>\n",
       "      <td>...</td>\n",
       "      <td>...</td>\n",
       "    </tr>\n",
       "    <tr>\n",
       "      <th>163675</th>\n",
       "      <td>2023-06-01 22:45:00</td>\n",
       "      <td>0.0</td>\n",
       "    </tr>\n",
       "    <tr>\n",
       "      <th>163676</th>\n",
       "      <td>2023-06-01 23:00:00</td>\n",
       "      <td>0.0</td>\n",
       "    </tr>\n",
       "    <tr>\n",
       "      <th>163677</th>\n",
       "      <td>2023-06-01 23:15:00</td>\n",
       "      <td>0.0</td>\n",
       "    </tr>\n",
       "    <tr>\n",
       "      <th>163678</th>\n",
       "      <td>2023-06-01 23:30:00</td>\n",
       "      <td>0.0</td>\n",
       "    </tr>\n",
       "    <tr>\n",
       "      <th>163679</th>\n",
       "      <td>2023-06-01 23:45:00</td>\n",
       "      <td>0.0</td>\n",
       "    </tr>\n",
       "  </tbody>\n",
       "</table>\n",
       "<p>35136 rows × 2 columns</p>\n",
       "</div>"
      ],
      "text/plain": [
       "                      Date  Solar_generation_MWh_normalized\n",
       "128544 2022-06-01 00:00:00                              0.0\n",
       "128545 2022-06-01 00:15:00                              0.0\n",
       "128546 2022-06-01 00:30:00                              0.0\n",
       "128547 2022-06-01 00:45:00                              0.0\n",
       "128548 2022-06-01 01:00:00                              0.0\n",
       "...                    ...                              ...\n",
       "163675 2023-06-01 22:45:00                              0.0\n",
       "163676 2023-06-01 23:00:00                              0.0\n",
       "163677 2023-06-01 23:15:00                              0.0\n",
       "163678 2023-06-01 23:30:00                              0.0\n",
       "163679 2023-06-01 23:45:00                              0.0\n",
       "\n",
       "[35136 rows x 2 columns]"
      ]
     },
     "execution_count": 345,
     "metadata": {},
     "output_type": "execute_result"
    }
   ],
   "source": [
    "test"
   ]
  },
  {
   "cell_type": "code",
   "execution_count": 119,
   "metadata": {},
   "outputs": [
    {
     "data": {
      "text/html": [
       "<div>\n",
       "<style scoped>\n",
       "    .dataframe tbody tr th:only-of-type {\n",
       "        vertical-align: middle;\n",
       "    }\n",
       "\n",
       "    .dataframe tbody tr th {\n",
       "        vertical-align: top;\n",
       "    }\n",
       "\n",
       "    .dataframe thead th {\n",
       "        text-align: right;\n",
       "    }\n",
       "</style>\n",
       "<table border=\"1\" class=\"dataframe\">\n",
       "  <thead>\n",
       "    <tr style=\"text-align: right;\">\n",
       "      <th></th>\n",
       "      <th>Date</th>\n",
       "      <th>Solar_generation_MWh_normalized</th>\n",
       "    </tr>\n",
       "  </thead>\n",
       "  <tbody>\n",
       "    <tr>\n",
       "      <th>0</th>\n",
       "      <td>2018-10-01 00:00:00</td>\n",
       "      <td>0.0</td>\n",
       "    </tr>\n",
       "    <tr>\n",
       "      <th>1</th>\n",
       "      <td>2018-10-01 00:15:00</td>\n",
       "      <td>0.0</td>\n",
       "    </tr>\n",
       "    <tr>\n",
       "      <th>2</th>\n",
       "      <td>2018-10-01 00:30:00</td>\n",
       "      <td>0.0</td>\n",
       "    </tr>\n",
       "    <tr>\n",
       "      <th>3</th>\n",
       "      <td>2018-10-01 00:45:00</td>\n",
       "      <td>0.0</td>\n",
       "    </tr>\n",
       "    <tr>\n",
       "      <th>4</th>\n",
       "      <td>2018-10-01 01:00:00</td>\n",
       "      <td>0.0</td>\n",
       "    </tr>\n",
       "    <tr>\n",
       "      <th>...</th>\n",
       "      <td>...</td>\n",
       "      <td>...</td>\n",
       "    </tr>\n",
       "    <tr>\n",
       "      <th>128539</th>\n",
       "      <td>2022-05-31 22:45:00</td>\n",
       "      <td>0.0</td>\n",
       "    </tr>\n",
       "    <tr>\n",
       "      <th>128540</th>\n",
       "      <td>2022-05-31 23:00:00</td>\n",
       "      <td>0.0</td>\n",
       "    </tr>\n",
       "    <tr>\n",
       "      <th>128541</th>\n",
       "      <td>2022-05-31 23:15:00</td>\n",
       "      <td>0.0</td>\n",
       "    </tr>\n",
       "    <tr>\n",
       "      <th>128542</th>\n",
       "      <td>2022-05-31 23:30:00</td>\n",
       "      <td>0.0</td>\n",
       "    </tr>\n",
       "    <tr>\n",
       "      <th>128543</th>\n",
       "      <td>2022-05-31 23:45:00</td>\n",
       "      <td>0.0</td>\n",
       "    </tr>\n",
       "  </tbody>\n",
       "</table>\n",
       "<p>128544 rows × 2 columns</p>\n",
       "</div>"
      ],
      "text/plain": [
       "                      Date  Solar_generation_MWh_normalized\n",
       "0      2018-10-01 00:00:00                              0.0\n",
       "1      2018-10-01 00:15:00                              0.0\n",
       "2      2018-10-01 00:30:00                              0.0\n",
       "3      2018-10-01 00:45:00                              0.0\n",
       "4      2018-10-01 01:00:00                              0.0\n",
       "...                    ...                              ...\n",
       "128539 2022-05-31 22:45:00                              0.0\n",
       "128540 2022-05-31 23:00:00                              0.0\n",
       "128541 2022-05-31 23:15:00                              0.0\n",
       "128542 2022-05-31 23:30:00                              0.0\n",
       "128543 2022-05-31 23:45:00                              0.0\n",
       "\n",
       "[128544 rows x 2 columns]"
      ]
     },
     "execution_count": 119,
     "metadata": {},
     "output_type": "execute_result"
    }
   ],
   "source": [
    "train"
   ]
  },
  {
   "attachments": {},
   "cell_type": "markdown",
   "metadata": {},
   "source": [
    "I worked nicely"
   ]
  },
  {
   "cell_type": "code",
   "execution_count": 120,
   "metadata": {},
   "outputs": [],
   "source": [
    "#Let's scale the data\n",
    "from sklearn.preprocessing import StandardScaler, MinMaxScaler"
   ]
  },
  {
   "cell_type": "code",
   "execution_count": 359,
   "metadata": {},
   "outputs": [],
   "source": [
    "#Scale the data for the model #! Test MinMaxScaler \n",
    "\n",
    "scalabe = ['Solar_generation_MWh_normalized']\n",
    "\n",
    "scaler = StandardScaler()\n",
    "train[scalabe] = scaler.fit_transform(train[scalabe])\n",
    "test[scalabe] = scaler.transform(test[scalabe])"
   ]
  },
  {
   "cell_type": "code",
   "execution_count": 122,
   "metadata": {},
   "outputs": [
    {
     "data": {
      "text/html": [
       "<div>\n",
       "<style scoped>\n",
       "    .dataframe tbody tr th:only-of-type {\n",
       "        vertical-align: middle;\n",
       "    }\n",
       "\n",
       "    .dataframe tbody tr th {\n",
       "        vertical-align: top;\n",
       "    }\n",
       "\n",
       "    .dataframe thead th {\n",
       "        text-align: right;\n",
       "    }\n",
       "</style>\n",
       "<table border=\"1\" class=\"dataframe\">\n",
       "  <thead>\n",
       "    <tr style=\"text-align: right;\">\n",
       "      <th></th>\n",
       "      <th>Date</th>\n",
       "      <th>Solar_generation_MWh_normalized</th>\n",
       "    </tr>\n",
       "  </thead>\n",
       "  <tbody>\n",
       "    <tr>\n",
       "      <th>128544</th>\n",
       "      <td>2022-06-01 00:00:00</td>\n",
       "      <td>-0.638367</td>\n",
       "    </tr>\n",
       "    <tr>\n",
       "      <th>128545</th>\n",
       "      <td>2022-06-01 00:15:00</td>\n",
       "      <td>-0.638367</td>\n",
       "    </tr>\n",
       "    <tr>\n",
       "      <th>128546</th>\n",
       "      <td>2022-06-01 00:30:00</td>\n",
       "      <td>-0.638367</td>\n",
       "    </tr>\n",
       "    <tr>\n",
       "      <th>128547</th>\n",
       "      <td>2022-06-01 00:45:00</td>\n",
       "      <td>-0.638367</td>\n",
       "    </tr>\n",
       "    <tr>\n",
       "      <th>128548</th>\n",
       "      <td>2022-06-01 01:00:00</td>\n",
       "      <td>-0.638367</td>\n",
       "    </tr>\n",
       "    <tr>\n",
       "      <th>...</th>\n",
       "      <td>...</td>\n",
       "      <td>...</td>\n",
       "    </tr>\n",
       "    <tr>\n",
       "      <th>163675</th>\n",
       "      <td>2023-06-01 22:45:00</td>\n",
       "      <td>-0.638367</td>\n",
       "    </tr>\n",
       "    <tr>\n",
       "      <th>163676</th>\n",
       "      <td>2023-06-01 23:00:00</td>\n",
       "      <td>-0.638367</td>\n",
       "    </tr>\n",
       "    <tr>\n",
       "      <th>163677</th>\n",
       "      <td>2023-06-01 23:15:00</td>\n",
       "      <td>-0.638367</td>\n",
       "    </tr>\n",
       "    <tr>\n",
       "      <th>163678</th>\n",
       "      <td>2023-06-01 23:30:00</td>\n",
       "      <td>-0.638367</td>\n",
       "    </tr>\n",
       "    <tr>\n",
       "      <th>163679</th>\n",
       "      <td>2023-06-01 23:45:00</td>\n",
       "      <td>-0.638367</td>\n",
       "    </tr>\n",
       "  </tbody>\n",
       "</table>\n",
       "<p>35136 rows × 2 columns</p>\n",
       "</div>"
      ],
      "text/plain": [
       "                      Date  Solar_generation_MWh_normalized\n",
       "128544 2022-06-01 00:00:00                        -0.638367\n",
       "128545 2022-06-01 00:15:00                        -0.638367\n",
       "128546 2022-06-01 00:30:00                        -0.638367\n",
       "128547 2022-06-01 00:45:00                        -0.638367\n",
       "128548 2022-06-01 01:00:00                        -0.638367\n",
       "...                    ...                              ...\n",
       "163675 2023-06-01 22:45:00                        -0.638367\n",
       "163676 2023-06-01 23:00:00                        -0.638367\n",
       "163677 2023-06-01 23:15:00                        -0.638367\n",
       "163678 2023-06-01 23:30:00                        -0.638367\n",
       "163679 2023-06-01 23:45:00                        -0.638367\n",
       "\n",
       "[35136 rows x 2 columns]"
      ]
     },
     "execution_count": 122,
     "metadata": {},
     "output_type": "execute_result"
    }
   ],
   "source": [
    "test"
   ]
  },
  {
   "attachments": {},
   "cell_type": "markdown",
   "metadata": {},
   "source": [
    "old version ....\n",
    " split a univariate sequence into samller samples to feed into the LSTM\n",
    "def split_sequence(input, n_steps, pred_size):\n",
    "    x, y = list(), list()\n",
    "    for i in range(len(input)):\n",
    "        end_ix = i + n_steps # find the end of this pattern\n",
    "        if end_ix+pred_size > len(input)-1: # check if we are beyond the sequence\n",
    "            break\n",
    "        seq_x, seq_y = input[i:end_ix], input[end_ix: end_ix+pred_size]# gather input and output parts of the pattern\n",
    "        x.append(seq_x)\n",
    "        y.append(seq_y)\n",
    "    return np.array(x), np.squeeze(np.array(y))"
   ]
  },
  {
   "cell_type": "code",
   "execution_count": 360,
   "metadata": {},
   "outputs": [],
   "source": [
    "# split a univariate sequence into samller samples to feed into the LSTM\n",
    "def split_sequence(input, n_steps, pred_size, target = []):\n",
    "    ''' This function will split our timeseries into supervised timeseries snipets. \n",
    "    input = dataframe to be split\n",
    "    n_steps = length of the X_variable \n",
    "    pred_size = length of the y_variable\n",
    "    features = list of targets to be split\n",
    "    At the same time we will collect the corresponding timestamps in two additional arrays '''\n",
    "    input_array = input[target]\n",
    "    date_array = input['Date']\n",
    "\n",
    "    x_index, y_index = list(), list()\n",
    "    x, y = list(), list()\n",
    "    for i in range(len(input_array)):\n",
    "        end_ix = i + n_steps # find the end of this pattern\n",
    "        if end_ix+pred_size > len(input)-1: # check if we are beyond the sequence\n",
    "            break\n",
    "        seq_x, seq_y = input_array[i:end_ix], input_array[end_ix: end_ix+pred_size]# gather input and output parts of the pattern\n",
    "        ind_x, ind_y = date_array[i:end_ix], date_array[end_ix: end_ix+pred_size]# gather input and output Dates of the pattern\n",
    "        x.append(seq_x)\n",
    "        y.append(seq_y)\n",
    "        x_index.append(ind_x)\n",
    "        y_index.append(ind_y)\n",
    "\n",
    "    \n",
    "    return np.array(x), np.squeeze(np.array(y)), np.array(x_index), np.squeeze(np.array(y_index)) "
   ]
  },
  {
   "cell_type": "code",
   "execution_count": 361,
   "metadata": {},
   "outputs": [
    {
     "name": "stdout",
     "output_type": "stream",
     "text": [
      "127776 127776\n"
     ]
    }
   ],
   "source": [
    "# define input sequence\n",
    "input = train\n",
    "# choose a number of time steps\n",
    "n_steps = 672\n",
    "# prediction size \n",
    "pred_size= 96\n",
    "\n",
    "target = ['Solar_generation_MWh_normalized']\n",
    "\n",
    "# split into samples\n",
    "X, y, X_train_index, Y_train_index = split_sequence(input, n_steps, pred_size, target)\n",
    "# summarize the data\n",
    "print(len(X), len(y))\n"
   ]
  },
  {
   "cell_type": "code",
   "execution_count": 362,
   "metadata": {},
   "outputs": [
    {
     "name": "stdout",
     "output_type": "stream",
     "text": [
      "(127776, 672, 1) (127776, 96)\n",
      "(127776, 672) (127776, 96)\n"
     ]
    }
   ],
   "source": [
    "print(X.shape, y.shape)\n",
    "\n",
    "print(X_train_index.shape, Y_train_index.shape)"
   ]
  },
  {
   "cell_type": "code",
   "execution_count": 363,
   "metadata": {},
   "outputs": [],
   "source": [
    "X_test, y_test, X_test_index, Y_test_index = split_sequence(test , n_steps, pred_size, target)"
   ]
  },
  {
   "cell_type": "code",
   "execution_count": 364,
   "metadata": {},
   "outputs": [
    {
     "name": "stdout",
     "output_type": "stream",
     "text": [
      "(34368, 672, 1) (34368, 96)\n",
      "(34368, 672) (34368, 96)\n"
     ]
    }
   ],
   "source": [
    "print(X_test.shape, y_test.shape)\n",
    "\n",
    "print(X_test_index.shape, Y_test_index.shape)"
   ]
  },
  {
   "cell_type": "code",
   "execution_count": 128,
   "metadata": {},
   "outputs": [],
   "source": [
    "#Now we have to define the validation set for our model #! I see this approach is not so useful, therefore I will use the train test split with shuffling to obtain the validation data. Here i am not loosing the lateest data for training my model \n",
    "def val_set(X,y):\n",
    "    X, X_val, y, y_val = train_test_split(X, y, test_size=0.2, shuffle=False)\n",
    "    return X, X_val, y, y_val\n",
    "    #! old approach\n",
    "    #train_size = round(len(X) * 0.8)\n",
    "    #X = X[:train_size, :]\n",
    "    #X_val = X[train_size:, :]\n",
    "    #y = y[:train_size, :]\n",
    "    #y_val = y[train_size:, :]\n",
    "    \n",
    "X, X_val, y, y_val = val_set(X, y)"
   ]
  },
  {
   "cell_type": "code",
   "execution_count": 129,
   "metadata": {},
   "outputs": [
    {
     "data": {
      "text/plain": [
       "(25556, 96)"
      ]
     },
     "execution_count": 129,
     "metadata": {},
     "output_type": "execute_result"
    }
   ],
   "source": [
    "y_val.shape"
   ]
  },
  {
   "cell_type": "code",
   "execution_count": 353,
   "metadata": {},
   "outputs": [],
   "source": [
    "# reshape from [samples, timesteps] into [samples, timesteps, features]\n",
    " #! correction still necessary\n",
    "\n",
    "def reshape_for_LSTM(X, y, features):\n",
    "    features\n",
    "    X = X.reshape((X.shape[0], X.shape[1], features))\n",
    "    y = y.reshape((y.shape[0], y.shape[1]))\n",
    "    return X, y"
   ]
  },
  {
   "cell_type": "code",
   "execution_count": 131,
   "metadata": {},
   "outputs": [],
   "source": [
    "X, y = reshape_for_LSTM(X, y, 1)"
   ]
  },
  {
   "cell_type": "code",
   "execution_count": 132,
   "metadata": {},
   "outputs": [],
   "source": [
    "X_val, y_val = reshape_for_LSTM(X_val, y_val, 1)"
   ]
  },
  {
   "cell_type": "code",
   "execution_count": 365,
   "metadata": {},
   "outputs": [],
   "source": [
    "X_test, y_test = reshape_for_LSTM(X_test, y_test, 1)"
   ]
  },
  {
   "cell_type": "code",
   "execution_count": 134,
   "metadata": {},
   "outputs": [
    {
     "data": {
      "text/plain": [
       "(25556, 672, 1)"
      ]
     },
     "execution_count": 134,
     "metadata": {},
     "output_type": "execute_result"
    }
   ],
   "source": [
    "X_val.shape"
   ]
  },
  {
   "cell_type": "code",
   "execution_count": 135,
   "metadata": {},
   "outputs": [
    {
     "data": {
      "text/plain": [
       "(102220, 672, 1)"
      ]
     },
     "execution_count": 135,
     "metadata": {},
     "output_type": "execute_result"
    }
   ],
   "source": [
    "X.shape"
   ]
  },
  {
   "attachments": {},
   "cell_type": "markdown",
   "metadata": {},
   "source": [
    "## Lets start the modeling approach using the Long short term memory model ##\n",
    "\n"
   ]
  },
  {
   "cell_type": "code",
   "execution_count": 136,
   "metadata": {},
   "outputs": [],
   "source": [
    "# Define dictionary to store results\n",
    "history = {}\n",
    "\n",
    "# Define number of epochs and learning rate decay\n",
    "N_TRAIN = len(X)\n",
    "EPOCHS = 50\n",
    "BATCH_SIZE = 2600 # total sample size = 97593 each batch 2600 samples (49 batches ) #! has to be adjusted further to improve\n",
    "STEPS_PER_EPOCH = N_TRAIN // BATCH_SIZE\n",
    "lr_schedule = tf.keras.optimizers.schedules.InverseTimeDecay( \n",
    "    0.001,  #! please adjust and finetune ? should be fine like this \n",
    "    decay_steps=STEPS_PER_EPOCH*1000,\n",
    "    decay_rate=1,\n",
    "    staircase=False)\n",
    "\n",
    "\n",
    "# Define optimizer used for modelling\n",
    "optimizer = tf.keras.optimizers.legacy.Adam(learning_rate=lr_schedule, name='Adam')  # due to a warning message I used the legacy.Adam "
   ]
  },
  {
   "cell_type": "code",
   "execution_count": 137,
   "metadata": {},
   "outputs": [],
   "source": [
    "# Define path where checkpoints should be stored\n",
    "checkpoint_path = \"modeling/cp.ckpt\"\n",
    "checkpoint_dir = os.path.dirname(checkpoint_path)\n",
    "\n",
    "# Create a callback that saves the model's weights\n",
    "cp_callback = tf.keras.callbacks.ModelCheckpoint(filepath=checkpoint_path,\n",
    "                                                 save_weights_only=True,\n",
    "                                                 verbose=0) # Set verbose != 0 if you want output during training \n",
    "\n",
    "#create a callback to stop early once there is no improvement in the loss\n",
    "cp_early_stop = tf.keras.callbacks.EarlyStopping(monitor='val_loss', patience=5, mode='min',\n",
    "                                restore_best_weights=True,\n",
    "                                verbose = True)"
   ]
  },
  {
   "attachments": {},
   "cell_type": "markdown",
   "metadata": {},
   "source": [
    "Note how many output layer are needed for predicting several timestamps? Please check one output layer is enough but some of the parameters have to be adjusted,\n",
    "\n",
    "n_steps, n_features\n",
    "X.shape[1], X.shape[2]"
   ]
  },
  {
   "attachments": {},
   "cell_type": "markdown",
   "metadata": {},
   "source": [
    "reason for not having activation functions https://datascience.stackexchange.com/questions/66594/activation-function-between-lstm-layers\n",
    "https://www.tensorflow.org/api_docs/python/tf/keras/layers/LSTMCell\n",
    "\n",
    "output layer structure : https://stackoverflow.com/questions/46797891/output-shape-of-lstm-model#46799544\n",
    "\n",
    "https://shiva-verma.medium.com/understanding-input-and-output-shape-in-lstm-keras-c501ee95c65e"
   ]
  },
  {
   "cell_type": "code",
   "execution_count": 138,
   "metadata": {},
   "outputs": [],
   "source": [
    "#from keras.layers import Dense, Activation, Dropout, LSTM , Conv1D, MaxPooling1D, LeakyReLU"
   ]
  },
  {
   "cell_type": "code",
   "execution_count": 139,
   "metadata": {},
   "outputs": [],
   "source": [
    "def get_simple_LSTM_model():\n",
    "    simple_LSTM = tf.keras.Sequential([\n",
    "      tf.keras.layers.Conv1D(32, kernel_size = 5, activation ='relu', input_shape =(X.shape[1], X.shape[2])),\n",
    "      tf.keras.layers.MaxPooling1D(pool_size = 2),\n",
    "      tf.keras.layers.LSTM(45, kernel_initializer = 'uniform', return_sequences=True), # ! units are not set in stone yet \n",
    "      tf.keras.layers.Dropout(0.2),\n",
    "      tf.keras.layers.LSTM(32, return_sequences=True),\n",
    "      tf.keras.layers.Dropout(0.2),\n",
    "      tf.keras.layers.LSTM(32, return_sequences=False),\n",
    "      tf.keras.layers.Dropout(0.2),\n",
    "      tf.keras.layers.Dense(y.shape[1] ,kernel_initializer = 'uniform', activation='linear') #96 to predict a day \n",
    "    ])\n",
    "\n",
    "    simple_LSTM.compile(optimizer=optimizer,\n",
    "                  loss=tf.keras.losses.MeanSquaredError(), \n",
    "                  metrics=[tf.keras.metrics.MeanAbsolutePercentageError()])\n",
    "    return simple_LSTM"
   ]
  },
  {
   "cell_type": "code",
   "execution_count": 140,
   "metadata": {},
   "outputs": [
    {
     "name": "stdout",
     "output_type": "stream",
     "text": [
      "Model: \"sequential_3\"\n",
      "_________________________________________________________________\n",
      " Layer (type)                Output Shape              Param #   \n",
      "=================================================================\n",
      " conv1d_3 (Conv1D)           (None, 668, 32)           192       \n",
      "                                                                 \n",
      " max_pooling1d_3 (MaxPoolin  (None, 334, 32)           0         \n",
      " g1D)                                                            \n",
      "                                                                 \n",
      " lstm_9 (LSTM)               (None, 334, 45)           14040     \n",
      "                                                                 \n",
      " dropout_9 (Dropout)         (None, 334, 45)           0         \n",
      "                                                                 \n",
      " lstm_10 (LSTM)              (None, 334, 32)           9984      \n",
      "                                                                 \n",
      " dropout_10 (Dropout)        (None, 334, 32)           0         \n",
      "                                                                 \n",
      " lstm_11 (LSTM)              (None, 32)                8320      \n",
      "                                                                 \n",
      " dropout_11 (Dropout)        (None, 32)                0         \n",
      "                                                                 \n",
      " dense_3 (Dense)             (None, 96)                3168      \n",
      "                                                                 \n",
      "=================================================================\n",
      "Total params: 35704 (139.47 KB)\n",
      "Trainable params: 35704 (139.47 KB)\n",
      "Non-trainable params: 0 (0.00 Byte)\n",
      "_________________________________________________________________\n",
      "None\n"
     ]
    }
   ],
   "source": [
    "with tf.device('/cpu:0'):\n",
    "    simple_LSTM = get_simple_LSTM_model()\n",
    "    print(simple_LSTM.summary())"
   ]
  },
  {
   "cell_type": "code",
   "execution_count": 141,
   "metadata": {},
   "outputs": [
    {
     "name": "stdout",
     "output_type": "stream",
     "text": [
      "Epoch 1/50\n",
      "Epoch 2/50\n",
      "Epoch 3/50\n",
      "Epoch 4/50\n",
      "Epoch 5/50\n",
      "Epoch 6/50\n",
      "Epoch 7/50\n",
      "Epoch 8/50\n",
      "Epoch 9/50\n",
      "Epoch 10/50\n",
      "Epoch 11/50\n",
      "Epoch 12/50\n",
      "Epoch 13/50\n",
      "Epoch 14/50\n",
      "Epoch 15/50\n",
      "Epoch 16/50\n",
      "Epoch 17/50\n",
      "Epoch 18/50\n",
      "Epoch 19/50\n",
      "Epoch 20/50\n",
      "Epoch 21/50\n",
      "Epoch 22/50\n",
      "Epoch 23/50\n",
      "Epoch 24/50\n",
      "Epoch 25/50\n",
      "Restoring model weights from the end of the best epoch: 20.\n",
      "Epoch 25: early stopping\n"
     ]
    }
   ],
   "source": [
    "with tf.device('/cpu:0'):\n",
    "    history = simple_LSTM.fit(X,\n",
    "                        y,\n",
    "                        batch_size= BATCH_SIZE,\n",
    "                        validation_data= (X_val, y_val),   ##### probably best to make validation data D #! TO DO \n",
    "                        verbose=10,\n",
    "                        steps_per_epoch=STEPS_PER_EPOCH,\n",
    "                        epochs=EPOCHS,\n",
    "                        shuffle = False, \n",
    "                        callbacks=[cp_callback, cp_early_stop]) # try without early stopping to see if there is something wrong cp_early_stop #!patience=5 helps to aviod getting stuck in local minima "
   ]
  },
  {
   "cell_type": "code",
   "execution_count": 142,
   "metadata": {},
   "outputs": [
    {
     "ename": "NameError",
     "evalue": "name 'STOP' is not defined",
     "output_type": "error",
     "traceback": [
      "\u001b[0;31m---------------------------------------------------------------------------\u001b[0m",
      "\u001b[0;31mNameError\u001b[0m                                 Traceback (most recent call last)",
      "Cell \u001b[0;32mIn[142], line 3\u001b[0m\n\u001b[1;32m      1\u001b[0m \u001b[39m#with tf.device('/cpu:0'):\u001b[39;00m\n\u001b[1;32m      2\u001b[0m \u001b[39m#    simple_LSTM_reloaded = tf.keras.models.load_model('saved_model/simple_LSTM')\u001b[39;00m\n\u001b[0;32m----> 3\u001b[0m STOP\n\u001b[1;32m      4\u001b[0m \u001b[39m# Check its architecture\u001b[39;00m\n\u001b[1;32m      5\u001b[0m \u001b[39m#simple_LSTM_reloaded.summary()\u001b[39;00m\n",
      "\u001b[0;31mNameError\u001b[0m: name 'STOP' is not defined"
     ]
    }
   ],
   "source": [
    "#with tf.device('/cpu:0'):\n",
    "#    simple_LSTM_reloaded = tf.keras.models.load_model('saved_model/simple_LSTM')\n",
    "STOP\n",
    "# Check its architecture\n",
    "#simple_LSTM_reloaded.summary()"
   ]
  },
  {
   "cell_type": "code",
   "execution_count": null,
   "metadata": {},
   "outputs": [],
   "source": [
    "#Save the entire small model as a SavedModel.\n",
    "#!mkdir -p ../models/saved_model\n",
    "#simple_LSTM.save('../models/saved_model/simple_LSTM_good')"
   ]
  },
  {
   "cell_type": "code",
   "execution_count": 143,
   "metadata": {},
   "outputs": [
    {
     "data": {
      "text/plain": [
       "{'loss': [0.9554442763328552,\n",
       "  0.6207205057144165,\n",
       "  0.47797104716300964,\n",
       "  0.4155791699886322,\n",
       "  0.33012261986732483,\n",
       "  0.27696433663368225,\n",
       "  0.24129804968833923,\n",
       "  0.20694178342819214,\n",
       "  0.2024243324995041,\n",
       "  0.18725274503231049,\n",
       "  0.17308953404426575,\n",
       "  0.19446872174739838,\n",
       "  0.1690441519021988,\n",
       "  0.16628794372081757,\n",
       "  0.16225598752498627,\n",
       "  0.1624298095703125,\n",
       "  0.15630769729614258,\n",
       "  0.15629422664642334,\n",
       "  0.1567724049091339,\n",
       "  0.1506895273923874,\n",
       "  0.14795975387096405,\n",
       "  0.16143520176410675,\n",
       "  0.15260301530361176,\n",
       "  0.15222972631454468,\n",
       "  0.15652604401111603],\n",
       " 'mean_absolute_percentage_error': [119.69267272949219,\n",
       "  188.1375274658203,\n",
       "  233.9012908935547,\n",
       "  220.33255004882812,\n",
       "  209.99530029296875,\n",
       "  212.55577087402344,\n",
       "  212.76217651367188,\n",
       "  186.09339904785156,\n",
       "  170.78587341308594,\n",
       "  181.586181640625,\n",
       "  170.97195434570312,\n",
       "  181.78233337402344,\n",
       "  173.38406372070312,\n",
       "  165.94676208496094,\n",
       "  165.7751007080078,\n",
       "  177.8610382080078,\n",
       "  168.31854248046875,\n",
       "  174.79640197753906,\n",
       "  173.040771484375,\n",
       "  166.38552856445312,\n",
       "  165.45932006835938,\n",
       "  175.5733184814453,\n",
       "  166.73040771484375,\n",
       "  170.26197814941406,\n",
       "  172.3739776611328],\n",
       " 'val_loss': [0.605450451374054,\n",
       "  0.42332151532173157,\n",
       "  0.3661109209060669,\n",
       "  0.28664276003837585,\n",
       "  0.24050618708133698,\n",
       "  0.22328610718250275,\n",
       "  0.16611380875110626,\n",
       "  0.15880656242370605,\n",
       "  0.1398201882839203,\n",
       "  0.11508076637983322,\n",
       "  0.11042990535497665,\n",
       "  0.12431121617555618,\n",
       "  0.10013129562139511,\n",
       "  0.0978795662522316,\n",
       "  0.10250940918922424,\n",
       "  0.09448603540658951,\n",
       "  0.09198018908500671,\n",
       "  0.08973274379968643,\n",
       "  0.08956704288721085,\n",
       "  0.08758401870727539,\n",
       "  0.09219633787870407,\n",
       "  0.0935727059841156,\n",
       "  0.08886861801147461,\n",
       "  0.08952020108699799,\n",
       "  0.09134115278720856],\n",
       " 'val_mean_absolute_percentage_error': [174.85870361328125,\n",
       "  237.5637664794922,\n",
       "  243.00050354003906,\n",
       "  290.8893737792969,\n",
       "  344.1994934082031,\n",
       "  359.6924133300781,\n",
       "  226.9700927734375,\n",
       "  197.43392944335938,\n",
       "  239.1193084716797,\n",
       "  172.07412719726562,\n",
       "  198.58258056640625,\n",
       "  120.0223159790039,\n",
       "  174.08804321289062,\n",
       "  145.98728942871094,\n",
       "  157.20204162597656,\n",
       "  146.11585998535156,\n",
       "  165.57322692871094,\n",
       "  180.71591186523438,\n",
       "  172.1193084716797,\n",
       "  165.54327392578125,\n",
       "  197.71624755859375,\n",
       "  207.5962371826172,\n",
       "  169.5861053466797,\n",
       "  150.27490234375,\n",
       "  98.25792694091797]}"
      ]
     },
     "execution_count": 143,
     "metadata": {},
     "output_type": "execute_result"
    }
   ],
   "source": [
    "history.history"
   ]
  },
  {
   "cell_type": "code",
   "execution_count": null,
   "metadata": {},
   "outputs": [
    {
     "name": "stdout",
     "output_type": "stream",
     "text": [
      "3195/3195 [==============================] - 103s 32ms/step - loss: 0.1071 - mean_absolute_percentage_error: 111.1572\n"
     ]
    }
   ],
   "source": [
    "scores = simple_LSTM.evaluate(X, y)"
   ]
  },
  {
   "cell_type": "code",
   "execution_count": null,
   "metadata": {},
   "outputs": [
    {
     "name": "stdout",
     "output_type": "stream",
     "text": [
      "\n",
      "mean_absolute_percentage_error: 111.16%\n"
     ]
    }
   ],
   "source": [
    "print(\"\\n%s: %.2f%%\" % (simple_LSTM.metrics_names[1], scores[1]))"
   ]
  },
  {
   "cell_type": "code",
   "execution_count": 144,
   "metadata": {},
   "outputs": [
    {
     "name": "stdout",
     "output_type": "stream",
     "text": [
      "[[-0.6523228  -0.63978577 -0.65357035 ... -0.6497922  -0.66473603\n",
      "  -0.66672194]\n",
      " [-0.63802636 -0.6232557  -0.63961583 ... -0.6356775  -0.64848006\n",
      "  -0.6516876 ]\n",
      " [-0.62573946 -0.61052805 -0.6285246  ... -0.6226535  -0.6339941\n",
      "  -0.63806105]\n",
      " ...\n",
      " [-0.55609566 -0.55650437 -0.5509321  ... -0.5408409  -0.57819206\n",
      "  -0.55683106]\n",
      " [-0.55727655 -0.5530295  -0.5488323  ... -0.5468478  -0.5851385\n",
      "  -0.5659196 ]\n",
      " [-0.5551415  -0.5463371  -0.5423428  ... -0.5504939  -0.5880582\n",
      "  -0.56969965]]\n"
     ]
    }
   ],
   "source": [
    "\n",
    "#x_input = x_input.reshape((x_input.shape[0], x_input.shape[1], 1))\n",
    "y_pred = simple_LSTM.predict(X_test, verbose=0)\n",
    "print(y_pred)"
   ]
  },
  {
   "cell_type": "code",
   "execution_count": 192,
   "metadata": {},
   "outputs": [
    {
     "name": "stdout",
     "output_type": "stream",
     "text": [
      "Evaluate on test data\n",
      "14/14 [==============================] - 19s 1s/step - loss: 0.1040 - mean_absolute_percentage_error: 99.2835\n",
      "test loss, test MAPE: [0.10403409600257874, 99.2835464477539]\n"
     ]
    }
   ],
   "source": [
    "print(\"Evaluate on test data\")\n",
    "results = simple_LSTM.evaluate(X_test, y_test, batch_size=2600)\n",
    "print(\"test loss, test MAPE:\", results)"
   ]
  },
  {
   "cell_type": "code",
   "execution_count": null,
   "metadata": {},
   "outputs": [],
   "source": [
    "#simple_LSTM.save('../models/saved_model/simple_LSTM_70error')"
   ]
  },
  {
   "attachments": {},
   "cell_type": "markdown",
   "metadata": {},
   "source": [
    "Lets now make a new timeseries from out predicted values so we can plot them nicely"
   ]
  },
  {
   "cell_type": "code",
   "execution_count": 145,
   "metadata": {},
   "outputs": [],
   "source": [
    "def make_plotting_table(y_test, y_pred, Y_test_index):\n",
    "    inversed_y_test = scaler.inverse_transform(y_test)\n",
    "    inversed_y_pred = scaler.inverse_transform(y_pred)\n",
    "    inversed_y_test = pd.DataFrame(inversed_y_test[:1, :].T, columns=['true'])\n",
    "    Date = pd.DataFrame(Y_test_index[:1, :].T, columns=['Date'])\n",
    "    inversed_y_pred = pd.DataFrame(inversed_y_pred[:1, :].T, columns=['predicted'])\n",
    "    df_date = Date\n",
    "    df_3 = pd.concat([df_date, inversed_y_test], axis=1)\n",
    "    df_plotting = pd.concat([df_3, inversed_y_pred] ,axis=1)\n",
    "    df_melted = df_plotting.melt(id_vars = 'Date', value_vars=['predicted', 'true'], var_name = 'Variable', value_name = \"Value\")\n",
    "    df_melted[\"Date\"] = pd.to_datetime(df_melted['Date'])\n",
    "    return df_melted"
   ]
  },
  {
   "cell_type": "code",
   "execution_count": 174,
   "metadata": {},
   "outputs": [],
   "source": [
    "df_plotting = make_plotting_table(y_test, y_pred, Y_test_index)"
   ]
  },
  {
   "cell_type": "code",
   "execution_count": 177,
   "metadata": {},
   "outputs": [],
   "source": [
    "df_plotting['hour']= pd.to_datetime(df_plotting['Date']).dt.time"
   ]
  },
  {
   "cell_type": "code",
   "execution_count": 184,
   "metadata": {},
   "outputs": [
    {
     "data": {
      "image/png": "[encoded data removed]",
      "text/plain": [
       "<Figure size 640x480 with 1 Axes>"
      ]
     },
     "metadata": {},
     "output_type": "display_data"
    }
   ],
   "source": [
    "sns.lineplot(data=df_plotting, x ='Date' , y = 'Value', hue = 'Variable')\n",
    "plt.xticks(rotation=45)\n",
    "plt.ylabel('Photovoltaic output [MWh]')\n",
    "plt.show()"
   ]
  },
  {
   "attachments": {},
   "cell_type": "markdown",
   "metadata": {},
   "source": [
    "The results are getting better. The daily seasonality is taken care of the main problem seems to be the summer winter seasonality. This could be tackled by using the weather data and/ or including the lag feature or weekday-month feature"
   ]
  },
  {
   "attachments": {},
   "cell_type": "markdown",
   "metadata": {},
   "source": [
    "### Let's now create a proper output table which can then be used for the Optimisation ###\n",
    "Now we will transform out output back into the same units as before and add them to a dataframe. "
   ]
  },
  {
   "cell_type": "code",
   "execution_count": 185,
   "metadata": {},
   "outputs": [],
   "source": [
    "def reverse_and_frame(X, y, X_test_index):\n",
    "    ''' The input are both our arrays X_test and the predicted y and the date index of the original X_test array.\n",
    "    Arguments: X = the original X_test set \n",
    "             y = the predicted y set\n",
    "             X_test = the original index of X_test\n",
    "\n",
    "    Returns: a dataframe containing the date of the prediction (last day of X_test input)\n",
    "            the original X-test set \n",
    "            the predicted values for y destandardized\n",
    "\n",
    "\n",
    "     1st. Inverse transfrom the arrays to the original dimensions needed by the optimizer \n",
    "     2nd. Create a dataframe for both x_test and y_pred \n",
    "     3rd. Merge all the columns representing the timesteps into a single array in one column \n",
    "     4th. Create an empty dataframe and add the last date of X_test_index as the timepoint from which the prediction started\n",
    "     5th  Concatenate the two dataframes into one \n",
    "    '''\n",
    "    #1\n",
    "    inversed_y_pred = scaler.inverse_transform(y)\n",
    "    inversed_X_test = scaler.inverse_transform(X.reshape(X.shape[0], X.shape[1]))\n",
    "\n",
    "    #2\n",
    "    X_test = pd.DataFrame(inversed_X_test)\n",
    "    y_pred = pd.DataFrame(inversed_y_pred)\n",
    "\n",
    "    #3\n",
    "    X_test['input_array'] = X_test.apply(lambda row: np.array(row), axis=1)\n",
    "    y_pred['output_array'] = y_pred.apply(lambda row: np.array(row), axis=1)\n",
    "\n",
    "    #4\n",
    "    df_final = pd.DataFrame()\n",
    "    df_final[\"Date\"]= X_test_index[:, -1]\n",
    "\n",
    "    #5\n",
    "    df_final['output'] = y_pred['output_array']\n",
    "    df_final['input'] = X_test['input_array']\n",
    "    return df_final"
   ]
  },
  {
   "cell_type": "code",
   "execution_count": 186,
   "metadata": {},
   "outputs": [],
   "source": [
    "solar_predictions= reverse_and_frame(X_test, y_pred, X_test_index)"
   ]
  },
  {
   "attachments": {},
   "cell_type": "markdown",
   "metadata": {},
   "source": [
    "### include the date and time column back to the output dataframe ###"
   ]
  },
  {
   "cell_type": "code",
   "execution_count": 187,
   "metadata": {},
   "outputs": [
    {
     "data": {
      "text/html": [
       "<div>\n",
       "<style scoped>\n",
       "    .dataframe tbody tr th:only-of-type {\n",
       "        vertical-align: middle;\n",
       "    }\n",
       "\n",
       "    .dataframe tbody tr th {\n",
       "        vertical-align: top;\n",
       "    }\n",
       "\n",
       "    .dataframe thead th {\n",
       "        text-align: right;\n",
       "    }\n",
       "</style>\n",
       "<table border=\"1\" class=\"dataframe\">\n",
       "  <thead>\n",
       "    <tr style=\"text-align: right;\">\n",
       "      <th></th>\n",
       "      <th>Date</th>\n",
       "      <th>output</th>\n",
       "      <th>input</th>\n",
       "    </tr>\n",
       "  </thead>\n",
       "  <tbody>\n",
       "    <tr>\n",
       "      <th>0</th>\n",
       "      <td>2022-06-07 23:45:00</td>\n",
       "      <td>[-34.365818, -3.4939919, -37.43784, -44.094578...</td>\n",
       "      <td>[0.0, 0.0, 0.0, 0.0, 0.0, 0.0, 0.0, 0.0, 0.0, ...</td>\n",
       "    </tr>\n",
       "    <tr>\n",
       "      <th>1</th>\n",
       "      <td>2022-06-08 00:00:00</td>\n",
       "      <td>[0.8384055, 37.21023, -3.0755348, -10.384129, ...</td>\n",
       "      <td>[0.0, 0.0, 0.0, 0.0, 0.0, 0.0, 0.0, 0.0, 0.0, ...</td>\n",
       "    </tr>\n",
       "    <tr>\n",
       "      <th>2</th>\n",
       "      <td>2022-06-08 00:15:00</td>\n",
       "      <td>[31.094265, 68.551414, 24.235989, 17.597195, 2...</td>\n",
       "      <td>[0.0, 0.0, 0.0, 0.0, 0.0, 0.0, 0.0, 0.0, 0.0, ...</td>\n",
       "    </tr>\n",
       "    <tr>\n",
       "      <th>3</th>\n",
       "      <td>2022-06-08 00:30:00</td>\n",
       "      <td>[49.1896, 81.6072, 34.844387, 31.252102, 27.43...</td>\n",
       "      <td>[0.0, 0.0, 0.0, 0.0, 0.0, 0.0, 0.0, 0.0, 0.0, ...</td>\n",
       "    </tr>\n",
       "    <tr>\n",
       "      <th>4</th>\n",
       "      <td>2022-06-08 00:45:00</td>\n",
       "      <td>[50.31155, 72.22805, 24.090237, 25.812527, 15....</td>\n",
       "      <td>[0.0, 0.0, 0.0, 0.0, 0.0, 0.0, 0.0, 0.0, 0.0, ...</td>\n",
       "    </tr>\n",
       "    <tr>\n",
       "      <th>...</th>\n",
       "      <td>...</td>\n",
       "      <td>...</td>\n",
       "      <td>...</td>\n",
       "    </tr>\n",
       "    <tr>\n",
       "      <th>34363</th>\n",
       "      <td>2023-05-31 22:30:00</td>\n",
       "      <td>[199.38834, 172.90335, 196.73026, 205.83707, 1...</td>\n",
       "      <td>[0.0, 0.0, 0.0, 0.0, 0.0, 0.0, 0.0, 0.0, 0.0, ...</td>\n",
       "    </tr>\n",
       "    <tr>\n",
       "      <th>34364</th>\n",
       "      <td>2023-05-31 22:45:00</td>\n",
       "      <td>[203.53067, 190.33963, 209.444, 219.77213, 213...</td>\n",
       "      <td>[0.0, 0.0, 0.0, 0.0, 0.0, 0.0, 0.0, 0.0, 0.0, ...</td>\n",
       "    </tr>\n",
       "    <tr>\n",
       "      <th>34365</th>\n",
       "      <td>2023-05-31 23:00:00</td>\n",
       "      <td>[202.58804, 201.5817, 215.30301, 225.01126, 23...</td>\n",
       "      <td>[0.0, 0.0, 0.0, 0.0, 0.0, 0.0, 0.0, 0.0, 0.0, ...</td>\n",
       "    </tr>\n",
       "    <tr>\n",
       "      <th>34366</th>\n",
       "      <td>2023-05-31 23:15:00</td>\n",
       "      <td>[199.6802, 210.13846, 220.47366, 230.7786, 254...</td>\n",
       "      <td>[0.0, 0.0, 0.0, 0.0, 0.0, 0.0, 0.0, 0.0, 0.0, ...</td>\n",
       "    </tr>\n",
       "    <tr>\n",
       "      <th>34367</th>\n",
       "      <td>2023-05-31 23:30:00</td>\n",
       "      <td>[204.93765, 226.61795, 236.45377, 249.54178, 2...</td>\n",
       "      <td>[0.0, 0.0, 0.0, 0.0, 0.0, 0.0, 0.0, 0.0, 0.0, ...</td>\n",
       "    </tr>\n",
       "  </tbody>\n",
       "</table>\n",
       "<p>34368 rows × 3 columns</p>\n",
       "</div>"
      ],
      "text/plain": [
       "                     Date                                             output   \n",
       "0     2022-06-07 23:45:00  [-34.365818, -3.4939919, -37.43784, -44.094578...  \\\n",
       "1     2022-06-08 00:00:00  [0.8384055, 37.21023, -3.0755348, -10.384129, ...   \n",
       "2     2022-06-08 00:15:00  [31.094265, 68.551414, 24.235989, 17.597195, 2...   \n",
       "3     2022-06-08 00:30:00  [49.1896, 81.6072, 34.844387, 31.252102, 27.43...   \n",
       "4     2022-06-08 00:45:00  [50.31155, 72.22805, 24.090237, 25.812527, 15....   \n",
       "...                   ...                                                ...   \n",
       "34363 2023-05-31 22:30:00  [199.38834, 172.90335, 196.73026, 205.83707, 1...   \n",
       "34364 2023-05-31 22:45:00  [203.53067, 190.33963, 209.444, 219.77213, 213...   \n",
       "34365 2023-05-31 23:00:00  [202.58804, 201.5817, 215.30301, 225.01126, 23...   \n",
       "34366 2023-05-31 23:15:00  [199.6802, 210.13846, 220.47366, 230.7786, 254...   \n",
       "34367 2023-05-31 23:30:00  [204.93765, 226.61795, 236.45377, 249.54178, 2...   \n",
       "\n",
       "                                                   input  \n",
       "0      [0.0, 0.0, 0.0, 0.0, 0.0, 0.0, 0.0, 0.0, 0.0, ...  \n",
       "1      [0.0, 0.0, 0.0, 0.0, 0.0, 0.0, 0.0, 0.0, 0.0, ...  \n",
       "2      [0.0, 0.0, 0.0, 0.0, 0.0, 0.0, 0.0, 0.0, 0.0, ...  \n",
       "3      [0.0, 0.0, 0.0, 0.0, 0.0, 0.0, 0.0, 0.0, 0.0, ...  \n",
       "4      [0.0, 0.0, 0.0, 0.0, 0.0, 0.0, 0.0, 0.0, 0.0, ...  \n",
       "...                                                  ...  \n",
       "34363  [0.0, 0.0, 0.0, 0.0, 0.0, 0.0, 0.0, 0.0, 0.0, ...  \n",
       "34364  [0.0, 0.0, 0.0, 0.0, 0.0, 0.0, 0.0, 0.0, 0.0, ...  \n",
       "34365  [0.0, 0.0, 0.0, 0.0, 0.0, 0.0, 0.0, 0.0, 0.0, ...  \n",
       "34366  [0.0, 0.0, 0.0, 0.0, 0.0, 0.0, 0.0, 0.0, 0.0, ...  \n",
       "34367  [0.0, 0.0, 0.0, 0.0, 0.0, 0.0, 0.0, 0.0, 0.0, ...  \n",
       "\n",
       "[34368 rows x 3 columns]"
      ]
     },
     "execution_count": 187,
     "metadata": {},
     "output_type": "execute_result"
    }
   ],
   "source": [
    "solar_predictions"
   ]
  },
  {
   "cell_type": "code",
   "execution_count": 188,
   "metadata": {},
   "outputs": [],
   "source": [
    "df_solar_predictions = solar_predictions[['Date', 'output']].copy()"
   ]
  },
  {
   "cell_type": "code",
   "execution_count": 189,
   "metadata": {},
   "outputs": [],
   "source": [
    "df_solar_predictions.to_pickle(\"../predictions/solar_predictions.pkl\")"
   ]
  },
  {
   "cell_type": "code",
   "execution_count": 190,
   "metadata": {},
   "outputs": [
    {
     "name": "stdout",
     "output_type": "stream",
     "text": [
      "INFO:tensorflow:Assets written to: ../models/saved_model/complex_univariate_LSTM/assets\n"
     ]
    },
    {
     "name": "stderr",
     "output_type": "stream",
     "text": [
      "INFO:tensorflow:Assets written to: ../models/saved_model/complex_univariate_LSTM/assets\n"
     ]
    }
   ],
   "source": [
    "# Save the entire small model as a SavedModel.\n",
    "#!mkdir -p ../models/saved_model\n",
    "simple_LSTM.save('../models/saved_model/complex_univariate_LSTM')"
   ]
  },
  {
   "attachments": {},
   "cell_type": "markdown",
   "metadata": {},
   "source": [
    "### Short summary ###\n",
    "univariate model is getting better, the overall MSE is now around 10 % which is ok."
   ]
  },
  {
   "cell_type": "markdown",
   "metadata": {},
   "source": [
    "## Let's compare the results to the baseline model \n"
   ]
  },
  {
   "cell_type": "code",
   "execution_count": 218,
   "metadata": {},
   "outputs": [],
   "source": [
    "import numpy as np\n",
    "import pandas as pd\n",
    "from typing import Optional\n",
    "\n",
    "class MeanBaseline:\n",
    "    def __init__(self) -> None:\n",
    "        self.mean = None\n",
    "\n",
    "    def fit(self, dataframe: pd.DataFrame, window: Optional[int] = None) -> None:\n",
    "        \"\"\"\n",
    "        Fit the MeanBaseline model to the input DataFrame.\n",
    "\n",
    "        Args:\n",
    "            dataframe (pd.DataFrame): The input DataFrame.\n",
    "            window (int, optional): The size of the rolling window. If not provided, the window size is set to the\n",
    "                                    number of rows in the DataFrame.\n",
    "\n",
    "        Returns:\n",
    "            None\n",
    "        \"\"\"\n",
    "        if window is None:\n",
    "            window = dataframe.shape[0]\n",
    "\n",
    "        self.mean = dataframe.rolling(window).mean()\n",
    "\n",
    "    def predict(self, length: int) -> pd.DataFrame:\n",
    "        \"\"\"\n",
    "        Generate predictions using the MeanBaseline model.\n",
    "\n",
    "        Args:\n",
    "            length (int): The number of predictions to generate.\n",
    "\n",
    "        Returns:\n",
    "            pd.DataFrame: The predicted values.\n",
    "        \"\"\"\n",
    "        array = np.ones(shape=(length, self.mean.shape[1]))\n",
    "        result = array * np.array(self.mean.iloc[-1, :])\n",
    "        result = pd.DataFrame(result)\n",
    "        return result\n"
   ]
  },
  {
   "cell_type": "code",
   "execution_count": null,
   "metadata": {},
   "outputs": [],
   "source": [
    "We compare the same date therfore we will only the the first entry of X_test "
   ]
  },
  {
   "cell_type": "code",
   "execution_count": null,
   "metadata": {},
   "outputs": [],
   "source": [
    "def baseline_df(X_test, X_test_index):\n",
    "    X_trial_1 = scaler.inverse_transform(X_test.reshape(X_test.shape[0], X_test.shape[1]))\n",
    "    x_test_df = pd.DataFrame(X_trial_1[:1,:].T, columns=['pv_norm'])\n",
    "    X_index_df = pd.DataFrame(X_test_index[:1,:].T, columns=['Date'])\n"
   ]
  },
  {
   "cell_type": "code",
   "execution_count": 366,
   "metadata": {},
   "outputs": [],
   "source": [
    "X_trial_1 = scaler.inverse_transform(X_test.reshape(X_test.shape[0], X_test.shape[1]))\n",
    "x_test_df = pd.DataFrame(X_trial_1[:1,:].T, columns=['pv_norm'])\n",
    "X_index_df = pd.DataFrame(X_test_index[:1,:].T, columns=['Date'])"
   ]
  },
  {
   "cell_type": "code",
   "execution_count": 367,
   "metadata": {},
   "outputs": [],
   "source": [
    "X_index_df['Date'] = pd.to_datetime(X_index_df['Date'])"
   ]
  },
  {
   "cell_type": "code",
   "execution_count": 368,
   "metadata": {},
   "outputs": [],
   "source": [
    "intermediate  = pd.concat([X_index_df, x_test_df], axis = 1)"
   ]
  },
  {
   "cell_type": "code",
   "execution_count": 369,
   "metadata": {},
   "outputs": [],
   "source": [
    "baseline_model = MeanBaseline()\n",
    "baseline_model.fit(intermediate[['pv_norm']], window=24*4)\n",
    "df_predictions = pd.DataFrame(baseline_model.predict(24*4))\n",
    "df_predictions.columns = ['pred_pv_norm']\n",
    "df_new = pd.concat([intermediate.reset_index(drop=True),df_predictions],ignore_index=True)"
   ]
  },
  {
   "cell_type": "code",
   "execution_count": 371,
   "metadata": {},
   "outputs": [],
   "source": [
    "while df_new.isnull().sum()[0] > 0:\n",
    "    df_new['Date'] = df_new['Date'].fillna(df_new['Date'].shift() + pd.Timedelta(minutes=15))"
   ]
  },
  {
   "cell_type": "code",
   "execution_count": 372,
   "metadata": {},
   "outputs": [
    {
     "data": {
      "text/html": [
       "<div>\n",
       "<style scoped>\n",
       "    .dataframe tbody tr th:only-of-type {\n",
       "        vertical-align: middle;\n",
       "    }\n",
       "\n",
       "    .dataframe tbody tr th {\n",
       "        vertical-align: top;\n",
       "    }\n",
       "\n",
       "    .dataframe thead th {\n",
       "        text-align: right;\n",
       "    }\n",
       "</style>\n",
       "<table border=\"1\" class=\"dataframe\">\n",
       "  <thead>\n",
       "    <tr style=\"text-align: right;\">\n",
       "      <th></th>\n",
       "      <th>Date</th>\n",
       "      <th>pv_norm</th>\n",
       "      <th>pred_pv_norm</th>\n",
       "    </tr>\n",
       "  </thead>\n",
       "  <tbody>\n",
       "    <tr>\n",
       "      <th>0</th>\n",
       "      <td>2022-06-01 00:00:00</td>\n",
       "      <td>0.0</td>\n",
       "      <td>NaN</td>\n",
       "    </tr>\n",
       "    <tr>\n",
       "      <th>1</th>\n",
       "      <td>2022-06-01 00:15:00</td>\n",
       "      <td>0.0</td>\n",
       "      <td>NaN</td>\n",
       "    </tr>\n",
       "    <tr>\n",
       "      <th>2</th>\n",
       "      <td>2022-06-01 00:30:00</td>\n",
       "      <td>0.0</td>\n",
       "      <td>NaN</td>\n",
       "    </tr>\n",
       "    <tr>\n",
       "      <th>3</th>\n",
       "      <td>2022-06-01 00:45:00</td>\n",
       "      <td>0.0</td>\n",
       "      <td>NaN</td>\n",
       "    </tr>\n",
       "    <tr>\n",
       "      <th>4</th>\n",
       "      <td>2022-06-01 01:00:00</td>\n",
       "      <td>0.0</td>\n",
       "      <td>NaN</td>\n",
       "    </tr>\n",
       "    <tr>\n",
       "      <th>...</th>\n",
       "      <td>...</td>\n",
       "      <td>...</td>\n",
       "      <td>...</td>\n",
       "    </tr>\n",
       "    <tr>\n",
       "      <th>763</th>\n",
       "      <td>2022-06-08 22:45:00</td>\n",
       "      <td>NaN</td>\n",
       "      <td>2248.520916</td>\n",
       "    </tr>\n",
       "    <tr>\n",
       "      <th>764</th>\n",
       "      <td>2022-06-08 23:00:00</td>\n",
       "      <td>NaN</td>\n",
       "      <td>2248.520916</td>\n",
       "    </tr>\n",
       "    <tr>\n",
       "      <th>765</th>\n",
       "      <td>2022-06-08 23:15:00</td>\n",
       "      <td>NaN</td>\n",
       "      <td>2248.520916</td>\n",
       "    </tr>\n",
       "    <tr>\n",
       "      <th>766</th>\n",
       "      <td>2022-06-08 23:30:00</td>\n",
       "      <td>NaN</td>\n",
       "      <td>2248.520916</td>\n",
       "    </tr>\n",
       "    <tr>\n",
       "      <th>767</th>\n",
       "      <td>2022-06-08 23:45:00</td>\n",
       "      <td>NaN</td>\n",
       "      <td>2248.520916</td>\n",
       "    </tr>\n",
       "  </tbody>\n",
       "</table>\n",
       "<p>768 rows × 3 columns</p>\n",
       "</div>"
      ],
      "text/plain": [
       "                   Date  pv_norm  pred_pv_norm\n",
       "0   2022-06-01 00:00:00      0.0           NaN\n",
       "1   2022-06-01 00:15:00      0.0           NaN\n",
       "2   2022-06-01 00:30:00      0.0           NaN\n",
       "3   2022-06-01 00:45:00      0.0           NaN\n",
       "4   2022-06-01 01:00:00      0.0           NaN\n",
       "..                  ...      ...           ...\n",
       "763 2022-06-08 22:45:00      NaN   2248.520916\n",
       "764 2022-06-08 23:00:00      NaN   2248.520916\n",
       "765 2022-06-08 23:15:00      NaN   2248.520916\n",
       "766 2022-06-08 23:30:00      NaN   2248.520916\n",
       "767 2022-06-08 23:45:00      NaN   2248.520916\n",
       "\n",
       "[768 rows x 3 columns]"
      ]
     },
     "execution_count": 372,
     "metadata": {},
     "output_type": "execute_result"
    }
   ],
   "source": [
    "df_new"
   ]
  },
  {
   "cell_type": "code",
   "execution_count": 377,
   "metadata": {},
   "outputs": [],
   "source": [
    "#y_test_transf = scaler.inverse_transform(y_test)\n",
    "#y_test_df = pd.DataFrame(y_test_transf[:1, : ].T, columns=['y_true'])\n",
    "y_df = pd.concat([pd.DataFrame(Y_test_index[:1,:].T , columns=['date']), y_test_df], axis=1)\n",
    "#df_new = pd.concat([df_new, ])"
   ]
  },
  {
   "cell_type": "code",
   "execution_count": 378,
   "metadata": {},
   "outputs": [
    {
     "data": {
      "text/html": [
       "<div>\n",
       "<style scoped>\n",
       "    .dataframe tbody tr th:only-of-type {\n",
       "        vertical-align: middle;\n",
       "    }\n",
       "\n",
       "    .dataframe tbody tr th {\n",
       "        vertical-align: top;\n",
       "    }\n",
       "\n",
       "    .dataframe thead th {\n",
       "        text-align: right;\n",
       "    }\n",
       "</style>\n",
       "<table border=\"1\" class=\"dataframe\">\n",
       "  <thead>\n",
       "    <tr style=\"text-align: right;\">\n",
       "      <th></th>\n",
       "      <th>date</th>\n",
       "      <th>y_true</th>\n",
       "    </tr>\n",
       "  </thead>\n",
       "  <tbody>\n",
       "    <tr>\n",
       "      <th>0</th>\n",
       "      <td>2022-06-08 00:00:00</td>\n",
       "      <td>0.0</td>\n",
       "    </tr>\n",
       "    <tr>\n",
       "      <th>1</th>\n",
       "      <td>2022-06-08 00:15:00</td>\n",
       "      <td>0.0</td>\n",
       "    </tr>\n",
       "    <tr>\n",
       "      <th>2</th>\n",
       "      <td>2022-06-08 00:30:00</td>\n",
       "      <td>0.0</td>\n",
       "    </tr>\n",
       "    <tr>\n",
       "      <th>3</th>\n",
       "      <td>2022-06-08 00:45:00</td>\n",
       "      <td>0.0</td>\n",
       "    </tr>\n",
       "    <tr>\n",
       "      <th>4</th>\n",
       "      <td>2022-06-08 01:00:00</td>\n",
       "      <td>0.0</td>\n",
       "    </tr>\n",
       "    <tr>\n",
       "      <th>...</th>\n",
       "      <td>...</td>\n",
       "      <td>...</td>\n",
       "    </tr>\n",
       "    <tr>\n",
       "      <th>91</th>\n",
       "      <td>2022-06-08 22:45:00</td>\n",
       "      <td>0.0</td>\n",
       "    </tr>\n",
       "    <tr>\n",
       "      <th>92</th>\n",
       "      <td>2022-06-08 23:00:00</td>\n",
       "      <td>0.0</td>\n",
       "    </tr>\n",
       "    <tr>\n",
       "      <th>93</th>\n",
       "      <td>2022-06-08 23:15:00</td>\n",
       "      <td>0.0</td>\n",
       "    </tr>\n",
       "    <tr>\n",
       "      <th>94</th>\n",
       "      <td>2022-06-08 23:30:00</td>\n",
       "      <td>0.0</td>\n",
       "    </tr>\n",
       "    <tr>\n",
       "      <th>95</th>\n",
       "      <td>2022-06-08 23:45:00</td>\n",
       "      <td>0.0</td>\n",
       "    </tr>\n",
       "  </tbody>\n",
       "</table>\n",
       "<p>96 rows × 2 columns</p>\n",
       "</div>"
      ],
      "text/plain": [
       "                  date  y_true\n",
       "0  2022-06-08 00:00:00     0.0\n",
       "1  2022-06-08 00:15:00     0.0\n",
       "2  2022-06-08 00:30:00     0.0\n",
       "3  2022-06-08 00:45:00     0.0\n",
       "4  2022-06-08 01:00:00     0.0\n",
       "..                 ...     ...\n",
       "91 2022-06-08 22:45:00     0.0\n",
       "92 2022-06-08 23:00:00     0.0\n",
       "93 2022-06-08 23:15:00     0.0\n",
       "94 2022-06-08 23:30:00     0.0\n",
       "95 2022-06-08 23:45:00     0.0\n",
       "\n",
       "[96 rows x 2 columns]"
      ]
     },
     "execution_count": 378,
     "metadata": {},
     "output_type": "execute_result"
    }
   ],
   "source": [
    "y_df"
   ]
  },
  {
   "cell_type": "code",
   "execution_count": 397,
   "metadata": {},
   "outputs": [],
   "source": [
    "from sklearn.metrics import mean_squared_error, mean_absolute_percentage_error\n",
    "import math"
   ]
  },
  {
   "cell_type": "code",
   "execution_count": 399,
   "metadata": {},
   "outputs": [],
   "source": [
    "mse_baseline = mean_squared_error(y_df['y_true'], df_predictions['pred_pv_norm'])\n",
    "mape_baseline = mean_absolute_percentage_error(y_df['y_true'], df_predictions['pred_pv_norm'])"
   ]
  },
  {
   "cell_type": "code",
   "execution_count": 396,
   "metadata": {},
   "outputs": [
    {
     "data": {
      "text/plain": [
       "7942213.673574954"
      ]
     },
     "execution_count": 396,
     "metadata": {},
     "output_type": "execute_result"
    }
   ],
   "source": [
    "mse_baseline"
   ]
  },
  {
   "cell_type": "code",
   "execution_count": 386,
   "metadata": {},
   "outputs": [],
   "source": [
    "inversed_y_pred = scaler.inverse_transform(y_pred)\n",
    "inversed_y_pred = pd.DataFrame(inversed_y_pred[:1, :].T, columns=['predicted'])"
   ]
  },
  {
   "cell_type": "code",
   "execution_count": 387,
   "metadata": {},
   "outputs": [
    {
     "data": {
      "text/html": [
       "<div>\n",
       "<style scoped>\n",
       "    .dataframe tbody tr th:only-of-type {\n",
       "        vertical-align: middle;\n",
       "    }\n",
       "\n",
       "    .dataframe tbody tr th {\n",
       "        vertical-align: top;\n",
       "    }\n",
       "\n",
       "    .dataframe thead th {\n",
       "        text-align: right;\n",
       "    }\n",
       "</style>\n",
       "<table border=\"1\" class=\"dataframe\">\n",
       "  <thead>\n",
       "    <tr style=\"text-align: right;\">\n",
       "      <th></th>\n",
       "      <th>predicted</th>\n",
       "    </tr>\n",
       "  </thead>\n",
       "  <tbody>\n",
       "    <tr>\n",
       "      <th>0</th>\n",
       "      <td>-34.365818</td>\n",
       "    </tr>\n",
       "    <tr>\n",
       "      <th>1</th>\n",
       "      <td>-3.493992</td>\n",
       "    </tr>\n",
       "    <tr>\n",
       "      <th>2</th>\n",
       "      <td>-37.437840</td>\n",
       "    </tr>\n",
       "    <tr>\n",
       "      <th>3</th>\n",
       "      <td>-44.094578</td>\n",
       "    </tr>\n",
       "    <tr>\n",
       "      <th>4</th>\n",
       "      <td>-8.071384</td>\n",
       "    </tr>\n",
       "    <tr>\n",
       "      <th>...</th>\n",
       "      <td>...</td>\n",
       "    </tr>\n",
       "    <tr>\n",
       "      <th>91</th>\n",
       "      <td>-83.349342</td>\n",
       "    </tr>\n",
       "    <tr>\n",
       "      <th>92</th>\n",
       "      <td>-66.222389</td>\n",
       "    </tr>\n",
       "    <tr>\n",
       "      <th>93</th>\n",
       "      <td>-28.134251</td>\n",
       "    </tr>\n",
       "    <tr>\n",
       "      <th>94</th>\n",
       "      <td>-64.932594</td>\n",
       "    </tr>\n",
       "    <tr>\n",
       "      <th>95</th>\n",
       "      <td>-69.822853</td>\n",
       "    </tr>\n",
       "  </tbody>\n",
       "</table>\n",
       "<p>96 rows × 1 columns</p>\n",
       "</div>"
      ],
      "text/plain": [
       "    predicted\n",
       "0  -34.365818\n",
       "1   -3.493992\n",
       "2  -37.437840\n",
       "3  -44.094578\n",
       "4   -8.071384\n",
       "..        ...\n",
       "91 -83.349342\n",
       "92 -66.222389\n",
       "93 -28.134251\n",
       "94 -64.932594\n",
       "95 -69.822853\n",
       "\n",
       "[96 rows x 1 columns]"
      ]
     },
     "execution_count": 387,
     "metadata": {},
     "output_type": "execute_result"
    }
   ],
   "source": [
    "inversed_y_pred"
   ]
  },
  {
   "cell_type": "code",
   "execution_count": 400,
   "metadata": {},
   "outputs": [],
   "source": [
    "mse_model = mean_squared_error(y_df['y_true'], inversed_y_pred['predicted'])\n",
    "mape_model = mean_absolute_percentage_error(y_df['y_true'], inversed_y_pred['predicted'])"
   ]
  },
  {
   "cell_type": "code",
   "execution_count": 395,
   "metadata": {},
   "outputs": [
    {
     "data": {
      "text/plain": [
       "772057.8704847861"
      ]
     },
     "execution_count": 395,
     "metadata": {},
     "output_type": "execute_result"
    }
   ],
   "source": [
    "mse_model"
   ]
  },
  {
   "cell_type": "code",
   "execution_count": 401,
   "metadata": {},
   "outputs": [
    {
     "data": {
      "text/plain": [
       "9.908407267456888e+16"
      ]
     },
     "execution_count": 401,
     "metadata": {},
     "output_type": "execute_result"
    }
   ],
   "source": [
    "mape_model"
   ]
  },
  {
   "cell_type": "code",
   "execution_count": 325,
   "metadata": {},
   "outputs": [],
   "source": [
    "df_new.set_index('Date',inplace=True, drop=True)"
   ]
  },
  {
   "cell_type": "code",
   "execution_count": 331,
   "metadata": {},
   "outputs": [
    {
     "data": {
      "image/png": "[encoded data removed]",
      "text/plain": [
       "<Figure size 640x480 with 1 Axes>"
      ]
     },
     "metadata": {},
     "output_type": "display_data"
    }
   ],
   "source": [
    "fig = plt.figure()\n",
    "ax = plt.subplot()\n",
    "plt.plot(df_new)\n",
    "plt.ylim(0,10000)\n",
    "#plt.xlim()\n",
    "plt.show()"
   ]
  }
 ],
 "metadata": {
  "kernelspec": {
   "display_name": ".venv",
   "language": "python",
   "name": "python3"
  },
  "language_info": {
   "codemirror_mode": {
    "name": "ipython",
    "version": 3
   },
   "file_extension": ".py",
   "mimetype": "text/x-python",
   "name": "python",
   "nbconvert_exporter": "python",
   "pygments_lexer": "ipython3",
   "version": "3.11.3"
  },
  "orig_nbformat": 4
 },
 "nbformat": 4,
 "nbformat_minor": 2
}
