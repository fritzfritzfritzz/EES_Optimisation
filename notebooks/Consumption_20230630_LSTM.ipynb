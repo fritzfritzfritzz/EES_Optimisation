{
 "cells": [
  {
   "attachments": {},
   "cell_type": "markdown",
   "metadata": {},
   "source": [
    "# Consumption Data using Long-Short-Term Memory model #\n",
    " https://www.tensorflow.org/api_docs/python/tf/keras/layers/LSTM\n"
   ]
  },
  {
   "cell_type": "code",
   "execution_count": 1,
   "metadata": {},
   "outputs": [],
   "source": [
    "import pandas as pd\n",
    "import numpy as np\n",
    "import os\n",
    "\n",
    "import plotly.express as px\n",
    "import plotly.graph_objects as go\n",
    "import matplotlib.pyplot as plt\n",
    "import seaborn as sns\n",
    "\n",
    "from itertools import permutations\n",
    "\n",
    "from sklearn.metrics import mean_squared_error\n",
    "from math import sqrt\n",
    "from statsmodels.tsa.stattools import adfuller,kpss\n",
    "from statsmodels.tsa.seasonal import seasonal_decompose\n",
    "from statsmodels.tsa.arima_model import ARIMA\n",
    "from statsmodels.graphics.tsaplots import plot_pacf\n",
    "\n",
    "import statsmodels.graphics.tsaplots as tsaplot\n",
    "from statsmodels.tsa.holtwinters import Holt, ExponentialSmoothing, SimpleExpSmoothing\n",
    "\n",
    "import tensorflow as tf\n",
    "\n",
    "from tensorflow import keras\n",
    "\n",
    "from tensorflow.keras.layers import *\n",
    "from tensorflow.keras import regularizers\n",
    "from tensorflow.keras.callbacks import ModelCheckpoint\n",
    "from tensorflow.keras.utils import plot_model\n",
    "from tensorflow.keras.losses import MeanSquaredError\n",
    "from tensorflow.keras.metrics import RootMeanSquaredError\n",
    "from tensorflow.keras.optimizers import Adam\n",
    "\n",
    "import keras \n",
    "from keras.models import Sequential # intitialize the ANN\n",
    "from keras.layers import Dense, Activation, Dropout, LSTM     # create layers\n",
    "\n",
    "\n",
    "np.random.seed(42)\n",
    "tf.random.set_seed(42)\n"
   ]
  },
  {
   "attachments": {},
   "cell_type": "markdown",
   "metadata": {},
   "source": [
    "We will start with the test train split \n",
    "in our case we can create several shorter sequences that we will use to train our model with \n"
   ]
  },
  {
   "cell_type": "code",
   "execution_count": 2,
   "metadata": {},
   "outputs": [],
   "source": [
    "df = pd.read_pickle(\"../data/final_dataframe.pkl\")"
   ]
  },
  {
   "cell_type": "code",
   "execution_count": 3,
   "metadata": {},
   "outputs": [],
   "source": [
    "def col_names(df):\n",
    "    column_names = {'Photovoltaics [MWh] Original resolutions': 'Solar_generation_MWh',\n",
    "                'Photovoltaics [MW] Calculated resolutions': 'Solar_installed_MW',\n",
    "                'Total (grid load) [MWh] Original resolutions': 'Total_consumption_MWh',\n",
    "                'Germany/Luxembourg [€/MWh] Calculated resolutions': 'DE_LU_price_per_MWh',}\n",
    "    df.rename(columns=column_names, inplace=True)\n"
   ]
  },
  {
   "cell_type": "code",
   "execution_count": 4,
   "metadata": {},
   "outputs": [],
   "source": [
    "col_names(df)"
   ]
  },
  {
   "cell_type": "code",
   "execution_count": 5,
   "metadata": {},
   "outputs": [
    {
     "data": {
      "text/html": [
       "<div>\n",
       "<style scoped>\n",
       "    .dataframe tbody tr th:only-of-type {\n",
       "        vertical-align: middle;\n",
       "    }\n",
       "\n",
       "    .dataframe tbody tr th {\n",
       "        vertical-align: top;\n",
       "    }\n",
       "\n",
       "    .dataframe thead th {\n",
       "        text-align: right;\n",
       "    }\n",
       "</style>\n",
       "<table border=\"1\" class=\"dataframe\">\n",
       "  <thead>\n",
       "    <tr style=\"text-align: right;\">\n",
       "      <th></th>\n",
       "      <th>Solar_generation_MWh</th>\n",
       "      <th>Solar_installed_MW</th>\n",
       "      <th>Total_consumption_MWh</th>\n",
       "      <th>DE_LU_price_per_MWh</th>\n",
       "      <th>normalisation_factor</th>\n",
       "      <th>Solar_generation_MWh_normalized</th>\n",
       "    </tr>\n",
       "    <tr>\n",
       "      <th>Date</th>\n",
       "      <th></th>\n",
       "      <th></th>\n",
       "      <th></th>\n",
       "      <th></th>\n",
       "      <th></th>\n",
       "      <th></th>\n",
       "    </tr>\n",
       "  </thead>\n",
       "  <tbody>\n",
       "    <tr>\n",
       "      <th>2018-10-01 00:00:00</th>\n",
       "      <td>0.0</td>\n",
       "      <td>42805.0</td>\n",
       "      <td>10589.75</td>\n",
       "      <td>59.53</td>\n",
       "      <td>0.684015</td>\n",
       "      <td>0.0</td>\n",
       "    </tr>\n",
       "    <tr>\n",
       "      <th>2018-10-01 00:15:00</th>\n",
       "      <td>0.0</td>\n",
       "      <td>42805.0</td>\n",
       "      <td>10589.75</td>\n",
       "      <td>59.53</td>\n",
       "      <td>0.684015</td>\n",
       "      <td>0.0</td>\n",
       "    </tr>\n",
       "    <tr>\n",
       "      <th>2018-10-01 00:30:00</th>\n",
       "      <td>0.0</td>\n",
       "      <td>42805.0</td>\n",
       "      <td>10589.75</td>\n",
       "      <td>59.53</td>\n",
       "      <td>0.684015</td>\n",
       "      <td>0.0</td>\n",
       "    </tr>\n",
       "    <tr>\n",
       "      <th>2018-10-01 00:45:00</th>\n",
       "      <td>0.0</td>\n",
       "      <td>42805.0</td>\n",
       "      <td>10589.75</td>\n",
       "      <td>59.53</td>\n",
       "      <td>0.684015</td>\n",
       "      <td>0.0</td>\n",
       "    </tr>\n",
       "    <tr>\n",
       "      <th>2018-10-01 01:00:00</th>\n",
       "      <td>0.0</td>\n",
       "      <td>42805.0</td>\n",
       "      <td>10589.75</td>\n",
       "      <td>56.10</td>\n",
       "      <td>0.684015</td>\n",
       "      <td>0.0</td>\n",
       "    </tr>\n",
       "    <tr>\n",
       "      <th>...</th>\n",
       "      <td>...</td>\n",
       "      <td>...</td>\n",
       "      <td>...</td>\n",
       "      <td>...</td>\n",
       "      <td>...</td>\n",
       "      <td>...</td>\n",
       "    </tr>\n",
       "    <tr>\n",
       "      <th>2023-06-01 22:45:00</th>\n",
       "      <td>0.0</td>\n",
       "      <td>62579.0</td>\n",
       "      <td>12945.50</td>\n",
       "      <td>95.41</td>\n",
       "      <td>1.000000</td>\n",
       "      <td>0.0</td>\n",
       "    </tr>\n",
       "    <tr>\n",
       "      <th>2023-06-01 23:00:00</th>\n",
       "      <td>0.0</td>\n",
       "      <td>62579.0</td>\n",
       "      <td>12817.75</td>\n",
       "      <td>86.53</td>\n",
       "      <td>1.000000</td>\n",
       "      <td>0.0</td>\n",
       "    </tr>\n",
       "    <tr>\n",
       "      <th>2023-06-01 23:15:00</th>\n",
       "      <td>0.0</td>\n",
       "      <td>62579.0</td>\n",
       "      <td>12539.00</td>\n",
       "      <td>86.53</td>\n",
       "      <td>1.000000</td>\n",
       "      <td>0.0</td>\n",
       "    </tr>\n",
       "    <tr>\n",
       "      <th>2023-06-01 23:30:00</th>\n",
       "      <td>0.0</td>\n",
       "      <td>62579.0</td>\n",
       "      <td>12371.00</td>\n",
       "      <td>86.53</td>\n",
       "      <td>1.000000</td>\n",
       "      <td>0.0</td>\n",
       "    </tr>\n",
       "    <tr>\n",
       "      <th>2023-06-01 23:45:00</th>\n",
       "      <td>0.0</td>\n",
       "      <td>62579.0</td>\n",
       "      <td>12176.75</td>\n",
       "      <td>86.53</td>\n",
       "      <td>1.000000</td>\n",
       "      <td>0.0</td>\n",
       "    </tr>\n",
       "  </tbody>\n",
       "</table>\n",
       "<p>163680 rows × 6 columns</p>\n",
       "</div>"
      ],
      "text/plain": [
       "                     Solar_generation_MWh  Solar_installed_MW   \n",
       "Date                                                            \n",
       "2018-10-01 00:00:00                   0.0             42805.0  \\\n",
       "2018-10-01 00:15:00                   0.0             42805.0   \n",
       "2018-10-01 00:30:00                   0.0             42805.0   \n",
       "2018-10-01 00:45:00                   0.0             42805.0   \n",
       "2018-10-01 01:00:00                   0.0             42805.0   \n",
       "...                                   ...                 ...   \n",
       "2023-06-01 22:45:00                   0.0             62579.0   \n",
       "2023-06-01 23:00:00                   0.0             62579.0   \n",
       "2023-06-01 23:15:00                   0.0             62579.0   \n",
       "2023-06-01 23:30:00                   0.0             62579.0   \n",
       "2023-06-01 23:45:00                   0.0             62579.0   \n",
       "\n",
       "                     Total_consumption_MWh  DE_LU_price_per_MWh   \n",
       "Date                                                              \n",
       "2018-10-01 00:00:00               10589.75                59.53  \\\n",
       "2018-10-01 00:15:00               10589.75                59.53   \n",
       "2018-10-01 00:30:00               10589.75                59.53   \n",
       "2018-10-01 00:45:00               10589.75                59.53   \n",
       "2018-10-01 01:00:00               10589.75                56.10   \n",
       "...                                    ...                  ...   \n",
       "2023-06-01 22:45:00               12945.50                95.41   \n",
       "2023-06-01 23:00:00               12817.75                86.53   \n",
       "2023-06-01 23:15:00               12539.00                86.53   \n",
       "2023-06-01 23:30:00               12371.00                86.53   \n",
       "2023-06-01 23:45:00               12176.75                86.53   \n",
       "\n",
       "                     normalisation_factor  Solar_generation_MWh_normalized  \n",
       "Date                                                                        \n",
       "2018-10-01 00:00:00              0.684015                              0.0  \n",
       "2018-10-01 00:15:00              0.684015                              0.0  \n",
       "2018-10-01 00:30:00              0.684015                              0.0  \n",
       "2018-10-01 00:45:00              0.684015                              0.0  \n",
       "2018-10-01 01:00:00              0.684015                              0.0  \n",
       "...                                   ...                              ...  \n",
       "2023-06-01 22:45:00              1.000000                              0.0  \n",
       "2023-06-01 23:00:00              1.000000                              0.0  \n",
       "2023-06-01 23:15:00              1.000000                              0.0  \n",
       "2023-06-01 23:30:00              1.000000                              0.0  \n",
       "2023-06-01 23:45:00              1.000000                              0.0  \n",
       "\n",
       "[163680 rows x 6 columns]"
      ]
     },
     "execution_count": 5,
     "metadata": {},
     "output_type": "execute_result"
    }
   ],
   "source": [
    "df.set_index('Date')\n"
   ]
  },
  {
   "cell_type": "code",
   "execution_count": 6,
   "metadata": {},
   "outputs": [
    {
     "name": "stdout",
     "output_type": "stream",
     "text": [
      "<class 'pandas.core.frame.DataFrame'>\n",
      "RangeIndex: 163680 entries, 0 to 163679\n",
      "Data columns (total 7 columns):\n",
      " #   Column                           Non-Null Count   Dtype         \n",
      "---  ------                           --------------   -----         \n",
      " 0   Date                             163680 non-null  datetime64[ns]\n",
      " 1   Solar_generation_MWh             163680 non-null  float64       \n",
      " 2   Solar_installed_MW               163680 non-null  float64       \n",
      " 3   Total_consumption_MWh            163680 non-null  float64       \n",
      " 4   DE_LU_price_per_MWh              163680 non-null  float64       \n",
      " 5   normalisation_factor             163680 non-null  float64       \n",
      " 6   Solar_generation_MWh_normalized  163680 non-null  float64       \n",
      "dtypes: datetime64[ns](1), float64(6)\n",
      "memory usage: 8.7 MB\n"
     ]
    }
   ],
   "source": [
    "df.info()"
   ]
  },
  {
   "attachments": {},
   "cell_type": "markdown",
   "metadata": {},
   "source": [
    "## Scaling is very important. Here after trying both standard and MinMax scaler, MinMax scaler is better."
   ]
  },
  {
   "cell_type": "code",
   "execution_count": 7,
   "metadata": {},
   "outputs": [],
   "source": [
    "#Let's scale the data\n",
    "\n",
    "from sklearn.preprocessing import MinMaxScaler\n",
    "# Create an instance of MinMaxScaler\n",
    "scaler = MinMaxScaler()\n",
    "\n",
    "# Scale the 'Total_consumption_MWh' column\n",
    "df['Total_consumption_MWh'] = scaler.fit_transform(df[['Total_consumption_MWh']])\n"
   ]
  },
  {
   "cell_type": "code",
   "execution_count": 8,
   "metadata": {},
   "outputs": [
    {
     "data": {
      "text/plain": [
       "<Axes: xlabel='Date'>"
      ]
     },
     "execution_count": 8,
     "metadata": {},
     "output_type": "execute_result"
    },
    {
     "data": {
      "image/png": "[encoded data removed]",
      "text/plain": [
       "<Figure size 640x480 with 1 Axes>"
      ]
     },
     "metadata": {},
     "output_type": "display_data"
    }
   ],
   "source": [
    "df.index = pd.to_datetime(df['Date'], format='%Y-%m-%d %H:%M:%S')\n",
    "consumption = df['Total_consumption_MWh']\n",
    "consumption.plot()"
   ]
  },
  {
   "cell_type": "code",
   "execution_count": 9,
   "metadata": {},
   "outputs": [
    {
     "name": "stdout",
     "output_type": "stream",
     "text": [
      "X1 shape: (162913, 672)\n",
      "y1 shape: (162913, 96)\n"
     ]
    }
   ],
   "source": [
    "# functions for generating input-output pairs X1 and y1 respectively\n",
    "# Iterate through the array to create input-output pairs:\n",
    "# The loop iterates from i = 0 to i = len(df_as_np) - window_size - forecast_size + 1.\n",
    "# At each iteration, it extracts the input sequence (X_row) of length window_size and the corresponding output sequence (y_row) of length forecast_size.\n",
    "# Append the input sequence X_row to the X list and the output sequence y_row to the y list.\n",
    "\n",
    "def df_to_X_y(df, window_size=672, forecast_size=96):\n",
    "    df_as_np = df.to_numpy()\n",
    "    X = []\n",
    "    y = []\n",
    "    for i in range(len(df_as_np) - window_size - forecast_size + 1):\n",
    "        X_row = df_as_np[i : i + window_size]\n",
    "        y_row = df_as_np[i + window_size : i + window_size + forecast_size]\n",
    "        X.append(X_row)\n",
    "        y.append(y_row)\n",
    "    return np.array(X), np.array(y)\n",
    "\n",
    "WINDOW_SIZE = 672\n",
    "FORECAST_SIZE = 96\n",
    "X1, y1 = df_to_X_y(consumption, window_size=WINDOW_SIZE, forecast_size=FORECAST_SIZE)\n",
    "print(\"X1 shape:\", X1.shape)\n",
    "print(\"y1 shape:\", y1.shape)\n",
    "\n"
   ]
  },
  {
   "cell_type": "code",
   "execution_count": 10,
   "metadata": {},
   "outputs": [
    {
     "data": {
      "text/plain": [
       "array([[0.23859159, 0.23859159, 0.23859159, ..., 0.30646827, 0.29068967,\n",
       "        0.28267605],\n",
       "       [0.23859159, 0.23859159, 0.23859159, ..., 0.29068967, 0.28267605,\n",
       "        0.27766515],\n",
       "       [0.23859159, 0.23859159, 0.23859159, ..., 0.28267605, 0.27766515,\n",
       "        0.27240562],\n",
       "       ...,\n",
       "       [0.3305665 , 0.31891902, 0.30206939, ..., 0.41328463, 0.39211261,\n",
       "        0.37935585],\n",
       "       [0.31891902, 0.30206939, 0.29070879, ..., 0.39211261, 0.37935585,\n",
       "        0.36388326],\n",
       "       [0.30206939, 0.29070879, 0.2784493 , ..., 0.37935585, 0.36388326,\n",
       "        0.35604177]])"
      ]
     },
     "execution_count": 10,
     "metadata": {},
     "output_type": "execute_result"
    }
   ],
   "source": [
    "X1"
   ]
  },
  {
   "cell_type": "code",
   "execution_count": 11,
   "metadata": {},
   "outputs": [
    {
     "data": {
      "text/plain": [
       "array([[0.27766515, 0.27240562, 0.26186742, ..., 0.41630647, 0.40104426,\n",
       "        0.37547336],\n",
       "       [0.27240562, 0.26186742, 0.25567073, ..., 0.40104426, 0.37547336,\n",
       "        0.36833952],\n",
       "       [0.26186742, 0.25567073, 0.24475003, ..., 0.37547336, 0.36833952,\n",
       "        0.3568833 ],\n",
       "       ...,\n",
       "       [0.36388326, 0.35604177, 0.34638335, ..., 0.41881192, 0.40903875,\n",
       "        0.38771373],\n",
       "       [0.35604177, 0.34638335, 0.33771947, ..., 0.40903875, 0.38771373,\n",
       "        0.37486134],\n",
       "       [0.34638335, 0.33771947, 0.32957197, ..., 0.38771373, 0.37486134,\n",
       "        0.36000077]])"
      ]
     },
     "execution_count": 11,
     "metadata": {},
     "output_type": "execute_result"
    }
   ],
   "source": [
    "y1"
   ]
  },
  {
   "attachments": {},
   "cell_type": "markdown",
   "metadata": {},
   "source": [
    "## Splitting"
   ]
  },
  {
   "cell_type": "code",
   "execution_count": 20,
   "metadata": {},
   "outputs": [
    {
     "data": {
      "text/plain": [
       "((114039, 672),\n",
       " (114039, 96),\n",
       " (24436, 672),\n",
       " (24436, 96),\n",
       " (24438, 672),\n",
       " (24438, 96))"
      ]
     },
     "execution_count": 20,
     "metadata": {},
     "output_type": "execute_result"
    }
   ],
   "source": [
    "# Splitting the data into train, validation, and test sets\n",
    "#implementing 70-15-15 rule, where 70% of the data is used for training, 15% for validation, and 15% for testing.\n",
    "\n",
    "total_samples = len(X1)\n",
    "train_size = int(0.7 * total_samples)\n",
    "val_size = int(0.15 * total_samples)\n",
    "\n",
    "X_train1, y_train1 = X1[:train_size], y1[:train_size]\n",
    "X_val1, y_val1 = X1[train_size:train_size+val_size], y1[train_size:train_size+val_size]\n",
    "X_test1, y_test1 = X1[train_size+val_size:], y1[train_size+val_size:]\n",
    "\n",
    "X_train1.shape, y_train1.shape, X_val1.shape, y_val1.shape, X_test1.shape, y_test1.shape\n",
    "\n",
    "# Check for NaN values in the data\n",
    "# print(\"NaN values in X_train1:\", np.isnan(X_train1).any())\n",
    "# print(\"NaN values in y_train1:\", np.isnan(y_train1).any())\n",
    "\n",
    "\n"
   ]
  },
  {
   "cell_type": "code",
   "execution_count": 22,
   "metadata": {},
   "outputs": [
    {
     "name": "stdout",
     "output_type": "stream",
     "text": [
      "Model: \"sequential_5\"\n",
      "_________________________________________________________________\n",
      " Layer (type)                Output Shape              Param #   \n",
      "=================================================================\n",
      " lstm_10 (LSTM)              (None, 672, 64)           16896     \n",
      "                                                                 \n",
      " lstm_11 (LSTM)              (None, 32)                12416     \n",
      "                                                                 \n",
      " dropout_5 (Dropout)         (None, 32)                0         \n",
      "                                                                 \n",
      " dense_10 (Dense)            (None, 16)                528       \n",
      "                                                                 \n",
      " dense_11 (Dense)            (None, 96)                1632      \n",
      "                                                                 \n",
      "=================================================================\n",
      "Total params: 31472 (122.94 KB)\n",
      "Trainable params: 31472 (122.94 KB)\n",
      "Non-trainable params: 0 (0.00 Byte)\n",
      "_________________________________________________________________\n",
      "Epoch 1/10\n",
      "1782/1782 [==============================] - ETA: 0s - loss: 0.2352 - root_mean_squared_error: 0.4849INFO:tensorflow:Assets written to: model1/assets\n"
     ]
    },
    {
     "name": "stderr",
     "output_type": "stream",
     "text": [
      "INFO:tensorflow:Assets written to: model1/assets\n"
     ]
    },
    {
     "name": "stdout",
     "output_type": "stream",
     "text": [
      "1782/1782 [==============================] - 628s 352ms/step - loss: 0.2352 - root_mean_squared_error: 0.4849 - val_loss: 0.1332 - val_root_mean_squared_error: 0.3649\n",
      "Epoch 2/10\n",
      "1782/1782 [==============================] - ETA: 0s - loss: 0.1191 - root_mean_squared_error: 0.3451INFO:tensorflow:Assets written to: model1/assets\n"
     ]
    },
    {
     "name": "stderr",
     "output_type": "stream",
     "text": [
      "INFO:tensorflow:Assets written to: model1/assets\n"
     ]
    },
    {
     "name": "stdout",
     "output_type": "stream",
     "text": [
      "1782/1782 [==============================] - 622s 349ms/step - loss: 0.1191 - root_mean_squared_error: 0.3451 - val_loss: 0.0589 - val_root_mean_squared_error: 0.2426\n",
      "Epoch 3/10\n",
      "1782/1782 [==============================] - ETA: 0s - loss: 0.0677 - root_mean_squared_error: 0.2602INFO:tensorflow:Assets written to: model1/assets\n"
     ]
    },
    {
     "name": "stderr",
     "output_type": "stream",
     "text": [
      "INFO:tensorflow:Assets written to: model1/assets\n"
     ]
    },
    {
     "name": "stdout",
     "output_type": "stream",
     "text": [
      "1782/1782 [==============================] - 681s 382ms/step - loss: 0.0677 - root_mean_squared_error: 0.2602 - val_loss: 0.0346 - val_root_mean_squared_error: 0.1860\n",
      "Epoch 4/10\n",
      "1782/1782 [==============================] - ETA: 0s - loss: 0.0494 - root_mean_squared_error: 0.2223INFO:tensorflow:Assets written to: model1/assets\n"
     ]
    },
    {
     "name": "stderr",
     "output_type": "stream",
     "text": [
      "INFO:tensorflow:Assets written to: model1/assets\n"
     ]
    },
    {
     "name": "stdout",
     "output_type": "stream",
     "text": [
      "1782/1782 [==============================] - 789s 443ms/step - loss: 0.0494 - root_mean_squared_error: 0.2223 - val_loss: 0.0292 - val_root_mean_squared_error: 0.1708\n",
      "Epoch 5/10\n",
      "1782/1782 [==============================] - ETA: 0s - loss: 0.0419 - root_mean_squared_error: 0.2048INFO:tensorflow:Assets written to: model1/assets\n"
     ]
    },
    {
     "name": "stderr",
     "output_type": "stream",
     "text": [
      "INFO:tensorflow:Assets written to: model1/assets\n"
     ]
    },
    {
     "name": "stdout",
     "output_type": "stream",
     "text": [
      "1782/1782 [==============================] - 637s 358ms/step - loss: 0.0419 - root_mean_squared_error: 0.2048 - val_loss: 0.0273 - val_root_mean_squared_error: 0.1651\n",
      "Epoch 6/10\n",
      "1782/1782 [==============================] - ETA: 0s - loss: 0.0378 - root_mean_squared_error: 0.1945INFO:tensorflow:Assets written to: model1/assets\n"
     ]
    },
    {
     "name": "stderr",
     "output_type": "stream",
     "text": [
      "INFO:tensorflow:Assets written to: model1/assets\n"
     ]
    },
    {
     "name": "stdout",
     "output_type": "stream",
     "text": [
      "1782/1782 [==============================] - 636s 357ms/step - loss: 0.0378 - root_mean_squared_error: 0.1945 - val_loss: 0.0266 - val_root_mean_squared_error: 0.1631\n",
      "Epoch 7/10\n",
      "1782/1782 [==============================] - ETA: 0s - loss: 0.0352 - root_mean_squared_error: 0.1876INFO:tensorflow:Assets written to: model1/assets\n"
     ]
    },
    {
     "name": "stderr",
     "output_type": "stream",
     "text": [
      "INFO:tensorflow:Assets written to: model1/assets\n"
     ]
    },
    {
     "name": "stdout",
     "output_type": "stream",
     "text": [
      "1782/1782 [==============================] - 634s 356ms/step - loss: 0.0352 - root_mean_squared_error: 0.1876 - val_loss: 0.0254 - val_root_mean_squared_error: 0.1594\n",
      "Epoch 8/10\n",
      "1782/1782 [==============================] - ETA: 0s - loss: 0.0316 - root_mean_squared_error: 0.1779INFO:tensorflow:Assets written to: model1/assets\n"
     ]
    },
    {
     "name": "stderr",
     "output_type": "stream",
     "text": [
      "INFO:tensorflow:Assets written to: model1/assets\n"
     ]
    },
    {
     "name": "stdout",
     "output_type": "stream",
     "text": [
      "1782/1782 [==============================] - 624s 350ms/step - loss: 0.0316 - root_mean_squared_error: 0.1779 - val_loss: 0.0222 - val_root_mean_squared_error: 0.1491\n",
      "Epoch 9/10\n",
      "1782/1782 [==============================] - ETA: 0s - loss: 0.0281 - root_mean_squared_error: 0.1675INFO:tensorflow:Assets written to: model1/assets\n"
     ]
    },
    {
     "name": "stderr",
     "output_type": "stream",
     "text": [
      "INFO:tensorflow:Assets written to: model1/assets\n"
     ]
    },
    {
     "name": "stdout",
     "output_type": "stream",
     "text": [
      "1782/1782 [==============================] - 628s 352ms/step - loss: 0.0281 - root_mean_squared_error: 0.1675 - val_loss: 0.0198 - val_root_mean_squared_error: 0.1406\n",
      "Epoch 10/10\n",
      "1782/1782 [==============================] - ETA: 0s - loss: 0.0252 - root_mean_squared_error: 0.1586INFO:tensorflow:Assets written to: model1/assets\n"
     ]
    },
    {
     "name": "stderr",
     "output_type": "stream",
     "text": [
      "INFO:tensorflow:Assets written to: model1/assets\n"
     ]
    },
    {
     "name": "stdout",
     "output_type": "stream",
     "text": [
      "1782/1782 [==============================] - 622s 349ms/step - loss: 0.0252 - root_mean_squared_error: 0.1586 - val_loss: 0.0174 - val_root_mean_squared_error: 0.1319\n",
      "{'loss': [0.23516525328159332, 0.11909586191177368, 0.06769595295190811, 0.04942367225885391, 0.041926030069589615, 0.03784674406051636, 0.0352073535323143, 0.03163274750113487, 0.02805609628558159, 0.025159155949950218], 'root_mean_squared_error': [0.484937846660614, 0.3451029360294342, 0.26018446683883667, 0.22231435775756836, 0.20475837588310242, 0.19454249739646912, 0.1876363754272461, 0.17785599827766418, 0.16749966144561768, 0.15861648321151733], 'val_loss': [0.13318416476249695, 0.05885649472475052, 0.03459526225924492, 0.029169214889407158, 0.02726813778281212, 0.026604516431689262, 0.025415068492293358, 0.022232385352253914, 0.01977233961224556, 0.017401155084371567], 'val_root_mean_squared_error': [0.36494413018226624, 0.24260364472866058, 0.18599805235862732, 0.17078998684883118, 0.1651306450366974, 0.1631089299917221, 0.15942104160785675, 0.1491052806377411, 0.14061415195465088, 0.1319134682416916]}\n",
      "3564/3564 [==============================] - 179s 50ms/step\n"
     ]
    },
    {
     "data": {
      "text/html": [
       "<div>\n",
       "<style scoped>\n",
       "    .dataframe tbody tr th:only-of-type {\n",
       "        vertical-align: middle;\n",
       "    }\n",
       "\n",
       "    .dataframe tbody tr th {\n",
       "        vertical-align: top;\n",
       "    }\n",
       "\n",
       "    .dataframe thead th {\n",
       "        text-align: right;\n",
       "    }\n",
       "</style>\n",
       "<table border=\"1\" class=\"dataframe\">\n",
       "  <thead>\n",
       "    <tr style=\"text-align: right;\">\n",
       "      <th></th>\n",
       "      <th>Train Predictions</th>\n",
       "      <th>Actuals</th>\n",
       "    </tr>\n",
       "  </thead>\n",
       "  <tbody>\n",
       "    <tr>\n",
       "      <th>0</th>\n",
       "      <td>0.376197</td>\n",
       "      <td>0.277665</td>\n",
       "    </tr>\n",
       "    <tr>\n",
       "      <th>1</th>\n",
       "      <td>0.376928</td>\n",
       "      <td>0.272406</td>\n",
       "    </tr>\n",
       "    <tr>\n",
       "      <th>2</th>\n",
       "      <td>0.358184</td>\n",
       "      <td>0.261867</td>\n",
       "    </tr>\n",
       "    <tr>\n",
       "      <th>3</th>\n",
       "      <td>0.399478</td>\n",
       "      <td>0.255671</td>\n",
       "    </tr>\n",
       "    <tr>\n",
       "      <th>4</th>\n",
       "      <td>0.385250</td>\n",
       "      <td>0.244750</td>\n",
       "    </tr>\n",
       "    <tr>\n",
       "      <th>...</th>\n",
       "      <td>...</td>\n",
       "      <td>...</td>\n",
       "    </tr>\n",
       "    <tr>\n",
       "      <th>10947739</th>\n",
       "      <td>0.640905</td>\n",
       "      <td>0.688483</td>\n",
       "    </tr>\n",
       "    <tr>\n",
       "      <th>10947740</th>\n",
       "      <td>0.667506</td>\n",
       "      <td>0.678729</td>\n",
       "    </tr>\n",
       "    <tr>\n",
       "      <th>10947741</th>\n",
       "      <td>0.665924</td>\n",
       "      <td>0.668152</td>\n",
       "    </tr>\n",
       "    <tr>\n",
       "      <th>10947742</th>\n",
       "      <td>0.729458</td>\n",
       "      <td>0.651608</td>\n",
       "    </tr>\n",
       "    <tr>\n",
       "      <th>10947743</th>\n",
       "      <td>0.619907</td>\n",
       "      <td>0.629385</td>\n",
       "    </tr>\n",
       "  </tbody>\n",
       "</table>\n",
       "<p>10947744 rows × 2 columns</p>\n",
       "</div>"
      ],
      "text/plain": [
       "          Train Predictions   Actuals\n",
       "0                  0.376197  0.277665\n",
       "1                  0.376928  0.272406\n",
       "2                  0.358184  0.261867\n",
       "3                  0.399478  0.255671\n",
       "4                  0.385250  0.244750\n",
       "...                     ...       ...\n",
       "10947739           0.640905  0.688483\n",
       "10947740           0.667506  0.678729\n",
       "10947741           0.665924  0.668152\n",
       "10947742           0.729458  0.651608\n",
       "10947743           0.619907  0.629385\n",
       "\n",
       "[10947744 rows x 2 columns]"
      ]
     },
     "execution_count": 22,
     "metadata": {},
     "output_type": "execute_result"
    }
   ],
   "source": [
    "from tensorflow.keras.layers import Dropout\n",
    "from tensorflow.keras.callbacks import EarlyStopping\n",
    "from tensorflow.keras.models import load_model\n",
    "\n",
    "# Define your model architecture\n",
    "model1 = tf.keras.Sequential()\n",
    "model1.add(tf.keras.layers.LSTM(64, input_shape=(WINDOW_SIZE, 1), return_sequences=True))\n",
    "#model1.add(tf.keras.layers.LeakyReLU(alpha=0.5))\n",
    "model1.add(tf.keras.layers.LSTM(32, activation='relu'))\n",
    "model1.add(tf.keras.layers.Dropout(0.2))  # Add dropout layer with a dropout rate of 0.2\n",
    "model1.add(tf.keras.layers.Dense(16, activation='relu'))\n",
    "model1.add(tf.keras.layers.Dense(FORECAST_SIZE, activation='linear'))\n",
    "\n",
    "# Build the model\n",
    "model1.build((None, WINDOW_SIZE, 1))\n",
    "model1.summary()\n",
    "\n",
    "# Define optimizer used for modeling and checkpoint\n",
    "cp1 = tf.keras.callbacks.ModelCheckpoint('model1/', save_best_only=True)  # It will save the best result only\n",
    "\n",
    "learning_rate = 0.00001  # Adjust the learning rate if needed\n",
    "\n",
    "# Compile the model\n",
    "model1.compile(loss=tf.keras.losses.MeanSquaredError(), optimizer=tf.keras.optimizers.legacy.Adam(learning_rate=learning_rate), metrics=[tf.keras.metrics.RootMeanSquaredError()])\n",
    "\n",
    "# Define early stopping callback\n",
    "early_stopping = tf.keras.callbacks.EarlyStopping(monitor='val_loss', patience=2, restore_best_weights=True)\n",
    "\n",
    "# Enable hardware acceleration (if available)\n",
    "physical_devices = tf.config.list_physical_devices('GPU')\n",
    "if len(physical_devices) > 0:\n",
    "    tf.config.experimental.set_memory_growth(physical_devices[0], True)\n",
    "\n",
    "# Train the model with batch processing\n",
    "batch_size = 64\n",
    "history = model1.fit(X_train1, y_train1, validation_data=(X_val1, y_val1), epochs=10, batch_size=batch_size, callbacks=[cp1, early_stopping])\n",
    "\n",
    "# Print the training history\n",
    "print(history.history)\n",
    "\n",
    "# Load the saved model\n",
    "model1 = tf.keras.models.load_model('model1/')\n",
    "\n",
    "# Reshape the data for prediction\n",
    "X_train_reshaped = np.reshape(X_train1, (X_train1.shape[0], WINDOW_SIZE, 1))\n",
    "\n",
    "# Predict on training data\n",
    "train_predictions = model1.predict(X_train_reshaped).flatten().reshape(-1, 1)\n",
    "train_results = pd.DataFrame(data={'Train Predictions': train_predictions.flatten(), 'Actuals': y_train1.flatten()})\n",
    "train_results\n"
   ]
  },
  {
   "cell_type": "code",
   "execution_count": 31,
   "metadata": {},
   "outputs": [
    {
     "data": {
      "text/plain": [
       "[<matplotlib.lines.Line2D at 0x34e468450>]"
      ]
     },
     "execution_count": 31,
     "metadata": {},
     "output_type": "execute_result"
    },
    {
     "data": {
      "image/png": "[encoded data removed]",
      "text/plain": [
       "<Figure size 640x480 with 1 Axes>"
      ]
     },
     "metadata": {},
     "output_type": "display_data"
    }
   ],
   "source": [
    "#plottings\n",
    "plt.plot(train_results['Train Predictions'][20:100], color='blue', label='Prediction')\n",
    "plt.plot(train_results['Actuals'][20:100], color='orange', label='Actual')"
   ]
  },
  {
   "attachments": {},
   "cell_type": "markdown",
   "metadata": {},
   "source": [
    "### OMG! the far far away from or close to actual. let's see how it works for validation and testing.."
   ]
  },
  {
   "cell_type": "code",
   "execution_count": 54,
   "metadata": {},
   "outputs": [
    {
     "name": "stdout",
     "output_type": "stream",
     "text": [
      "764/764 [==============================] - 37s 48ms/step\n"
     ]
    },
    {
     "data": {
      "text/html": [
       "<div>\n",
       "<style scoped>\n",
       "    .dataframe tbody tr th:only-of-type {\n",
       "        vertical-align: middle;\n",
       "    }\n",
       "\n",
       "    .dataframe tbody tr th {\n",
       "        vertical-align: top;\n",
       "    }\n",
       "\n",
       "    .dataframe thead th {\n",
       "        text-align: right;\n",
       "    }\n",
       "</style>\n",
       "<table border=\"1\" class=\"dataframe\">\n",
       "  <thead>\n",
       "    <tr style=\"text-align: right;\">\n",
       "      <th></th>\n",
       "      <th>Val Predictions</th>\n",
       "      <th>Actuals</th>\n",
       "    </tr>\n",
       "  </thead>\n",
       "  <tbody>\n",
       "    <tr>\n",
       "      <th>0</th>\n",
       "      <td>0.657197</td>\n",
       "      <td>0.650021</td>\n",
       "    </tr>\n",
       "    <tr>\n",
       "      <th>1</th>\n",
       "      <td>0.657053</td>\n",
       "      <td>0.637609</td>\n",
       "    </tr>\n",
       "    <tr>\n",
       "      <th>2</th>\n",
       "      <td>0.634048</td>\n",
       "      <td>0.626210</td>\n",
       "    </tr>\n",
       "    <tr>\n",
       "      <th>3</th>\n",
       "      <td>0.634959</td>\n",
       "      <td>0.608136</td>\n",
       "    </tr>\n",
       "    <tr>\n",
       "      <th>4</th>\n",
       "      <td>0.705787</td>\n",
       "      <td>0.591382</td>\n",
       "    </tr>\n",
       "    <tr>\n",
       "      <th>...</th>\n",
       "      <td>...</td>\n",
       "      <td>...</td>\n",
       "    </tr>\n",
       "    <tr>\n",
       "      <th>2345851</th>\n",
       "      <td>0.502210</td>\n",
       "      <td>0.603833</td>\n",
       "    </tr>\n",
       "    <tr>\n",
       "      <th>2345852</th>\n",
       "      <td>0.508546</td>\n",
       "      <td>0.606262</td>\n",
       "    </tr>\n",
       "    <tr>\n",
       "      <th>2345853</th>\n",
       "      <td>0.511849</td>\n",
       "      <td>0.609972</td>\n",
       "    </tr>\n",
       "    <tr>\n",
       "      <th>2345854</th>\n",
       "      <td>0.549843</td>\n",
       "      <td>0.607945</td>\n",
       "    </tr>\n",
       "    <tr>\n",
       "      <th>2345855</th>\n",
       "      <td>0.532007</td>\n",
       "      <td>0.615270</td>\n",
       "    </tr>\n",
       "  </tbody>\n",
       "</table>\n",
       "<p>2345856 rows × 2 columns</p>\n",
       "</div>"
      ],
      "text/plain": [
       "         Val Predictions   Actuals\n",
       "0               0.657197  0.650021\n",
       "1               0.657053  0.637609\n",
       "2               0.634048  0.626210\n",
       "3               0.634959  0.608136\n",
       "4               0.705787  0.591382\n",
       "...                  ...       ...\n",
       "2345851         0.502210  0.603833\n",
       "2345852         0.508546  0.606262\n",
       "2345853         0.511849  0.609972\n",
       "2345854         0.549843  0.607945\n",
       "2345855         0.532007  0.615270\n",
       "\n",
       "[2345856 rows x 2 columns]"
      ]
     },
     "execution_count": 54,
     "metadata": {},
     "output_type": "execute_result"
    }
   ],
   "source": [
    "# Reshape the data for prediction\n",
    "X_val_reshaped = np.reshape(X_val1, (X_val1.shape[0], WINDOW_SIZE, 1))\n",
    "\n",
    "# Predict on validation data\n",
    "val_predictions = model1.predict(X_val_reshaped).flatten()\n",
    "val_results = pd.DataFrame(data={'Val Predictions': val_predictions, 'Actuals': y_val1.flatten()})\n",
    "val_results\n"
   ]
  },
  {
   "cell_type": "code",
   "execution_count": 33,
   "metadata": {},
   "outputs": [
    {
     "data": {
      "text/plain": [
       "[<matplotlib.lines.Line2D at 0x325fddf10>]"
      ]
     },
     "execution_count": 33,
     "metadata": {},
     "output_type": "execute_result"
    },
    {
     "data": {
      "image/png": "[encoded data removed]",
      "text/plain": [
       "<Figure size 640x480 with 1 Axes>"
      ]
     },
     "metadata": {},
     "output_type": "display_data"
    }
   ],
   "source": [
    "plt.plot(val_results['Val Predictions'][:100])\n",
    "plt.plot(val_results['Actuals'][:100])\n"
   ]
  },
  {
   "cell_type": "code",
   "execution_count": 35,
   "metadata": {},
   "outputs": [
    {
     "name": "stdout",
     "output_type": "stream",
     "text": [
      "764/764 [==============================] - 37s 48ms/step\n"
     ]
    },
    {
     "data": {
      "text/html": [
       "<div>\n",
       "<style scoped>\n",
       "    .dataframe tbody tr th:only-of-type {\n",
       "        vertical-align: middle;\n",
       "    }\n",
       "\n",
       "    .dataframe tbody tr th {\n",
       "        vertical-align: top;\n",
       "    }\n",
       "\n",
       "    .dataframe thead th {\n",
       "        text-align: right;\n",
       "    }\n",
       "</style>\n",
       "<table border=\"1\" class=\"dataframe\">\n",
       "  <thead>\n",
       "    <tr style=\"text-align: right;\">\n",
       "      <th></th>\n",
       "      <th>Test Predictions</th>\n",
       "      <th>Actuals</th>\n",
       "    </tr>\n",
       "  </thead>\n",
       "  <tbody>\n",
       "    <tr>\n",
       "      <th>0</th>\n",
       "      <td>0.550394</td>\n",
       "      <td>0.648453</td>\n",
       "    </tr>\n",
       "    <tr>\n",
       "      <th>1</th>\n",
       "      <td>0.516111</td>\n",
       "      <td>0.654286</td>\n",
       "    </tr>\n",
       "    <tr>\n",
       "      <th>2</th>\n",
       "      <td>0.541220</td>\n",
       "      <td>0.661439</td>\n",
       "    </tr>\n",
       "    <tr>\n",
       "      <th>3</th>\n",
       "      <td>0.517438</td>\n",
       "      <td>0.664843</td>\n",
       "    </tr>\n",
       "    <tr>\n",
       "      <th>4</th>\n",
       "      <td>0.574610</td>\n",
       "      <td>0.663046</td>\n",
       "    </tr>\n",
       "    <tr>\n",
       "      <th>...</th>\n",
       "      <td>...</td>\n",
       "      <td>...</td>\n",
       "    </tr>\n",
       "    <tr>\n",
       "      <th>2346043</th>\n",
       "      <td>0.458865</td>\n",
       "      <td>0.418812</td>\n",
       "    </tr>\n",
       "    <tr>\n",
       "      <th>2346044</th>\n",
       "      <td>0.451981</td>\n",
       "      <td>0.409039</td>\n",
       "    </tr>\n",
       "    <tr>\n",
       "      <th>2346045</th>\n",
       "      <td>0.454777</td>\n",
       "      <td>0.387714</td>\n",
       "    </tr>\n",
       "    <tr>\n",
       "      <th>2346046</th>\n",
       "      <td>0.412288</td>\n",
       "      <td>0.374861</td>\n",
       "    </tr>\n",
       "    <tr>\n",
       "      <th>2346047</th>\n",
       "      <td>0.434172</td>\n",
       "      <td>0.360001</td>\n",
       "    </tr>\n",
       "  </tbody>\n",
       "</table>\n",
       "<p>2346048 rows × 2 columns</p>\n",
       "</div>"
      ],
      "text/plain": [
       "         Test Predictions   Actuals\n",
       "0                0.550394  0.648453\n",
       "1                0.516111  0.654286\n",
       "2                0.541220  0.661439\n",
       "3                0.517438  0.664843\n",
       "4                0.574610  0.663046\n",
       "...                   ...       ...\n",
       "2346043          0.458865  0.418812\n",
       "2346044          0.451981  0.409039\n",
       "2346045          0.454777  0.387714\n",
       "2346046          0.412288  0.374861\n",
       "2346047          0.434172  0.360001\n",
       "\n",
       "[2346048 rows x 2 columns]"
      ]
     },
     "execution_count": 35,
     "metadata": {},
     "output_type": "execute_result"
    }
   ],
   "source": [
    "# Reshape the data for prediction\n",
    "X_test_reshaped = np.reshape(X_test1, (X_test1.shape[0], WINDOW_SIZE, 1))\n",
    "#predict on test data\n",
    "test_predictions = model1.predict(X_test_reshaped).flatten()\n",
    "test_results = pd.DataFrame(data={'Test Predictions':test_predictions, 'Actuals':y_test1.flatten()})\n",
    "test_results"
   ]
  },
  {
   "cell_type": "code",
   "execution_count": 36,
   "metadata": {},
   "outputs": [
    {
     "data": {
      "text/plain": [
       "[<matplotlib.lines.Line2D at 0x304be7150>]"
      ]
     },
     "execution_count": 36,
     "metadata": {},
     "output_type": "execute_result"
    },
    {
     "data": {
      "image/png": "[encoded data removed]",
      "text/plain": [
       "<Figure size 640x480 with 1 Axes>"
      ]
     },
     "metadata": {},
     "output_type": "display_data"
    }
   ],
   "source": [
    "plt.plot(test_results['Test Predictions'][:100])\n",
    "plt.plot(test_results['Actuals'][:100])\n"
   ]
  },
  {
   "attachments": {},
   "cell_type": "markdown",
   "metadata": {},
   "source": [
    "### After observing all train, validation and test we can say, as a first model it's not that good and not that bad. Let's see how it goes for the next few models."
   ]
  },
  {
   "cell_type": "code",
   "execution_count": 69,
   "metadata": {},
   "outputs": [
    {
     "data": {
      "text/plain": [
       "(24438, 672)"
      ]
     },
     "execution_count": 69,
     "metadata": {},
     "output_type": "execute_result"
    }
   ],
   "source": [
    "X_test1.shape"
   ]
  },
  {
   "cell_type": "code",
   "execution_count": 70,
   "metadata": {},
   "outputs": [
    {
     "data": {
      "text/plain": [
       "(24438, 96)"
      ]
     },
     "execution_count": 70,
     "metadata": {},
     "output_type": "execute_result"
    }
   ],
   "source": [
    "y_test1.shape"
   ]
  },
  {
   "cell_type": "code",
   "execution_count": 72,
   "metadata": {},
   "outputs": [
    {
     "name": "stdout",
     "output_type": "stream",
     "text": [
      "764/764 [==============================] - 37s 49ms/step\n"
     ]
    },
    {
     "data": {
      "image/png": "[encoded data removed]",
      "text/plain": [
       "<Figure size 640x480 with 1 Axes>"
      ]
     },
     "metadata": {},
     "output_type": "display_data"
    },
    {
     "data": {
      "text/plain": [
       "(         Predictions   Actuals\n",
       " 0           0.550394  0.648453\n",
       " 1           0.516111  0.654286\n",
       " 2           0.541220  0.661439\n",
       " 3           0.517438  0.664843\n",
       " 4           0.574610  0.663046\n",
       " ...              ...       ...\n",
       " 2346043     0.458865  0.418812\n",
       " 2346044     0.451981  0.409039\n",
       " 2346045     0.454777  0.387714\n",
       " 2346046     0.412288  0.374861\n",
       " 2346047     0.434172  0.360001\n",
       " \n",
       " [2346048 rows x 2 columns],\n",
       " 0.012732544160074813)"
      ]
     },
     "execution_count": 72,
     "metadata": {},
     "output_type": "execute_result"
    }
   ],
   "source": [
    "from sklearn.metrics import mean_squared_error as mse\n",
    "import matplotlib.pyplot as plt\n",
    "\n",
    "def plot_predictions1(model1, X, y, start=0, end=100):\n",
    "    X_reshaped = X.reshape((X.shape[0], 672, 1))\n",
    "    predictions = model1.predict(X_reshaped)\n",
    "    predictions = predictions.reshape((-1, predictions.shape[1]))\n",
    "    df = pd.DataFrame(data={'Predictions': predictions.flatten(), 'Actuals': y.flatten()})\n",
    "    plt.plot(df['Predictions'][start:end])\n",
    "    plt.plot(df['Actuals'][start:end])\n",
    "    plt.legend(['Predictions', 'Actuals'])\n",
    "    plt.show()\n",
    "    return df, mse(y[start:end], predictions[start:end])\n",
    "plot_predictions1(model1, X_test1, y_test1)"
   ]
  },
  {
   "cell_type": "code",
   "execution_count": 75,
   "metadata": {},
   "outputs": [
    {
     "name": "stdout",
     "output_type": "stream",
     "text": [
      "Model: \"sequential_6\"\n",
      "_________________________________________________________________\n",
      " Layer (type)                Output Shape              Param #   \n",
      "=================================================================\n",
      " conv1d (Conv1D)             (None, 671, 64)           192       \n",
      "                                                                 \n",
      " flatten (Flatten)           (None, 42944)             0         \n",
      "                                                                 \n",
      " dense_12 (Dense)            (None, 16)                687120    \n",
      "                                                                 \n",
      " dense_13 (Dense)            (None, 96)                1632      \n",
      "                                                                 \n",
      "=================================================================\n",
      "Total params: 688944 (2.63 MB)\n",
      "Trainable params: 688944 (2.63 MB)\n",
      "Non-trainable params: 0 (0.00 Byte)\n",
      "_________________________________________________________________\n"
     ]
    }
   ],
   "source": [
    "model2 = Sequential()\n",
    "model2.add(InputLayer((672, 1)))\n",
    "model2.add(Conv1D(64, kernel_size=2))\n",
    "model2.add(Flatten())\n",
    "model2.add(Dense(16, 'relu'))\n",
    "model2.add(Dense(96, 'linear'))\n",
    "\n",
    "model2.summary()"
   ]
  },
  {
   "cell_type": "code",
   "execution_count": 76,
   "metadata": {},
   "outputs": [
    {
     "name": "stdout",
     "output_type": "stream",
     "text": [
      "Epoch 1/10\n",
      "3553/3564 [============================>.] - ETA: 0s - loss: 0.0516 - root_mean_squared_error: 0.2271INFO:tensorflow:Assets written to: model2/assets\n"
     ]
    },
    {
     "name": "stderr",
     "output_type": "stream",
     "text": [
      "INFO:tensorflow:Assets written to: model2/assets\n"
     ]
    },
    {
     "name": "stdout",
     "output_type": "stream",
     "text": [
      "3564/3564 [==============================] - 15s 4ms/step - loss: 0.0515 - root_mean_squared_error: 0.2268 - val_loss: 0.0165 - val_root_mean_squared_error: 0.1286\n",
      "Epoch 2/10\n",
      "3556/3564 [============================>.] - ETA: 0s - loss: 0.0137 - root_mean_squared_error: 0.1172INFO:tensorflow:Assets written to: model2/assets\n"
     ]
    },
    {
     "name": "stderr",
     "output_type": "stream",
     "text": [
      "INFO:tensorflow:Assets written to: model2/assets\n"
     ]
    },
    {
     "name": "stdout",
     "output_type": "stream",
     "text": [
      "3564/3564 [==============================] - 14s 4ms/step - loss: 0.0137 - root_mean_squared_error: 0.1171 - val_loss: 0.0070 - val_root_mean_squared_error: 0.0836\n",
      "Epoch 3/10\n",
      "3561/3564 [============================>.] - ETA: 0s - loss: 0.0066 - root_mean_squared_error: 0.0813INFO:tensorflow:Assets written to: model2/assets\n"
     ]
    },
    {
     "name": "stderr",
     "output_type": "stream",
     "text": [
      "INFO:tensorflow:Assets written to: model2/assets\n"
     ]
    },
    {
     "name": "stdout",
     "output_type": "stream",
     "text": [
      "3564/3564 [==============================] - 14s 4ms/step - loss: 0.0066 - root_mean_squared_error: 0.0813 - val_loss: 0.0051 - val_root_mean_squared_error: 0.0716\n",
      "Epoch 4/10\n",
      "3562/3564 [============================>.] - ETA: 0s - loss: 0.0059 - root_mean_squared_error: 0.0768INFO:tensorflow:Assets written to: model2/assets\n"
     ]
    },
    {
     "name": "stderr",
     "output_type": "stream",
     "text": [
      "INFO:tensorflow:Assets written to: model2/assets\n"
     ]
    },
    {
     "name": "stdout",
     "output_type": "stream",
     "text": [
      "3564/3564 [==============================] - 14s 4ms/step - loss: 0.0059 - root_mean_squared_error: 0.0768 - val_loss: 0.0049 - val_root_mean_squared_error: 0.0698\n",
      "Epoch 5/10\n",
      "3558/3564 [============================>.] - ETA: 0s - loss: 0.0055 - root_mean_squared_error: 0.0743INFO:tensorflow:Assets written to: model2/assets\n"
     ]
    },
    {
     "name": "stderr",
     "output_type": "stream",
     "text": [
      "INFO:tensorflow:Assets written to: model2/assets\n"
     ]
    },
    {
     "name": "stdout",
     "output_type": "stream",
     "text": [
      "3564/3564 [==============================] - 13s 4ms/step - loss: 0.0055 - root_mean_squared_error: 0.0743 - val_loss: 0.0045 - val_root_mean_squared_error: 0.0670\n",
      "Epoch 6/10\n",
      "3558/3564 [============================>.] - ETA: 0s - loss: 0.0051 - root_mean_squared_error: 0.0712INFO:tensorflow:Assets written to: model2/assets\n"
     ]
    },
    {
     "name": "stderr",
     "output_type": "stream",
     "text": [
      "INFO:tensorflow:Assets written to: model2/assets\n"
     ]
    },
    {
     "name": "stdout",
     "output_type": "stream",
     "text": [
      "3564/3564 [==============================] - 14s 4ms/step - loss: 0.0051 - root_mean_squared_error: 0.0712 - val_loss: 0.0041 - val_root_mean_squared_error: 0.0640\n",
      "Epoch 7/10\n",
      "3550/3564 [============================>.] - ETA: 0s - loss: 0.0047 - root_mean_squared_error: 0.0688INFO:tensorflow:Assets written to: model2/assets\n"
     ]
    },
    {
     "name": "stderr",
     "output_type": "stream",
     "text": [
      "INFO:tensorflow:Assets written to: model2/assets\n"
     ]
    },
    {
     "name": "stdout",
     "output_type": "stream",
     "text": [
      "3564/3564 [==============================] - 14s 4ms/step - loss: 0.0047 - root_mean_squared_error: 0.0688 - val_loss: 0.0039 - val_root_mean_squared_error: 0.0621\n",
      "Epoch 8/10\n",
      "3552/3564 [============================>.] - ETA: 0s - loss: 0.0046 - root_mean_squared_error: 0.0678INFO:tensorflow:Assets written to: model2/assets\n"
     ]
    },
    {
     "name": "stderr",
     "output_type": "stream",
     "text": [
      "INFO:tensorflow:Assets written to: model2/assets\n"
     ]
    },
    {
     "name": "stdout",
     "output_type": "stream",
     "text": [
      "3564/3564 [==============================] - 14s 4ms/step - loss: 0.0046 - root_mean_squared_error: 0.0678 - val_loss: 0.0037 - val_root_mean_squared_error: 0.0609\n",
      "Epoch 9/10\n",
      "3564/3564 [==============================] - 14s 4ms/step - loss: 0.0045 - root_mean_squared_error: 0.0673 - val_loss: 0.0038 - val_root_mean_squared_error: 0.0612\n",
      "Epoch 10/10\n",
      "3564/3564 [==============================] - 14s 4ms/step - loss: 0.0045 - root_mean_squared_error: 0.0671 - val_loss: 0.0037 - val_root_mean_squared_error: 0.0610\n",
      "{'loss': [0.05145720764994621, 0.013712750747799873, 0.006602420937269926, 0.005892960820347071, 0.005514700431376696, 0.005075475666671991, 0.00473396759480238, 0.0045930007472634315, 0.004529294092208147, 0.0045050871558487415], 'root_mean_squared_error': [0.2268417328596115, 0.11710145324468613, 0.08125525712966919, 0.07676560431718826, 0.07426100224256516, 0.07124241441488266, 0.06880378723144531, 0.06777162849903107, 0.06730004400014877, 0.06711988151073456], 'val_loss': [0.016543816775083542, 0.006990218069404364, 0.005131176207214594, 0.004878133535385132, 0.004484395030885935, 0.004094147589057684, 0.0038554691709578037, 0.0037031490355730057, 0.003750851145014167, 0.0037242842372506857], 'val_root_mean_squared_error': [0.12862278521060944, 0.08360753953456879, 0.07163222879171371, 0.06984364241361618, 0.06696563214063644, 0.06398554891347885, 0.06209243834018707, 0.0608535073697567, 0.0612441822886467, 0.0610269233584404]}\n"
     ]
    }
   ],
   "source": [
    "cp2 = ModelCheckpoint('model2/', save_best_only=True)\n",
    "model2.compile(loss=MeanSquaredError(), optimizer = tf.keras.optimizers.legacy.Adam(learning_rate=0.0001), metrics=[RootMeanSquaredError()]) ## due to a warning message I used the legacy.Adam\n",
    "# Train the model\n",
    "history = model2.fit(X_train1, y_train1, validation_data=(X_val1, y_val1), epochs=10, callbacks=[cp2])\n",
    "\n",
    "# Print the training history\n",
    "print(history.history)"
   ]
  },
  {
   "cell_type": "code",
   "execution_count": 80,
   "metadata": {},
   "outputs": [
    {
     "name": "stdout",
     "output_type": "stream",
     "text": [
      "Model: \"sequential_8\"\n",
      "_________________________________________________________________\n",
      " Layer (type)                Output Shape              Param #   \n",
      "=================================================================\n",
      " gru_1 (GRU)                 (None, 64)                12864     \n",
      "                                                                 \n",
      " dense_16 (Dense)            (None, 8)                 520       \n",
      "                                                                 \n",
      " dense_17 (Dense)            (None, 96)                864       \n",
      "                                                                 \n",
      "=================================================================\n",
      "Total params: 14248 (55.66 KB)\n",
      "Trainable params: 14248 (55.66 KB)\n",
      "Non-trainable params: 0 (0.00 Byte)\n",
      "_________________________________________________________________\n"
     ]
    }
   ],
   "source": [
    "model3 = Sequential()\n",
    "model3.add(InputLayer((672, 1)))\n",
    "model3.add(GRU(64))\n",
    "model3.add(Dense(8, 'relu'))\n",
    "model3.add(Dense(96, 'linear'))\n",
    "model3.summary()"
   ]
  },
  {
   "cell_type": "code",
   "execution_count": 81,
   "metadata": {},
   "outputs": [],
   "source": [
    "cp3 = ModelCheckpoint('model3/', save_best_only=True)\n",
    "model3.compile(loss=MeanSquaredError(), optimizer = tf.keras.optimizers.legacy.Adam(learning_rate=0.0001), metrics=[RootMeanSquaredError()])"
   ]
  },
  {
   "cell_type": "code",
   "execution_count": 82,
   "metadata": {},
   "outputs": [
    {
     "name": "stdout",
     "output_type": "stream",
     "text": [
      "Epoch 1/10\n",
      "3564/3564 [==============================] - ETA: 0s - loss: 0.0770 - root_mean_squared_error: 0.2774INFO:tensorflow:Assets written to: model3/assets\n"
     ]
    },
    {
     "name": "stderr",
     "output_type": "stream",
     "text": [
      "INFO:tensorflow:Assets written to: model3/assets\n"
     ]
    },
    {
     "name": "stdout",
     "output_type": "stream",
     "text": [
      "3564/3564 [==============================] - 379s 106ms/step - loss: 0.0770 - root_mean_squared_error: 0.2774 - val_loss: 0.0206 - val_root_mean_squared_error: 0.1434\n",
      "Epoch 2/10\n",
      "3564/3564 [==============================] - ETA: 0s - loss: 0.0146 - root_mean_squared_error: 0.1209INFO:tensorflow:Assets written to: model3/assets\n"
     ]
    },
    {
     "name": "stderr",
     "output_type": "stream",
     "text": [
      "INFO:tensorflow:Assets written to: model3/assets\n"
     ]
    },
    {
     "name": "stdout",
     "output_type": "stream",
     "text": [
      "3564/3564 [==============================] - 376s 106ms/step - loss: 0.0146 - root_mean_squared_error: 0.1209 - val_loss: 0.0091 - val_root_mean_squared_error: 0.0954\n",
      "Epoch 3/10\n",
      "3564/3564 [==============================] - ETA: 0s - loss: 0.0083 - root_mean_squared_error: 0.0912INFO:tensorflow:Assets written to: model3/assets\n"
     ]
    },
    {
     "name": "stderr",
     "output_type": "stream",
     "text": [
      "INFO:tensorflow:Assets written to: model3/assets\n"
     ]
    },
    {
     "name": "stdout",
     "output_type": "stream",
     "text": [
      "3564/3564 [==============================] - 396s 111ms/step - loss: 0.0083 - root_mean_squared_error: 0.0912 - val_loss: 0.0070 - val_root_mean_squared_error: 0.0835\n",
      "Epoch 4/10\n",
      "3564/3564 [==============================] - ETA: 0s - loss: 0.0071 - root_mean_squared_error: 0.0844INFO:tensorflow:Assets written to: model3/assets\n"
     ]
    },
    {
     "name": "stderr",
     "output_type": "stream",
     "text": [
      "INFO:tensorflow:Assets written to: model3/assets\n"
     ]
    },
    {
     "name": "stdout",
     "output_type": "stream",
     "text": [
      "3564/3564 [==============================] - 396s 111ms/step - loss: 0.0071 - root_mean_squared_error: 0.0844 - val_loss: 0.0062 - val_root_mean_squared_error: 0.0784\n",
      "Epoch 5/10\n",
      "3564/3564 [==============================] - ETA: 0s - loss: 0.0066 - root_mean_squared_error: 0.0810INFO:tensorflow:Assets written to: model3/assets\n"
     ]
    },
    {
     "name": "stderr",
     "output_type": "stream",
     "text": [
      "INFO:tensorflow:Assets written to: model3/assets\n"
     ]
    },
    {
     "name": "stdout",
     "output_type": "stream",
     "text": [
      "3564/3564 [==============================] - 380s 107ms/step - loss: 0.0066 - root_mean_squared_error: 0.0810 - val_loss: 0.0058 - val_root_mean_squared_error: 0.0764\n",
      "Epoch 6/10\n",
      "3564/3564 [==============================] - ETA: 0s - loss: 0.0062 - root_mean_squared_error: 0.0789INFO:tensorflow:Assets written to: model3/assets\n"
     ]
    },
    {
     "name": "stderr",
     "output_type": "stream",
     "text": [
      "INFO:tensorflow:Assets written to: model3/assets\n"
     ]
    },
    {
     "name": "stdout",
     "output_type": "stream",
     "text": [
      "3564/3564 [==============================] - 382s 107ms/step - loss: 0.0062 - root_mean_squared_error: 0.0789 - val_loss: 0.0056 - val_root_mean_squared_error: 0.0745\n",
      "Epoch 7/10\n",
      "3564/3564 [==============================] - ETA: 0s - loss: 0.0059 - root_mean_squared_error: 0.0768INFO:tensorflow:Assets written to: model3/assets\n"
     ]
    },
    {
     "name": "stderr",
     "output_type": "stream",
     "text": [
      "INFO:tensorflow:Assets written to: model3/assets\n"
     ]
    },
    {
     "name": "stdout",
     "output_type": "stream",
     "text": [
      "3564/3564 [==============================] - 382s 107ms/step - loss: 0.0059 - root_mean_squared_error: 0.0768 - val_loss: 0.0055 - val_root_mean_squared_error: 0.0741\n",
      "Epoch 8/10\n",
      "3564/3564 [==============================] - ETA: 0s - loss: 0.0056 - root_mean_squared_error: 0.0746INFO:tensorflow:Assets written to: model3/assets\n"
     ]
    },
    {
     "name": "stderr",
     "output_type": "stream",
     "text": [
      "INFO:tensorflow:Assets written to: model3/assets\n"
     ]
    },
    {
     "name": "stdout",
     "output_type": "stream",
     "text": [
      "3564/3564 [==============================] - 400s 112ms/step - loss: 0.0056 - root_mean_squared_error: 0.0746 - val_loss: 0.0050 - val_root_mean_squared_error: 0.0706\n",
      "Epoch 9/10\n",
      "3564/3564 [==============================] - ETA: 0s - loss: 0.0051 - root_mean_squared_error: 0.0715INFO:tensorflow:Assets written to: model3/assets\n"
     ]
    },
    {
     "name": "stderr",
     "output_type": "stream",
     "text": [
      "INFO:tensorflow:Assets written to: model3/assets\n"
     ]
    },
    {
     "name": "stdout",
     "output_type": "stream",
     "text": [
      "3564/3564 [==============================] - 418s 117ms/step - loss: 0.0051 - root_mean_squared_error: 0.0715 - val_loss: 0.0045 - val_root_mean_squared_error: 0.0674\n",
      "Epoch 10/10\n",
      "3564/3564 [==============================] - ETA: 0s - loss: 0.0047 - root_mean_squared_error: 0.0683INFO:tensorflow:Assets written to: model3/assets\n"
     ]
    },
    {
     "name": "stderr",
     "output_type": "stream",
     "text": [
      "INFO:tensorflow:Assets written to: model3/assets\n"
     ]
    },
    {
     "name": "stdout",
     "output_type": "stream",
     "text": [
      "3564/3564 [==============================] - 434s 122ms/step - loss: 0.0047 - root_mean_squared_error: 0.0683 - val_loss: 0.0041 - val_root_mean_squared_error: 0.0641\n"
     ]
    },
    {
     "data": {
      "text/plain": [
       "<keras.src.callbacks.History at 0x2feceb6d0>"
      ]
     },
     "execution_count": 82,
     "metadata": {},
     "output_type": "execute_result"
    }
   ],
   "source": [
    "model3.fit(X_train1, y_train1, validation_data=(X_val1, y_val1), epochs=10, callbacks=[cp3])"
   ]
  },
  {
   "cell_type": "code",
   "execution_count": 83,
   "metadata": {},
   "outputs": [
    {
     "data": {
      "text/html": [
       "<div>\n",
       "<style scoped>\n",
       "    .dataframe tbody tr th:only-of-type {\n",
       "        vertical-align: middle;\n",
       "    }\n",
       "\n",
       "    .dataframe tbody tr th {\n",
       "        vertical-align: top;\n",
       "    }\n",
       "\n",
       "    .dataframe thead th {\n",
       "        text-align: right;\n",
       "    }\n",
       "</style>\n",
       "<table border=\"1\" class=\"dataframe\">\n",
       "  <thead>\n",
       "    <tr style=\"text-align: right;\">\n",
       "      <th></th>\n",
       "      <th>Consumption</th>\n",
       "      <th>Seconds</th>\n",
       "    </tr>\n",
       "    <tr>\n",
       "      <th>Date</th>\n",
       "      <th></th>\n",
       "      <th></th>\n",
       "    </tr>\n",
       "  </thead>\n",
       "  <tbody>\n",
       "    <tr>\n",
       "      <th>2018-10-01 00:00:00</th>\n",
       "      <td>0.238592</td>\n",
       "      <td>1.538352e+09</td>\n",
       "    </tr>\n",
       "    <tr>\n",
       "      <th>2018-10-01 00:15:00</th>\n",
       "      <td>0.238592</td>\n",
       "      <td>1.538353e+09</td>\n",
       "    </tr>\n",
       "    <tr>\n",
       "      <th>2018-10-01 00:30:00</th>\n",
       "      <td>0.238592</td>\n",
       "      <td>1.538354e+09</td>\n",
       "    </tr>\n",
       "    <tr>\n",
       "      <th>2018-10-01 00:45:00</th>\n",
       "      <td>0.238592</td>\n",
       "      <td>1.538355e+09</td>\n",
       "    </tr>\n",
       "    <tr>\n",
       "      <th>2018-10-01 01:00:00</th>\n",
       "      <td>0.238592</td>\n",
       "      <td>1.538356e+09</td>\n",
       "    </tr>\n",
       "    <tr>\n",
       "      <th>...</th>\n",
       "      <td>...</td>\n",
       "      <td>...</td>\n",
       "    </tr>\n",
       "    <tr>\n",
       "      <th>2023-06-01 22:45:00</th>\n",
       "      <td>0.418812</td>\n",
       "      <td>1.685660e+09</td>\n",
       "    </tr>\n",
       "    <tr>\n",
       "      <th>2023-06-01 23:00:00</th>\n",
       "      <td>0.409039</td>\n",
       "      <td>1.685660e+09</td>\n",
       "    </tr>\n",
       "    <tr>\n",
       "      <th>2023-06-01 23:15:00</th>\n",
       "      <td>0.387714</td>\n",
       "      <td>1.685661e+09</td>\n",
       "    </tr>\n",
       "    <tr>\n",
       "      <th>2023-06-01 23:30:00</th>\n",
       "      <td>0.374861</td>\n",
       "      <td>1.685662e+09</td>\n",
       "    </tr>\n",
       "    <tr>\n",
       "      <th>2023-06-01 23:45:00</th>\n",
       "      <td>0.360001</td>\n",
       "      <td>1.685663e+09</td>\n",
       "    </tr>\n",
       "  </tbody>\n",
       "</table>\n",
       "<p>163680 rows × 2 columns</p>\n",
       "</div>"
      ],
      "text/plain": [
       "                     Consumption       Seconds\n",
       "Date                                          \n",
       "2018-10-01 00:00:00     0.238592  1.538352e+09\n",
       "2018-10-01 00:15:00     0.238592  1.538353e+09\n",
       "2018-10-01 00:30:00     0.238592  1.538354e+09\n",
       "2018-10-01 00:45:00     0.238592  1.538355e+09\n",
       "2018-10-01 01:00:00     0.238592  1.538356e+09\n",
       "...                          ...           ...\n",
       "2023-06-01 22:45:00     0.418812  1.685660e+09\n",
       "2023-06-01 23:00:00     0.409039  1.685660e+09\n",
       "2023-06-01 23:15:00     0.387714  1.685661e+09\n",
       "2023-06-01 23:30:00     0.374861  1.685662e+09\n",
       "2023-06-01 23:45:00     0.360001  1.685663e+09\n",
       "\n",
       "[163680 rows x 2 columns]"
      ]
     },
     "execution_count": 83,
     "metadata": {},
     "output_type": "execute_result"
    }
   ],
   "source": [
    "consumption_df = pd.DataFrame({'Consumption' : consumption})\n",
    "consumption_df['Seconds'] = consumption_df.index.map(pd.Timestamp.timestamp)\n",
    "consumption_df"
   ]
  },
  {
   "cell_type": "code",
   "execution_count": 84,
   "metadata": {},
   "outputs": [
    {
     "data": {
      "text/html": [
       "<div>\n",
       "<style scoped>\n",
       "    .dataframe tbody tr th:only-of-type {\n",
       "        vertical-align: middle;\n",
       "    }\n",
       "\n",
       "    .dataframe tbody tr th {\n",
       "        vertical-align: top;\n",
       "    }\n",
       "\n",
       "    .dataframe thead th {\n",
       "        text-align: right;\n",
       "    }\n",
       "</style>\n",
       "<table border=\"1\" class=\"dataframe\">\n",
       "  <thead>\n",
       "    <tr style=\"text-align: right;\">\n",
       "      <th></th>\n",
       "      <th>Consumption</th>\n",
       "      <th>Seconds</th>\n",
       "      <th>Day sin</th>\n",
       "      <th>Day cos</th>\n",
       "      <th>Year sin</th>\n",
       "      <th>Year cos</th>\n",
       "    </tr>\n",
       "    <tr>\n",
       "      <th>Date</th>\n",
       "      <th></th>\n",
       "      <th></th>\n",
       "      <th></th>\n",
       "      <th></th>\n",
       "      <th></th>\n",
       "      <th></th>\n",
       "    </tr>\n",
       "  </thead>\n",
       "  <tbody>\n",
       "    <tr>\n",
       "      <th>2018-10-01 00:00:00</th>\n",
       "      <td>0.238592</td>\n",
       "      <td>1.538352e+09</td>\n",
       "      <td>-7.593937e-12</td>\n",
       "      <td>1.000000</td>\n",
       "      <td>-0.999952</td>\n",
       "      <td>-0.009838</td>\n",
       "    </tr>\n",
       "    <tr>\n",
       "      <th>2018-10-01 00:15:00</th>\n",
       "      <td>0.238592</td>\n",
       "      <td>1.538353e+09</td>\n",
       "      <td>6.540313e-02</td>\n",
       "      <td>0.997859</td>\n",
       "      <td>-0.999953</td>\n",
       "      <td>-0.009658</td>\n",
       "    </tr>\n",
       "    <tr>\n",
       "      <th>2018-10-01 00:30:00</th>\n",
       "      <td>0.238592</td>\n",
       "      <td>1.538354e+09</td>\n",
       "      <td>1.305262e-01</td>\n",
       "      <td>0.991445</td>\n",
       "      <td>-0.999955</td>\n",
       "      <td>-0.009479</td>\n",
       "    </tr>\n",
       "    <tr>\n",
       "      <th>2018-10-01 00:45:00</th>\n",
       "      <td>0.238592</td>\n",
       "      <td>1.538355e+09</td>\n",
       "      <td>1.950903e-01</td>\n",
       "      <td>0.980785</td>\n",
       "      <td>-0.999957</td>\n",
       "      <td>-0.009300</td>\n",
       "    </tr>\n",
       "    <tr>\n",
       "      <th>2018-10-01 01:00:00</th>\n",
       "      <td>0.238592</td>\n",
       "      <td>1.538356e+09</td>\n",
       "      <td>2.588190e-01</td>\n",
       "      <td>0.965926</td>\n",
       "      <td>-0.999958</td>\n",
       "      <td>-0.009121</td>\n",
       "    </tr>\n",
       "  </tbody>\n",
       "</table>\n",
       "</div>"
      ],
      "text/plain": [
       "                     Consumption       Seconds       Day sin   Day cos   \n",
       "Date                                                                     \n",
       "2018-10-01 00:00:00     0.238592  1.538352e+09 -7.593937e-12  1.000000  \\\n",
       "2018-10-01 00:15:00     0.238592  1.538353e+09  6.540313e-02  0.997859   \n",
       "2018-10-01 00:30:00     0.238592  1.538354e+09  1.305262e-01  0.991445   \n",
       "2018-10-01 00:45:00     0.238592  1.538355e+09  1.950903e-01  0.980785   \n",
       "2018-10-01 01:00:00     0.238592  1.538356e+09  2.588190e-01  0.965926   \n",
       "\n",
       "                     Year sin  Year cos  \n",
       "Date                                     \n",
       "2018-10-01 00:00:00 -0.999952 -0.009838  \n",
       "2018-10-01 00:15:00 -0.999953 -0.009658  \n",
       "2018-10-01 00:30:00 -0.999955 -0.009479  \n",
       "2018-10-01 00:45:00 -0.999957 -0.009300  \n",
       "2018-10-01 01:00:00 -0.999958 -0.009121  "
      ]
     },
     "execution_count": 84,
     "metadata": {},
     "output_type": "execute_result"
    }
   ],
   "source": [
    "day = 60*60*24\n",
    "year = 365.2425*day\n",
    "\n",
    "consumption_df['Day sin'] = np.sin(consumption_df['Seconds'] * (2* np.pi / day))\n",
    "consumption_df['Day cos'] = np.cos(consumption_df['Seconds'] * (2 * np.pi / day))\n",
    "consumption_df['Year sin'] = np.sin(consumption_df['Seconds'] * (2 * np.pi / year))\n",
    "consumption_df['Year cos'] = np.cos(consumption_df['Seconds'] * (2 * np.pi / year))\n",
    "consumption_df.head()"
   ]
  }
 ],
 "metadata": {
  "kernelspec": {
   "display_name": ".venv",
   "language": "python",
   "name": "python3"
  },
  "language_info": {
   "codemirror_mode": {
    "name": "ipython",
    "version": 3
   },
   "file_extension": ".py",
   "mimetype": "text/x-python",
   "name": "python",
   "nbconvert_exporter": "python",
   "pygments_lexer": "ipython3",
   "version": "3.11.3"
  },
  "orig_nbformat": 4
 },
 "nbformat": 4,
 "nbformat_minor": 2
}
