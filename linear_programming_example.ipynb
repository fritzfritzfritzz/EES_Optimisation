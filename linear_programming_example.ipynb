{
 "cells": [
  {
   "attachments": {},
   "cell_type": "markdown",
   "metadata": {},
   "source": [
    "# Linear Programming Example\n",
    "This was an example I worked through in order to understand how Linear Programming works and is implemented.\n",
    "This example comes from https://www.youtube.com/watch?v=ufYtueq2DCw but has been implemented using pulp instead of docplex"
   ]
  },
  {
   "cell_type": "code",
   "execution_count": 1,
   "metadata": {},
   "outputs": [],
   "source": [
    "from pulp import *"
   ]
  },
  {
   "cell_type": "code",
   "execution_count": 3,
   "metadata": {},
   "outputs": [],
   "source": [
    "prob = LpProblem(\"Phone_Production\", LpMaximize)"
   ]
  },
  {
   "attachments": {},
   "cell_type": "markdown",
   "metadata": {},
   "source": [
    "# Variables"
   ]
  },
  {
   "cell_type": "code",
   "execution_count": 3,
   "metadata": {},
   "outputs": [],
   "source": [
    "foldyproduction = LpVariable('foldy phone production',lowBound=500)\n",
    "tinyproduction = LpVariable('tiny phone production',lowBound=200)"
   ]
  },
  {
   "cell_type": "code",
   "execution_count": 4,
   "metadata": {},
   "outputs": [],
   "source": [
    "foldytime = 1.5\n",
    "tinytime = 2"
   ]
  },
  {
   "cell_type": "code",
   "execution_count": 5,
   "metadata": {},
   "outputs": [],
   "source": [
    "foldyprice = 900\n",
    "tinyprice = 1100"
   ]
  },
  {
   "attachments": {},
   "cell_type": "markdown",
   "metadata": {},
   "source": [
    "# Constraints"
   ]
  },
  {
   "cell_type": "code",
   "execution_count": 4,
   "metadata": {},
   "outputs": [],
   "source": [
    "# These constraints are not necessary anymore as they are already implemented above in the lowBound when declaring the LpVariables\n",
    "#foldyconstraint = m.add_constraint(foldyproduction >=500)\n",
    "#tinyconstraint = m.add_constraint(tinyproduction >=200)"
   ]
  },
  {
   "cell_type": "code",
   "execution_count": 7,
   "metadata": {},
   "outputs": [],
   "source": [
    "#totalproductionconstraint\n",
    "prob += tinyproduction*tinytime + foldyproduction*foldytime <= 2999.5"
   ]
  },
  {
   "attachments": {},
   "cell_type": "markdown",
   "metadata": {},
   "source": [
    "# Objectives"
   ]
  },
  {
   "cell_type": "code",
   "execution_count": 6,
   "metadata": {},
   "outputs": [],
   "source": [
    "prob += foldyproduction*foldyprice + tinyproduction * tinyprice"
   ]
  },
  {
   "cell_type": "code",
   "execution_count": 9,
   "metadata": {},
   "outputs": [
    {
     "name": "stdout",
     "output_type": "stream",
     "text": [
      "Status: Optimal\n",
      "foldy_phone_production = 1733.0\n",
      "tiny_phone_production = 200.0\n",
      "Optimal value = 1779700.0\n"
     ]
    }
   ],
   "source": [
    "# Solve the problem\n",
    "status = prob.solve(GLPK(msg = 0))\n",
    "\n",
    "# Print the solution status\n",
    "print(\"Status:\", LpStatus[status])\n",
    "\n",
    "# Print the optimal values of variables\n",
    "for var in prob.variables():\n",
    "    print(var.name, \"=\", var.varValue)\n",
    "\n",
    "# Print the optimal objective value\n",
    "print(\"Optimal value =\", value(prob.objective))\n"
   ]
  },
  {
   "attachments": {},
   "cell_type": "markdown",
   "metadata": {},
   "source": [
    "Yet, another example"
   ]
  },
  {
   "cell_type": "code",
   "execution_count": 7,
   "metadata": {},
   "outputs": [
    {
     "name": "stdout",
     "output_type": "stream",
     "text": [
      "Status: Optimal\n",
      "x = 3.0\n",
      "y = 0.5\n",
      "Optimal value = 6.5\n"
     ]
    }
   ],
   "source": [
    "from pulp import *\n",
    "# Create a LP problem\n",
    "prob = LpProblem(\"Example\", LpMaximize)\n",
    "\n",
    "# Create variables\n",
    "x = LpVariable(\"x\", lowBound=0)\n",
    "y = LpVariable(\"y\", lowBound=0)\n",
    "\n",
    "# Set objective function\n",
    "prob += 2*x + y\n",
    "\n",
    "# Add constraints\n",
    "prob += x + 2*y <= 4\n",
    "prob += x - y >= 1\n",
    "prob += x <= 3\n",
    "\n",
    "# Solve the problem\n",
    "status = prob.solve(GLPK(msg = 0))\n",
    "\n",
    "# Print the solution status\n",
    "print(\"Status:\", LpStatus[status])\n",
    "\n",
    "# Print the optimal values of variables\n",
    "for var in prob.variables():\n",
    "    print(var.name, \"=\", var.varValue)\n",
    "\n",
    "# Print the optimal objective value\n",
    "print(\"Optimal value =\", value(prob.objective))\n"
   ]
  },
  {
   "cell_type": "code",
   "execution_count": 21,
   "metadata": {},
   "outputs": [],
   "source": [
    "x = LpVariable(\"x\", 0, 3)"
   ]
  },
  {
   "cell_type": "code",
   "execution_count": 22,
   "metadata": {},
   "outputs": [],
   "source": [
    "y = LpVariable(\"y\", 0, 1)"
   ]
  },
  {
   "cell_type": "code",
   "execution_count": 23,
   "metadata": {},
   "outputs": [],
   "source": [
    "prob = LpProblem(\"myProblem\", LpMinimize)"
   ]
  },
  {
   "cell_type": "code",
   "execution_count": 24,
   "metadata": {},
   "outputs": [],
   "source": [
    "prob += x + y <= 2"
   ]
  },
  {
   "cell_type": "code",
   "execution_count": 25,
   "metadata": {},
   "outputs": [],
   "source": [
    "prob += -4*x + y"
   ]
  },
  {
   "cell_type": "code",
   "execution_count": 27,
   "metadata": {},
   "outputs": [],
   "source": [
    "status = prob.solve(GLPK(msg = 0))\n"
   ]
  },
  {
   "cell_type": "code",
   "execution_count": 28,
   "metadata": {},
   "outputs": [
    {
     "data": {
      "text/plain": [
       "'Optimal'"
      ]
     },
     "execution_count": 28,
     "metadata": {},
     "output_type": "execute_result"
    }
   ],
   "source": [
    "LpStatus[status]"
   ]
  },
  {
   "cell_type": "code",
   "execution_count": 29,
   "metadata": {},
   "outputs": [
    {
     "data": {
      "text/plain": [
       "2.0"
      ]
     },
     "execution_count": 29,
     "metadata": {},
     "output_type": "execute_result"
    }
   ],
   "source": [
    "value(x)"
   ]
  }
 ],
 "metadata": {
  "kernelspec": {
   "display_name": ".venv",
   "language": "python",
   "name": "python3"
  },
  "language_info": {
   "codemirror_mode": {
    "name": "ipython",
    "version": 3
   },
   "file_extension": ".py",
   "mimetype": "text/x-python",
   "name": "python",
   "nbconvert_exporter": "python",
   "pygments_lexer": "ipython3",
   "version": "3.11.3"
  },
  "orig_nbformat": 4
 },
 "nbformat": 4,
 "nbformat_minor": 2
}
