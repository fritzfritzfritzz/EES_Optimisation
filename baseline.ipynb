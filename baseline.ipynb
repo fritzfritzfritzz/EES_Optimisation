{
 "cells": [
  {
   "cell_type": "code",
   "execution_count": 1,
   "metadata": {},
   "outputs": [],
   "source": [
    "import numpy as np\n",
    "import pandas as pd\n",
    "from typing import Optional\n",
    "\n",
    "class MeanBaseline:\n",
    "    def __init__(self) -> None:\n",
    "        self.mean = None\n",
    "\n",
    "    def fit(self, dataframe: pd.DataFrame, window: Optional[int] = None) -> None:\n",
    "        \"\"\"\n",
    "        Fit the MeanBaseline model to the input DataFrame.\n",
    "\n",
    "        Args:\n",
    "            dataframe (pd.DataFrame): The input DataFrame.\n",
    "            window (int, optional): The size of the rolling window. If not provided, the window size is set to the\n",
    "                                    number of rows in the DataFrame.\n",
    "\n",
    "        Returns:\n",
    "            None\n",
    "        \"\"\"\n",
    "        if window is None:\n",
    "            window = dataframe.shape[0]\n",
    "\n",
    "        self.mean = dataframe.rolling(window).mean()\n",
    "\n",
    "    def predict(self, length: int) -> pd.DataFrame:\n",
    "        \"\"\"\n",
    "        Generate predictions using the MeanBaseline model.\n",
    "\n",
    "        Args:\n",
    "            length (int): The number of predictions to generate.\n",
    "\n",
    "        Returns:\n",
    "            pd.DataFrame: The predicted values.\n",
    "        \"\"\"\n",
    "        array = np.ones(shape=(length, self.mean.shape[1]))\n",
    "        result = array * np.array(self.mean.iloc[-1, :])\n",
    "        result = pd.DataFrame(result)\n",
    "        return result\n"
   ]
  },
  {
   "cell_type": "code",
   "execution_count": null,
   "metadata": {},
   "outputs": [],
   "source": [
    "class OffsetBaseline:\n",
    "    def __init__(self) -> None:\n",
    "        self.offset = None\n",
    "\n",
    "    def fit(self, dataframe: pd.DataFrame, offset: int) -> None:\n",
    "        \"\"\"\n",
    "        Fit the OffsetBaseline model to the input DataFrame.\n",
    "\n",
    "        Args:\n",
    "            dataframe (pd.DataFrame): The input DataFrame.\n",
    "            offset (int): Model is looking back with offset on trained data\n",
    "\n",
    "        Returns:\n",
    "            None\n",
    "        \"\"\"\n",
    "\n",
    "        self.offset = dataframe.offset(offset) # CONTINUE HERE!!!!!!!!!\n",
    "\n",
    "    def predict(self, length: int) -> pd.DataFrame:\n",
    "        \"\"\"\n",
    "        Generate predictions using the MeanBaseline model.\n",
    "\n",
    "        Args:\n",
    "            length (int): The number of predictions to generate.\n",
    "\n",
    "        Returns:\n",
    "            pd.DataFrame: The predicted values.\n",
    "        \"\"\"\n",
    "        array = np.ones(shape=(length, self.mean.shape[1]))\n",
    "        result = array * np.array(self.mean.iloc[-1, :])\n",
    "        result = pd.DataFrame(result)\n",
    "        return result\n"
   ]
  },
  {
   "cell_type": "code",
   "execution_count": 2,
   "metadata": {},
   "outputs": [],
   "source": [
    "df = pd.read_pickle('data/final_dataframe.pkl')"
   ]
  },
  {
   "cell_type": "code",
   "execution_count": 3,
   "metadata": {},
   "outputs": [],
   "source": [
    "column_names = ['date','pv_orig','pv_calc','load_orig','price_calc']"
   ]
  },
  {
   "cell_type": "code",
   "execution_count": 4,
   "metadata": {},
   "outputs": [],
   "source": [
    "df.columns = column_names"
   ]
  },
  {
   "cell_type": "code",
   "execution_count": 5,
   "metadata": {},
   "outputs": [
    {
     "data": {
      "text/html": [
       "<div>\n",
       "<style scoped>\n",
       "    .dataframe tbody tr th:only-of-type {\n",
       "        vertical-align: middle;\n",
       "    }\n",
       "\n",
       "    .dataframe tbody tr th {\n",
       "        vertical-align: top;\n",
       "    }\n",
       "\n",
       "    .dataframe thead th {\n",
       "        text-align: right;\n",
       "    }\n",
       "</style>\n",
       "<table border=\"1\" class=\"dataframe\">\n",
       "  <thead>\n",
       "    <tr style=\"text-align: right;\">\n",
       "      <th></th>\n",
       "      <th>date</th>\n",
       "      <th>pv_orig</th>\n",
       "      <th>pv_calc</th>\n",
       "      <th>load_orig</th>\n",
       "      <th>price_calc</th>\n",
       "    </tr>\n",
       "  </thead>\n",
       "  <tbody>\n",
       "    <tr>\n",
       "      <th>0</th>\n",
       "      <td>2018-10-01 00:00:00</td>\n",
       "      <td>0.0</td>\n",
       "      <td>42805</td>\n",
       "      <td>NaN</td>\n",
       "      <td>59.53</td>\n",
       "    </tr>\n",
       "    <tr>\n",
       "      <th>1</th>\n",
       "      <td>2018-10-01 00:15:00</td>\n",
       "      <td>0.0</td>\n",
       "      <td>42805</td>\n",
       "      <td>NaN</td>\n",
       "      <td>59.53</td>\n",
       "    </tr>\n",
       "    <tr>\n",
       "      <th>2</th>\n",
       "      <td>2018-10-01 00:30:00</td>\n",
       "      <td>0.0</td>\n",
       "      <td>42805</td>\n",
       "      <td>NaN</td>\n",
       "      <td>59.53</td>\n",
       "    </tr>\n",
       "    <tr>\n",
       "      <th>3</th>\n",
       "      <td>2018-10-01 00:45:00</td>\n",
       "      <td>0.0</td>\n",
       "      <td>42805</td>\n",
       "      <td>NaN</td>\n",
       "      <td>59.53</td>\n",
       "    </tr>\n",
       "    <tr>\n",
       "      <th>4</th>\n",
       "      <td>2018-10-01 01:00:00</td>\n",
       "      <td>0.0</td>\n",
       "      <td>42805</td>\n",
       "      <td>10,589.75</td>\n",
       "      <td>56.10</td>\n",
       "    </tr>\n",
       "  </tbody>\n",
       "</table>\n",
       "</div>"
      ],
      "text/plain": [
       "                 date pv_orig  pv_calc  load_orig  price_calc\n",
       "0 2018-10-01 00:00:00     0.0    42805        NaN       59.53\n",
       "1 2018-10-01 00:15:00     0.0    42805        NaN       59.53\n",
       "2 2018-10-01 00:30:00     0.0    42805        NaN       59.53\n",
       "3 2018-10-01 00:45:00     0.0    42805        NaN       59.53\n",
       "4 2018-10-01 01:00:00     0.0    42805  10,589.75       56.10"
      ]
     },
     "execution_count": 5,
     "metadata": {},
     "output_type": "execute_result"
    }
   ],
   "source": [
    "df.head()"
   ]
  },
  {
   "cell_type": "code",
   "execution_count": 7,
   "metadata": {},
   "outputs": [],
   "source": [
    "df.set_index('date',inplace=True, drop=True)"
   ]
  },
  {
   "cell_type": "code",
   "execution_count": 8,
   "metadata": {},
   "outputs": [
    {
     "name": "stdout",
     "output_type": "stream",
     "text": [
      "<class 'pandas.core.frame.DataFrame'>\n",
      "DatetimeIndex: 163680 entries, 2018-10-01 00:00:00 to 2023-06-01 23:45:00\n",
      "Data columns (total 4 columns):\n",
      " #   Column      Non-Null Count   Dtype  \n",
      "---  ------      --------------   -----  \n",
      " 0   pv_orig     163676 non-null  object \n",
      " 1   pv_calc     163680 non-null  int64  \n",
      " 2   load_orig   163664 non-null  object \n",
      " 3   price_calc  163680 non-null  float64\n",
      "dtypes: float64(1), int64(1), object(2)\n",
      "memory usage: 6.2+ MB\n"
     ]
    }
   ],
   "source": [
    "df.info()"
   ]
  },
  {
   "attachments": {},
   "cell_type": "markdown",
   "metadata": {},
   "source": [
    "Note: There are still object-type columns in the df"
   ]
  },
  {
   "cell_type": "code",
   "execution_count": 9,
   "metadata": {},
   "outputs": [],
   "source": [
    "baseline_model = MeanBaseline()"
   ]
  },
  {
   "cell_type": "code",
   "execution_count": 10,
   "metadata": {},
   "outputs": [],
   "source": [
    "baseline_model.fit(df[['price_calc','pv_calc']], window=24*4)"
   ]
  },
  {
   "cell_type": "code",
   "execution_count": 29,
   "metadata": {},
   "outputs": [],
   "source": [
    "df_new = pd.concat([df.reset_index(drop=True),baseline_model.predict(24*4)],ignore_index=True)"
   ]
  },
  {
   "cell_type": "code",
   "execution_count": 33,
   "metadata": {},
   "outputs": [],
   "source": [
    "df_new.drop(['pv_orig','load_orig'],inplace=True,axis=1)"
   ]
  },
  {
   "cell_type": "code",
   "execution_count": 6,
   "metadata": {},
   "outputs": [],
   "source": [
    "import matplotlib.pyplot as plt"
   ]
  },
  {
   "cell_type": "code",
   "execution_count": 45,
   "metadata": {},
   "outputs": [
    {
     "data": {
      "image/png": "[encoded data removed]",
      "text/plain": [
       "<Figure size 640x480 with 1 Axes>"
      ]
     },
     "metadata": {},
     "output_type": "display_data"
    }
   ],
   "source": [
    "fig = plt.figure()\n",
    "ax = plt.subplot()\n",
    "plt.plot(df_new)\n",
    "plt.ylim(0,200)\n",
    "plt.xlim(163000,164000)\n",
    "plt.show()"
   ]
  },
  {
   "cell_type": "code",
   "execution_count": null,
   "metadata": {},
   "outputs": [],
   "source": [
    "'''class MeanBaseline:\n",
    "\n",
    "    def __init__(self) -> None:\n",
    "        self.mean = None\n",
    "\n",
    "    def fit(self,DataFrame,window=None):\n",
    "        \n",
    "        if window == None:\n",
    "            window = DataFrame.shape[0]\n",
    "\n",
    "        self.mean = DataFrame.rolling(window).mean()\n",
    "\n",
    "    def predict(self,length):\n",
    "        array = np.ones(shape=(length,self.mean.shape[1]))\n",
    "        result = array * np.array(self.mean.iloc[-1,:])\n",
    "        result = pd.DataFrame(result)\n",
    "        return result\n",
    "'''\n"
   ]
  },
  {
   "cell_type": "code",
   "execution_count": 1,
   "metadata": {},
   "outputs": [
    {
     "ename": "NameError",
     "evalue": "name 'df' is not defined",
     "output_type": "error",
     "traceback": [
      "\u001b[0;31m---------------------------------------------------------------------------\u001b[0m",
      "\u001b[0;31mNameError\u001b[0m                                 Traceback (most recent call last)",
      "Cell \u001b[0;32mIn[1], line 1\u001b[0m\n\u001b[0;32m----> 1\u001b[0m df\n",
      "\u001b[0;31mNameError\u001b[0m: name 'df' is not defined"
     ]
    }
   ],
   "source": [
    "df"
   ]
  },
  {
   "cell_type": "code",
   "execution_count": null,
   "metadata": {},
   "outputs": [],
   "source": []
  }
 ],
 "metadata": {
  "kernelspec": {
   "display_name": ".venv",
   "language": "python",
   "name": "python3"
  },
  "language_info": {
   "codemirror_mode": {
    "name": "ipython",
    "version": 3
   },
   "file_extension": ".py",
   "mimetype": "text/x-python",
   "name": "python",
   "nbconvert_exporter": "python",
   "pygments_lexer": "ipython3",
   "version": "3.11.3"
  },
  "orig_nbformat": 4
 },
 "nbformat": 4,
 "nbformat_minor": 2
}
